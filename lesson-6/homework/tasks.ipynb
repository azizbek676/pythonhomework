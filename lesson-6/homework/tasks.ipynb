{
 "cells": [
  {
   "cell_type": "markdown",
   "metadata": {},
   "source": [
    "Bonus task"
   ]
  },
  {
   "cell_type": "code",
   "execution_count": 7,
   "metadata": {},
   "outputs": [
    {
     "ename": "ValueError",
     "evalue": "invalid literal for int() with base 10: 'ty'",
     "output_type": "error",
     "traceback": [
      "\u001b[1;31m---------------------------------------------------------------------------\u001b[0m",
      "\u001b[1;31mValueError\u001b[0m                                Traceback (most recent call last)",
      "Cell \u001b[1;32mIn[7], line 21\u001b[0m\n\u001b[0;32m     19\u001b[0m         \u001b[38;5;28mprint\u001b[39m(\u001b[38;5;124mf\u001b[39m\u001b[38;5;124m\"\u001b[39m\u001b[38;5;124mAn error occurred: \u001b[39m\u001b[38;5;132;01m{\u001b[39;00me\u001b[38;5;132;01m}\u001b[39;00m\u001b[38;5;124m\"\u001b[39m)\n\u001b[0;32m     20\u001b[0m file_name \u001b[38;5;241m=\u001b[39m \u001b[38;5;28minput\u001b[39m(\u001b[38;5;124m\"\u001b[39m\u001b[38;5;124mEnter the name of the text file (with extension): \u001b[39m\u001b[38;5;124m\"\u001b[39m)\n\u001b[1;32m---> 21\u001b[0m top_n \u001b[38;5;241m=\u001b[39m \u001b[38;5;28;43mint\u001b[39;49m\u001b[43m(\u001b[49m\u001b[38;5;28;43minput\u001b[39;49m\u001b[43m(\u001b[49m\u001b[38;5;124;43m\"\u001b[39;49m\u001b[38;5;124;43mEnter the number of top common words to display: \u001b[39;49m\u001b[38;5;124;43m\"\u001b[39;49m\u001b[43m)\u001b[49m\u001b[43m)\u001b[49m\n\u001b[0;32m     22\u001b[0m word_frequency_counter(file_name, top_n)\n",
      "\u001b[1;31mValueError\u001b[0m: invalid literal for int() with base 10: 'ty'"
     ]
    }
   ],
   "source": [
    "import string\n",
    "from collections import Counter\n",
    "def word_frequency_counter(file_name, top_n=10):\n",
    "    try:\n",
    "        word_counts = Counter()\n",
    "        with open(file_name, 'r') as file:\n",
    "            for line in file:\n",
    "                line = line.lower()\n",
    "                line = line.translate(str.maketrans('', '', string.punctuation))\n",
    "                words = line.split()\n",
    "                word_counts.update(words)\n",
    "        print(f\"\\nTop {top_n} Most Common Words:\")\n",
    "        for word, count in word_counts.most_common(top_n):\n",
    "            print(f\"{word}: {count}\")\n",
    "\n",
    "    except FileNotFoundError:\n",
    "        print(\"Error: The file was not found.\")\n",
    "    except Exception as e:\n",
    "        print(f\"An error occurred: {e}\")\n",
    "file_name = input(\"Enter the name of the text file (with extension): \")\n",
    "top_n = int(input(\"Enter the number of top common words to display: \"))\n",
    "word_frequency_counter(file_name, top_n)\n"
   ]
  },
  {
   "cell_type": "markdown",
   "metadata": {},
   "source": [
    "Employee maneger"
   ]
  },
  {
   "cell_type": "code",
   "execution_count": 6,
   "metadata": {},
   "outputs": [
    {
     "name": "stdout",
     "output_type": "stream",
     "text": [
      "Not found.\n",
      "\n",
      "Goodbye!\n"
     ]
    }
   ],
   "source": [
    "import os\n",
    "\n",
    "FILENAME = \"employees.txt\"\n",
    "\n",
    "while True:\n",
    "    choice = input(\"\\n1.Add 2.View 3.Search 4.Update 5.Delete 6.Exit\\nChoice: \")\n",
    "    if choice == \"6\":\n",
    "        print(\"Goodbye!\")\n",
    "        break\n",
    "    \n",
    "    records = open(FILENAME, \"r\").readlines() if os.path.exists(FILENAME) else []\n",
    "    \n",
    "    if choice == \"1\":\n",
    "        with open(FILENAME, \"a\") as file:\n",
    "            file.write(\", \".join(input(f\"Enter {field}: \") for field in [\"Employee ID\", \"Name\", \"Position\", \"Salary\"]) + \"\\n\")\n",
    "        print(\"Employee added!\\n\")\n",
    "    elif choice == \"2\":\n",
    "        print(\"\".join(records) or \"No records found.\\n\")\n",
    "    elif choice == \"3\":\n",
    "        emp_id = input(\"Enter Employee ID: \")\n",
    "        print(next((rec for rec in records if rec.startswith(emp_id + \",\")), \"Not found.\\n\"))\n",
    "    elif choice == \"4\":\n",
    "        emp_id = input(\"Enter Employee ID: \")\n",
    "        records = [\", \".join([emp_id] + [input(f\"Enter new {field}: \") for field in [\"Name\", \"Position\", \"Salary\"]]) + \"\\n\" if rec.startswith(emp_id + \",\") else rec for rec in records]\n",
    "        open(FILENAME, \"w\").writelines(records)\n",
    "        print(\"Updated!\\n\")\n",
    "    elif choice == \"5\":\n",
    "        emp_id = input(\"Enter Employee ID: \")\n",
    "        records = [rec for rec in records if not rec.startswith(emp_id + \",\")]\n",
    "        open(FILENAME, \"w\").writelines(records)\n",
    "        print(\"Deleted!\\n\")\n",
    "    else:\n",
    "        print(\"Invalid choice.\\n\")\n",
    "\n"
   ]
  },
  {
   "cell_type": "markdown",
   "metadata": {},
   "source": [
    "Word frequency"
   ]
  },
  {
   "cell_type": "code",
   "execution_count": null,
   "metadata": {},
   "outputs": [],
   "source": [
    "import os\n",
    "from collections import Counter\n",
    "import string\n",
    "\n",
    "FILENAME = \"sample.txt\"\n",
    "OUTPUT_FILE = \"word_count_report.txt\"\n",
    "\n",
    "if not os.path.exists(FILENAME):\n",
    "    with open(FILENAME, \"w\") as f:\n",
    "        f.write(input(\"Enter text: \") + \"\\n\")\n",
    "\n",
    "text = open(FILENAME).read().lower().translate(str.maketrans('', '', string.punctuation))\n",
    "words = text.split()\n",
    "word_count = Counter(words)\n",
    "\n",
    "total_words = len(words)\n",
    "top_words = word_count.most_common(5)\n",
    "\n",
    "report = f\"Total words: {total_words}\\n\" + \"\\n\".join(f\"{w} - {c}\" for w, c in top_words)\n",
    "print(report)\n",
    "\n",
    "with open(OUTPUT_FILE, \"w\") as f:\n",
    "    f.write(\"Word Count Report\\n\" + report)\n"
   ]
  },
  {
   "cell_type": "markdown",
   "metadata": {},
   "source": [
    "Zero Check Decorator"
   ]
  },
  {
   "cell_type": "code",
   "execution_count": 3,
   "metadata": {},
   "outputs": [
    {
     "name": "stdout",
     "output_type": "stream",
     "text": [
      "4.0\n",
      "Denominator can't be zero\n"
     ]
    }
   ],
   "source": [
    "def check(func):\n",
    "    def wrapper(a, b):\n",
    "        if b == 0:\n",
    "            return \"Denominator can't be zero\"\n",
    "        return func(a, b)\n",
    "    return wrapper\n",
    "\n",
    "@check\n",
    "def div(a, b):\n",
    "    return a / b\n",
    "num1=int(input(\"Enter the first numbers: \"))\n",
    "num2=int(input(\"Enter the second numbers: \"))\n",
    "num3=int(input(\"Enter the third numbers: \"))\n",
    "num4=int(input(\"Enter the fourth numbers: \"))\n",
    "print(div(num1,num2))  \n",
    "print(div(num3,num4))  "
   ]
  }
 ],
 "metadata": {
  "kernelspec": {
   "display_name": "Python 3",
   "language": "python",
   "name": "python3"
  },
  "language_info": {
   "codemirror_mode": {
    "name": "ipython",
    "version": 3
   },
   "file_extension": ".py",
   "mimetype": "text/x-python",
   "name": "python",
   "nbconvert_exporter": "python",
   "pygments_lexer": "ipython3",
   "version": "3.10.10"
  }
 },
 "nbformat": 4,
 "nbformat_minor": 2
}
