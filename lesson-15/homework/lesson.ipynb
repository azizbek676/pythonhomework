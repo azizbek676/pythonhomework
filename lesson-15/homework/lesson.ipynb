{
 "cells": [
  {
   "cell_type": "markdown",
   "metadata": {},
   "source": [
    "1"
   ]
  },
  {
   "cell_type": "code",
   "execution_count": 4,
   "metadata": {},
   "outputs": [
    {
     "name": "stdout",
     "output_type": "stream",
     "text": [
      "[10 11 12 13 14 15 16 17 18 19 20 21 22 23 24 25 26 27 28 29 30 31 32 33\n",
      " 34 35 36 37 38 39 40 41 42 43 44 45 46 47 48 49]\n"
     ]
    }
   ],
   "source": [
    "import numpy as np\n",
    "\n",
    "vector = np.arange(10, 50)\n",
    "print(vector)\n"
   ]
  },
  {
   "cell_type": "markdown",
   "metadata": {},
   "source": [
    "2"
   ]
  },
  {
   "cell_type": "code",
   "execution_count": 5,
   "metadata": {},
   "outputs": [
    {
     "name": "stdout",
     "output_type": "stream",
     "text": [
      "[[0 1 2]\n",
      " [3 4 5]\n",
      " [6 7 8]]\n"
     ]
    }
   ],
   "source": [
    "matrix = np.arange(9).reshape(3, 3)\n",
    "print(matrix)"
   ]
  },
  {
   "cell_type": "markdown",
   "metadata": {},
   "source": [
    "3"
   ]
  },
  {
   "cell_type": "code",
   "execution_count": 6,
   "metadata": {},
   "outputs": [
    {
     "name": "stdout",
     "output_type": "stream",
     "text": [
      "[[1. 0. 0.]\n",
      " [0. 1. 0.]\n",
      " [0. 0. 1.]]\n"
     ]
    }
   ],
   "source": [
    "identity_matrix = np.eye(3)\n",
    "print(identity_matrix)"
   ]
  },
  {
   "cell_type": "markdown",
   "metadata": {},
   "source": [
    "4"
   ]
  },
  {
   "cell_type": "code",
   "execution_count": 7,
   "metadata": {},
   "outputs": [
    {
     "name": "stdout",
     "output_type": "stream",
     "text": [
      "3x3x3 Random Array:\n",
      " [[[0.68810864 0.1102364  0.9413054 ]\n",
      "  [0.94396798 0.7548933  0.6248229 ]\n",
      "  [0.74367798 0.96024438 0.25729066]]\n",
      "\n",
      " [[0.04269686 0.85558112 0.66305986]\n",
      "  [0.27613061 0.86307701 0.37695258]\n",
      "  [0.30651146 0.72086073 0.21882711]]\n",
      "\n",
      " [[0.47393477 0.9691099  0.59357695]\n",
      "  [0.13087958 0.65693145 0.66854897]\n",
      "  [0.4160085  0.07051467 0.2686296 ]]]\n"
     ]
    }
   ],
   "source": [
    "array_3x3x3 = np.random.random((3, 3, 3))\n",
    "print(\"3x3x3 Random Array:\\n\", array_3x3x3)\n"
   ]
  },
  {
   "cell_type": "markdown",
   "metadata": {},
   "source": [
    "5"
   ]
  },
  {
   "cell_type": "code",
   "execution_count": 8,
   "metadata": {},
   "outputs": [
    {
     "name": "stdout",
     "output_type": "stream",
     "text": [
      "\n",
      "10x10 Random Array:\n",
      " [[0.07958495 0.50592427 0.15504809 0.83153646 0.71253536 0.94034614\n",
      "  0.31701106 0.84365229 0.46100869 0.60873355]\n",
      " [0.78637514 0.53998923 0.74480184 0.41942901 0.79609317 0.7495621\n",
      "  0.55999044 0.15463933 0.34926094 0.77029348]\n",
      " [0.97557846 0.07476388 0.2765849  0.55302352 0.75816934 0.77619054\n",
      "  0.89855673 0.80450738 0.7654856  0.30319771]\n",
      " [0.122447   0.39374485 0.36892322 0.69228747 0.38329233 0.651156\n",
      "  0.02698211 0.75670979 0.11752761 0.99587968]\n",
      " [0.161483   0.68850851 0.76126478 0.52121288 0.97291527 0.02215898\n",
      "  0.65080377 0.80298049 0.23487535 0.76280204]\n",
      " [0.21553631 0.49947422 0.22282621 0.37760688 0.57087817 0.64926179\n",
      "  0.68409832 0.70163679 0.48352403 0.72900631]\n",
      " [0.87133047 0.71919802 0.18834272 0.0440871  0.8454157  0.84291445\n",
      "  0.92907558 0.36743606 0.92445965 0.84517183]\n",
      " [0.82037671 0.01924274 0.30787706 0.65337715 0.56067871 0.48521105\n",
      "  0.69295603 0.84467518 0.76927356 0.767011  ]\n",
      " [0.81668702 0.84051685 0.57769252 0.93907238 0.56718468 0.1385819\n",
      "  0.84160807 0.52809591 0.75603771 0.0158597 ]\n",
      " [0.24834457 0.0663604  0.80204118 0.15398738 0.47898939 0.52803361\n",
      "  0.23260061 0.90390969 0.87241853 0.43841137]]\n",
      "Min Value: 0.015859702074421222 Max Value: 0.9958796769548105\n"
     ]
    }
   ],
   "source": [
    "array_10x10 = np.random.random((10, 10))\n",
    "min_value = array_10x10.min()\n",
    "max_value = array_10x10.max()\n",
    "print(\"\\n10x10 Random Array:\\n\", array_10x10)\n",
    "print(\"Min Value:\", min_value, \"Max Value:\", max_value)"
   ]
  },
  {
   "cell_type": "markdown",
   "metadata": {},
   "source": [
    "6"
   ]
  },
  {
   "cell_type": "code",
   "execution_count": 9,
   "metadata": {},
   "outputs": [
    {
     "name": "stdout",
     "output_type": "stream",
     "text": [
      "\n",
      "Mean Value of Random Vector: 0.5599611682592738\n"
     ]
    }
   ],
   "source": [
    "vector_30 = np.random.random(30)\n",
    "mean_value = vector_30.mean()\n",
    "print(\"\\nMean Value of Random Vector:\", mean_value)"
   ]
  },
  {
   "cell_type": "markdown",
   "metadata": {},
   "source": [
    "7"
   ]
  },
  {
   "cell_type": "code",
   "execution_count": 10,
   "metadata": {},
   "outputs": [
    {
     "name": "stdout",
     "output_type": "stream",
     "text": [
      "\n",
      "Normalized 5x5 Matrix:\n",
      " [[0.44511799 0.99445586 0.02424992 1.         0.05391142]\n",
      " [0.80965261 0.36179645 0.24591822 0.46595867 0.55193511]\n",
      " [0.0181371  0.86439975 0.80057203 0.17349997 0.41507988]\n",
      " [0.50098403 0.         0.63288942 0.72206457 0.85812288]\n",
      " [0.77281625 0.27444182 0.81491344 0.7508063  0.79542663]]\n"
     ]
    }
   ],
   "source": [
    "matrix_5x5 = np.random.random((5, 5))\n",
    "normalized_matrix = (matrix_5x5 - np.min(matrix_5x5)) / (np.max(matrix_5x5) - np.min(matrix_5x5))\n",
    "print(\"\\nNormalized 5x5 Matrix:\\n\", normalized_matrix)\n"
   ]
  },
  {
   "cell_type": "markdown",
   "metadata": {},
   "source": [
    "8"
   ]
  },
  {
   "cell_type": "code",
   "execution_count": 11,
   "metadata": {},
   "outputs": [
    {
     "name": "stdout",
     "output_type": "stream",
     "text": [
      "\n",
      "Matrix Product (5x3) * (3x2):\n",
      " [[1.17820881 0.87458822]\n",
      " [1.40661403 1.15207951]\n",
      " [0.47716632 0.43238317]\n",
      " [1.26972155 0.96423541]\n",
      " [0.50398034 0.41185655]]\n"
     ]
    }
   ],
   "source": [
    "matrix_5x3 = np.random.random((5, 3))\n",
    "matrix_3x2 = np.random.random((3, 2))\n",
    "matrix_product = np.dot(matrix_5x3, matrix_3x2)\n",
    "print(\"\\nMatrix Product (5x3) * (3x2):\\n\", matrix_product)"
   ]
  },
  {
   "cell_type": "markdown",
   "metadata": {},
   "source": [
    "9"
   ]
  },
  {
   "cell_type": "code",
   "execution_count": 12,
   "metadata": {},
   "outputs": [
    {
     "name": "stdout",
     "output_type": "stream",
     "text": [
      "\n",
      "Dot Product of Two 3x3 Matrices:\n",
      " [[0.65344402 1.05253287 0.58397049]\n",
      " [0.63746025 1.01201629 0.73730325]\n",
      " [0.51557855 0.83161272 1.0433787 ]]\n"
     ]
    }
   ],
   "source": [
    "matrix_A = np.random.random((3, 3))\n",
    "matrix_B = np.random.random((3, 3))\n",
    "dot_product = np.dot(matrix_A, matrix_B)\n",
    "print(\"\\nDot Product of Two 3x3 Matrices:\\n\", dot_product)"
   ]
  },
  {
   "cell_type": "markdown",
   "metadata": {},
   "source": [
    "10"
   ]
  },
  {
   "cell_type": "code",
   "execution_count": 13,
   "metadata": {},
   "outputs": [
    {
     "name": "stdout",
     "output_type": "stream",
     "text": [
      "\n",
      "Transpose of 4x4 Matrix:\n",
      " [[0.99587238 0.39009456 0.80275822 0.43015987]\n",
      " [0.95379891 0.621983   0.39904665 0.83047387]\n",
      " [0.3458431  0.4027437  0.88442408 0.49386617]\n",
      " [0.57112402 0.34090737 0.48699641 0.38531484]]\n"
     ]
    }
   ],
   "source": [
    "matrix_4x4 = np.random.random((4, 4))\n",
    "transpose_matrix = matrix_4x4.T\n",
    "print(\"\\nTranspose of 4x4 Matrix:\\n\", transpose_matrix)"
   ]
  },
  {
   "cell_type": "markdown",
   "metadata": {},
   "source": [
    "11"
   ]
  },
  {
   "cell_type": "code",
   "execution_count": 14,
   "metadata": {},
   "outputs": [
    {
     "name": "stdout",
     "output_type": "stream",
     "text": [
      "\n",
      "Determinant of 3x3 Matrix: 0.4754468006608953\n"
     ]
    }
   ],
   "source": [
    "matrix_3x3 = np.random.random((3, 3))\n",
    "determinant = np.linalg.det(matrix_3x3)\n",
    "print(\"\\nDeterminant of 3x3 Matrix:\", determinant)"
   ]
  },
  {
   "cell_type": "markdown",
   "metadata": {},
   "source": [
    "12"
   ]
  },
  {
   "cell_type": "code",
   "execution_count": 15,
   "metadata": {},
   "outputs": [
    {
     "name": "stdout",
     "output_type": "stream",
     "text": [
      "\n",
      "Matrix Product (3x4) * (4x3):\n",
      " [[1.07889718 0.45328035 0.50417449]\n",
      " [0.33152154 0.28403484 0.12723134]\n",
      " [1.47837842 0.50555575 0.69989013]]\n"
     ]
    }
   ],
   "source": [
    "matrix_A_3x4 = np.random.random((3, 4))\n",
    "matrix_B_4x3 = np.random.random((4, 3))\n",
    "matrix_product_AB = np.dot(matrix_A_3x4, matrix_B_4x3)\n",
    "print(\"\\nMatrix Product (3x4) * (4x3):\\n\", matrix_product_AB)"
   ]
  },
  {
   "cell_type": "markdown",
   "metadata": {},
   "source": [
    "13"
   ]
  },
  {
   "cell_type": "code",
   "execution_count": 16,
   "metadata": {},
   "outputs": [
    {
     "name": "stdout",
     "output_type": "stream",
     "text": [
      "\n",
      "Matrix-Vector Product:\n",
      " [[0.43747271]\n",
      " [0.25488665]\n",
      " [0.58643248]]\n"
     ]
    }
   ],
   "source": [
    "matrix_3x3 = np.random.random((3, 3))\n",
    "vector_3x1 = np.random.random((3, 1))\n",
    "matrix_vector_product = np.dot(matrix_3x3, vector_3x1)\n",
    "print(\"\\nMatrix-Vector Product:\\n\", matrix_vector_product)"
   ]
  },
  {
   "cell_type": "markdown",
   "metadata": {},
   "source": [
    "14"
   ]
  },
  {
   "cell_type": "code",
   "execution_count": 17,
   "metadata": {},
   "outputs": [
    {
     "name": "stdout",
     "output_type": "stream",
     "text": [
      "\n",
      "Solution to Ax = b:\n",
      " [[ 0.22929221]\n",
      " [ 0.27769062]\n",
      " [-0.30897254]]\n"
     ]
    }
   ],
   "source": [
    "A = np.random.random((3, 3))\n",
    "b = np.random.random((3, 1))\n",
    "x = np.linalg.solve(A, b)\n",
    "print(\"\\nSolution to Ax = b:\\n\", x)\n"
   ]
  },
  {
   "cell_type": "markdown",
   "metadata": {},
   "source": [
    "15"
   ]
  },
  {
   "cell_type": "code",
   "execution_count": 18,
   "metadata": {},
   "outputs": [
    {
     "name": "stdout",
     "output_type": "stream",
     "text": [
      "\n",
      "Row-wise Sums:\n",
      " [2.85132821 2.74239227 2.90053614 3.14618265 1.54636198]\n",
      "Column-wise Sums:\n",
      " [2.79063124 2.11188572 2.75015711 2.90490966 2.62921751]\n"
     ]
    }
   ],
   "source": [
    "matrix_5x5 = np.random.random((5, 5))\n",
    "row_sums = matrix_5x5.sum(axis=1)  \n",
    "column_sums = matrix_5x5.sum(axis=0)\n",
    "print(\"\\nRow-wise Sums:\\n\", row_sums)\n",
    "print(\"Column-wise Sums:\\n\", column_sums)"
   ]
  }
 ],
 "metadata": {
  "kernelspec": {
   "display_name": "Python 3",
   "language": "python",
   "name": "python3"
  },
  "language_info": {
   "codemirror_mode": {
    "name": "ipython",
    "version": 3
   },
   "file_extension": ".py",
   "mimetype": "text/x-python",
   "name": "python",
   "nbconvert_exporter": "python",
   "pygments_lexer": "ipython3",
   "version": "3.10.10"
  }
 },
 "nbformat": 4,
 "nbformat_minor": 2
}
