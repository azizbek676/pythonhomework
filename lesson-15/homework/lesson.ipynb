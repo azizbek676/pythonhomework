{
 "cells": [
  {
   "cell_type": "markdown",
   "metadata": {},
   "source": [
    "1"
   ]
  },
  {
   "cell_type": "code",
   "execution_count": 1,
   "metadata": {},
   "outputs": [],
   "source": [
    "import numpy as np"
   ]
  },
  {
   "cell_type": "code",
   "execution_count": 1,
   "metadata": {},
   "outputs": [
    {
     "ename": "ModuleNotFoundError",
     "evalue": "No module named 'matplotlib'",
     "output_type": "error",
     "traceback": [
      "\u001b[1;31m---------------------------------------------------------------------------\u001b[0m",
      "\u001b[1;31mModuleNotFoundError\u001b[0m                       Traceback (most recent call last)",
      "Cell \u001b[1;32mIn[1], line 1\u001b[0m\n\u001b[1;32m----> 1\u001b[0m \u001b[38;5;28;01mimport\u001b[39;00m \u001b[38;5;21;01mmatplotlib\u001b[39;00m\u001b[38;5;21;01m.\u001b[39;00m\u001b[38;5;21;01mpyplot\u001b[39;00m \u001b[38;5;28;01mas\u001b[39;00m \u001b[38;5;21;01mplt\u001b[39;00m\n",
      "\u001b[1;31mModuleNotFoundError\u001b[0m: No module named 'matplotlib'"
     ]
    }
   ],
   "source": [
    "import matplotlib.pyplot as plt\n"
   ]
  },
  {
   "cell_type": "code",
   "execution_count": null,
   "metadata": {},
   "outputs": [
    {
     "name": "stdout",
     "output_type": "stream",
     "text": [
      "[10 11 12 13 14 15 16 17 18 19 20 21 22 23 24 25 26 27 28 29 30 31 32 33\n",
      " 34 35 36 37 38 39 40 41 42 43 44 45 46 47 48 49]\n"
     ]
    }
   ],
   "source": [
    "vector = np.arange(10, 50)\n",
    "print(vector)"
   ]
  },
  {
   "cell_type": "markdown",
   "metadata": {},
   "source": [
    "2"
   ]
  },
  {
   "cell_type": "code",
   "execution_count": 3,
   "metadata": {},
   "outputs": [
    {
     "name": "stdout",
     "output_type": "stream",
     "text": [
      "[[0 1 2]\n",
      " [3 4 5]\n",
      " [6 7 8]]\n"
     ]
    }
   ],
   "source": [
    "matrix_3x3 = np.arange(9).reshape(3, 3)\n",
    "print(matrix_3x3)"
   ]
  },
  {
   "cell_type": "markdown",
   "metadata": {},
   "source": [
    "3"
   ]
  },
  {
   "cell_type": "code",
   "execution_count": null,
   "metadata": {},
   "outputs": [
    {
     "name": "stdout",
     "output_type": "stream",
     "text": [
      "[[1. 0. 0.]\n",
      " [0. 1. 0.]\n",
      " [0. 0. 1.]]\n"
     ]
    }
   ],
   "source": [
    "identity_matrix = np.eye(3)\n",
    "print(identity_matrix)\n"
   ]
  },
  {
   "cell_type": "markdown",
   "metadata": {},
   "source": [
    "4"
   ]
  },
  {
   "cell_type": "code",
   "execution_count": null,
   "metadata": {},
   "outputs": [
    {
     "name": "stdout",
     "output_type": "stream",
     "text": [
      "3x3x3 Random Array:\n",
      " [[[0.72021247 0.52523851 0.82432666]\n",
      "  [0.90857585 0.65188066 0.25742985]\n",
      "  [0.21941095 0.72919431 0.74501183]]\n",
      "\n",
      " [[0.43437488 0.45063235 0.77063789]\n",
      "  [0.82198114 0.52142916 0.65481426]\n",
      "  [0.52704471 0.15731767 0.62488608]]\n",
      "\n",
      " [[0.29374828 0.93231385 0.75568671]\n",
      "  [0.44960116 0.42748357 0.39124127]\n",
      "  [0.31210534 0.54180215 0.76635807]]]\n"
     ]
    }
   ],
   "source": [
    "array_3x3x3 = np.random.random((3, 3, 3))\n",
    "print(\"3x3x3 Random Array:\\n\", array_3x3x3)\n"
   ]
  },
  {
   "cell_type": "markdown",
   "metadata": {},
   "source": [
    "5"
   ]
  },
  {
   "cell_type": "code",
   "execution_count": null,
   "metadata": {},
   "outputs": [
    {
     "name": "stdout",
     "output_type": "stream",
     "text": [
      "Min Value:  0.03505796908275294\n",
      "Max Value:  0.9989706937511695\n"
     ]
    }
   ],
   "source": [
    "random_10x10 = np.random.random((10, 10))\n",
    "min_value = random_10x10.min()\n",
    "max_value = random_10x10.max()\n",
    "print(\"Min Value: \", min_value)\n",
    "print(\"Max Value: \", max_value)"
   ]
  },
  {
   "cell_type": "markdown",
   "metadata": {},
   "source": [
    "6"
   ]
  },
  {
   "cell_type": "code",
   "execution_count": null,
   "metadata": {},
   "outputs": [
    {
     "name": "stdout",
     "output_type": "stream",
     "text": [
      "Mean Value:  0.46503241301369563\n"
     ]
    }
   ],
   "source": [
    "random_vector = np.random.random(30)\n",
    "mean_value = random_vector.mean()\n",
    "print(\"Mean Value: \", mean_value)"
   ]
  },
  {
   "cell_type": "markdown",
   "metadata": {},
   "source": [
    "7"
   ]
  },
  {
   "cell_type": "code",
   "execution_count": null,
   "metadata": {},
   "outputs": [
    {
     "name": "stdout",
     "output_type": "stream",
     "text": [
      "Normalized 5x5 Array: [[0.27450177 0.64497116 0.         0.60904658 0.91505862]\n",
      " [0.97466171 0.90157579 0.89002137 0.93516864 1.        ]\n",
      " [0.30633413 0.68025654 0.03210355 0.56913902 0.52308955]\n",
      " [0.40851734 0.27837396 0.74800442 0.32552448 0.85965385]\n",
      " [0.08055783 0.32598061 0.4938373  0.15105875 0.79461554]]\n"
     ]
    }
   ],
   "source": [
    "random_5x5 = np.random.random((5, 5))\n",
    "normalized_5x5 = (random_5x5 - random_5x5.min()) / (random_5x5.max() - random_5x5.min())\n",
    "print(\"Normalized 5x5 Array:\", normalized_5x5)"
   ]
  },
  {
   "cell_type": "markdown",
   "metadata": {},
   "source": [
    "8"
   ]
  },
  {
   "cell_type": "code",
   "execution_count": null,
   "metadata": {},
   "outputs": [
    {
     "name": "stdout",
     "output_type": "stream",
     "text": [
      "Matrix A:\n",
      " [[0.18642228 0.58242555 0.67667069]\n",
      " [0.26567353 0.96570378 0.68516045]\n",
      " [0.66948985 0.03326531 0.7428195 ]\n",
      " [0.28955596 0.40558985 0.30098538]\n",
      " [0.16491245 0.90651076 0.55784665]]\n",
      "Matrix B:\n",
      " [[0.8420689  0.2815159 ]\n",
      " [0.29779077 0.75151119]\n",
      " [0.90170017 0.81190333]]\n"
     ]
    }
   ],
   "source": [
    "matrix_A = np.random.random((5, 3))\n",
    "matrix_B = np.random.random((3, 2))\n",
    "matrix_product = np.dot(matrix_A, matrix_B)\n",
    "print(\"Matrix A:\\n\", matrix_A)\n",
    "print(\"Matrix B:\\n\", matrix_B)"
   ]
  },
  {
   "cell_type": "markdown",
   "metadata": {},
   "source": [
    "9"
   ]
  },
  {
   "cell_type": "code",
   "execution_count": null,
   "metadata": {},
   "outputs": [
    {
     "name": "stdout",
     "output_type": "stream",
     "text": [
      "Matrix C:\n",
      " [[0.19440588 0.17507546 0.54569074]\n",
      " [0.45392496 0.98500587 0.19607708]\n",
      " [0.73321087 0.89439933 0.05936078]]\n",
      "Matrix D:\n",
      " [[0.59782929 0.22254186 0.05658499]\n",
      " [0.34298087 0.75006597 0.12100103]\n",
      " [0.5476809  0.8996734  0.29385862]]\n"
     ]
    }
   ],
   "source": [
    "matrix_C = np.random.random((3, 3))\n",
    "matrix_D = np.random.random((3, 3))\n",
    "dot_product = np.dot(matrix_C, matrix_D)\n",
    "print(\"Matrix C:\\n\", matrix_C)\n",
    "print(\"Matrix D:\\n\", matrix_D)"
   ]
  },
  {
   "cell_type": "markdown",
   "metadata": {},
   "source": [
    "10"
   ]
  },
  {
   "cell_type": "code",
   "execution_count": null,
   "metadata": {},
   "outputs": [
    {
     "name": "stdout",
     "output_type": "stream",
     "text": [
      "Matrix 4x4:, matrix_4x4\n"
     ]
    }
   ],
   "source": [
    "matrix_4x4 = np.random.random((4, 4))\n",
    "matrix_4x4_transpose = matrix_4x4.T\n",
    "print(\"Matrix 4x4:, matrix_4x4\")"
   ]
  },
  {
   "cell_type": "markdown",
   "metadata": {},
   "source": [
    "11"
   ]
  },
  {
   "cell_type": "code",
   "execution_count": 4,
   "metadata": {},
   "outputs": [
    {
     "name": "stdout",
     "output_type": "stream",
     "text": [
      "Matrix 3x3: [[0.84106907 0.49423499 0.46840821]\n",
      " [0.24929058 0.45944639 0.52877696]\n",
      " [0.67513076 0.66025002 0.32405565]]\n"
     ]
    }
   ],
   "source": [
    "matrix_3x3_det = np.random.random((3, 3))\n",
    "determinant = np.linalg.det(matrix_3x3_det)\n",
    "print(\"Matrix 3x3:\", matrix_3x3_det)"
   ]
  },
  {
   "cell_type": "markdown",
   "metadata": {},
   "source": [
    "12"
   ]
  },
  {
   "cell_type": "code",
   "execution_count": 5,
   "metadata": {},
   "outputs": [
    {
     "name": "stdout",
     "output_type": "stream",
     "text": [
      "Matrix A 3x4: [[0.66642174 0.85245473 0.59071728 0.5122132 ]\n",
      " [0.98259383 0.72018648 0.722941   0.59198691]\n",
      " [0.90159455 0.18463603 0.07835019 0.8590888 ]]\n"
     ]
    }
   ],
   "source": [
    "matrix_A_3x4 = np.random.random((3, 4))\n",
    "matrix_B_4x3 = np.random.random((4, 3))\n",
    "matrix_AB_product = np.dot(matrix_A_3x4, matrix_B_4x3)\n",
    "print('Matrix A 3x4:', matrix_A_3x4)"
   ]
  },
  {
   "cell_type": "markdown",
   "metadata": {},
   "source": [
    "13"
   ]
  },
  {
   "cell_type": "code",
   "execution_count": null,
   "metadata": {},
   "outputs": [
    {
     "name": "stdout",
     "output_type": "stream",
     "text": [
      "Matrix 3x3 Random: [[0.31786429 0.80576537 0.62070326]\n",
      " [0.54646818 0.10020623 0.34623803]\n",
      " [0.93479823 0.15884754 0.02698974]]\n",
      "Vector 3x1: [[0.2761462 ]\n",
      " [0.0506177 ]\n",
      " [0.98768178]]\n"
     ]
    }
   ],
   "source": [
    "matrix_3x3_rand = np.random.random((3, 3))\n",
    "vector_3x1 = np.random.random((3, 1))\n",
    "matrix_vector_product = np.dot(matrix_3x3_rand, vector_3x1)\n",
    "print(\"Matrix 3x3 Random:\", matrix_3x3_rand)\n",
    "print(\"Vector 3x1:\", vector_3x1)"
   ]
  },
  {
   "cell_type": "markdown",
   "metadata": {},
   "source": [
    "14"
   ]
  },
  {
   "cell_type": "code",
   "execution_count": null,
   "metadata": {},
   "outputs": [
    {
     "name": "stdout",
     "output_type": "stream",
     "text": [
      "Matrix A Linear: [[0.54023311 0.76352083 0.20224952]\n",
      " [0.61617707 0.44016896 0.93719296]\n",
      " [0.93122883 0.9469256  0.92589326]]\n",
      "Vector b Linear: [[0.93343119]\n",
      " [0.58556993]\n",
      " [0.79675944]]\n"
     ]
    }
   ],
   "source": [
    "A_linear = np.random.random((3, 3))\n",
    "b_linear = np.random.random((3, 1))\n",
    "solution_x = np.linalg.solve(A_linear, b_linear)\n",
    "print(\"Matrix A Linear:\", A_linear)\n",
    "print(\"Vector b Linear:\", b_linear)"
   ]
  },
  {
   "cell_type": "markdown",
   "metadata": {},
   "source": [
    "15"
   ]
  },
  {
   "cell_type": "code",
   "execution_count": null,
   "metadata": {},
   "outputs": [
    {
     "name": "stdout",
     "output_type": "stream",
     "text": [
      "Matrix 5x5: [[0.77205942 0.78959606 0.28726741 0.7458041  0.57460654]\n",
      " [0.60638569 0.75762285 0.44042407 0.2091505  0.64211669]\n",
      " [0.71193944 0.72094302 0.6566151  0.06296158 0.97664931]\n",
      " [0.49662414 0.82266067 0.34586581 0.33538614 0.29622647]\n",
      " [0.01450132 0.50297346 0.36492539 0.49680431 0.20790039]]\n",
      "Row Sums:  [3.16933353 2.65569981 3.12910844 2.29676323 1.58710487]\n"
     ]
    }
   ],
   "source": [
    "matrix_5x5 = np.random.random((5, 5))\n",
    "row_sums = matrix_5x5.sum(axis=1)\n",
    "column_sums = matrix_5x5.sum(axis=0)\n",
    "print(\"Matrix 5x5:\", matrix_5x5)\n",
    "print(\"Row Sums: \", row_sums)"
   ]
  }
 ],
 "metadata": {
  "kernelspec": {
   "display_name": "Python 3",
   "language": "python",
   "name": "python3"
  },
  "language_info": {
   "codemirror_mode": {
    "name": "ipython",
    "version": 3
   },
   "file_extension": ".py",
   "mimetype": "text/x-python",
   "name": "python",
   "nbconvert_exporter": "python",
   "pygments_lexer": "ipython3",
   "version": "3.10.10"
  }
 },
 "nbformat": 4,
 "nbformat_minor": 2
}
