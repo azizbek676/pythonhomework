{
 "cells": [
  {
   "cell_type": "markdown",
   "metadata": {},
   "source": [
    "1"
   ]
  },
  {
   "cell_type": "code",
   "execution_count": 28,
   "metadata": {},
   "outputs": [
    {
     "name": "stdout",
     "output_type": "stream",
     "text": [
      "Name or password not  enter.\n"
     ]
    }
   ],
   "source": [
    "username=input('Enter your username:')\n",
    "password=input('Enter your password:')\n",
    "if username and password:\n",
    "        print(\"Both enter.\")\n",
    "else:\n",
    "        print(\"Name or password not  enter.\")"
   ]
  },
  {
   "cell_type": "markdown",
   "metadata": {},
   "source": [
    "2"
   ]
  },
  {
   "cell_type": "code",
   "execution_count": 3,
   "metadata": {},
   "outputs": [
    {
     "name": "stdout",
     "output_type": "stream",
     "text": [
      "Numbers equal\n"
     ]
    }
   ],
   "source": [
    "number1=input('Enter first number:')\n",
    "number2=input('Enter second number:')\n",
    "if number1==number2:\n",
    "          print('Numbers equal')\n",
    "else:\n",
    "          print('Numbers not equal')"
   ]
  },
  {
   "cell_type": "markdown",
   "metadata": {},
   "source": [
    "3"
   ]
  },
  {
   "cell_type": "code",
   "execution_count": 11,
   "metadata": {},
   "outputs": [
    {
     "name": "stdout",
     "output_type": "stream",
     "text": [
      "Which one is mistake\n"
     ]
    }
   ],
   "source": [
    "number=int(input('Enter the number'))\n",
    "if number>0 and number%2==0:\n",
    "          print('Number is even and positive')\n",
    "else:\n",
    "          print('Which one is mistake')"
   ]
  },
  {
   "cell_type": "markdown",
   "metadata": {},
   "source": [
    "4"
   ]
  },
  {
   "cell_type": "code",
   "execution_count": 2,
   "metadata": {},
   "outputs": [
    {
     "name": "stdout",
     "output_type": "stream",
     "text": [
      "Numbers equal\n"
     ]
    }
   ],
   "source": [
    "num1=input('Enter first number:')\n",
    "num2=input('Enter second number:')\n",
    "num3=input('Enter third number:')\n",
    "if num1!=num2 and num2!=num3 and num1!=num3:\n",
    "          print('All numbers different')\n",
    "else:\n",
    "          print('Numbers equal')"
   ]
  },
  {
   "cell_type": "markdown",
   "metadata": {},
   "source": [
    "5"
   ]
  },
  {
   "cell_type": "code",
   "execution_count": 22,
   "metadata": {},
   "outputs": [
    {
     "name": "stdout",
     "output_type": "stream",
     "text": [
      "Texts length same\n"
     ]
    }
   ],
   "source": [
    "text1=input('Write first text:')\n",
    "text2=input('Write second text:')\n",
    "if len(text1)==len(text2):\n",
    "          print('Texts length same')\n",
    "else:\n",
    "          print('Text lengths differ')"
   ]
  },
  {
   "cell_type": "markdown",
   "metadata": {},
   "source": [
    "6"
   ]
  },
  {
   "cell_type": "code",
   "execution_count": 23,
   "metadata": {},
   "outputs": [
    {
     "name": "stdout",
     "output_type": "stream",
     "text": [
      "Son 3ga ham 5ga ham bo'linmaydi.\n"
     ]
    }
   ],
   "source": [
    "number = int(input(\"Raqmni yozing:\"))\n",
    "if number % 3 == 0 and number % 5 == 0:\n",
    "        print( \"Son 3ga ham 5ga ham bo'linadi.\")\n",
    "else:\n",
    "        print(\"Son 3ga ham 5ga ham bo'linmaydi.\")"
   ]
  },
  {
   "cell_type": "markdown",
   "metadata": {},
   "source": [
    "7"
   ]
  },
  {
   "cell_type": "code",
   "execution_count": 3,
   "metadata": {},
   "outputs": [
    {
     "name": "stdout",
     "output_type": "stream",
     "text": [
      "The sum of the two numbers is not greater than 50.8.\n"
     ]
    },
    {
     "ename": "NameError",
     "evalue": "name 'number' is not defined",
     "output_type": "error",
     "traceback": [
      "\u001b[1;31m---------------------------------------------------------------------------\u001b[0m",
      "\u001b[1;31mNameError\u001b[0m                                 Traceback (most recent call last)",
      "Cell \u001b[1;32mIn[3], line 7\u001b[0m\n\u001b[0;32m      5\u001b[0m \u001b[38;5;28;01melse\u001b[39;00m:\n\u001b[0;32m      6\u001b[0m         \u001b[38;5;28mprint\u001b[39m(\u001b[38;5;124m\"\u001b[39m\u001b[38;5;124mThe sum of the two numbers is not greater than 50.8.\u001b[39m\u001b[38;5;124m\"\u001b[39m)\n\u001b[1;32m----> 7\u001b[0m \u001b[38;5;28;01mif\u001b[39;00m \u001b[38;5;241m10\u001b[39m \u001b[38;5;241m<\u001b[39m\u001b[38;5;241m=\u001b[39m \u001b[43mnumber\u001b[49m \u001b[38;5;241m<\u001b[39m\u001b[38;5;241m=\u001b[39m \u001b[38;5;241m20\u001b[39m:\n\u001b[0;32m      8\u001b[0m         \u001b[38;5;28mprint\u001b[39m(\u001b[38;5;124m\"\u001b[39m\u001b[38;5;124mThe number is between 10 and 20 (inclusive).\u001b[39m\u001b[38;5;124m\"\u001b[39m)\n\u001b[0;32m      9\u001b[0m \u001b[38;5;28;01melse\u001b[39;00m:\n",
      "\u001b[1;31mNameError\u001b[0m: name 'number' is not defined"
     ]
    }
   ],
   "source": [
    "num1 = float(input(\"Enter the first number: \"))\n",
    "num2 = float(input(\"Enter the second number: \"))#\n",
    "if num1 + num2 > 50.8:\n",
    "        print(\"The sum of the two numbers is greater than 50.8.\")\n",
    "else:\n",
    "        print(\"The sum of the two numbers is not greater than 50.8.\")\n",
    "if 10 <= number <= 20:\n",
    "        print(\"The number is between 10 and 20 (inclusive).\")\n",
    "else:\n",
    "        print(\"The number is not between 10 and 20 (inclusive).\")\n",
    "        "
   ]
  }
 ],
 "metadata": {
  "kernelspec": {
   "display_name": "Python 3",
   "language": "python",
   "name": "python3"
  },
  "language_info": {
   "codemirror_mode": {
    "name": "ipython",
    "version": 3
   },
   "file_extension": ".py",
   "mimetype": "text/x-python",
   "name": "python",
   "nbconvert_exporter": "python",
   "pygments_lexer": "ipython3",
   "version": "3.10.10"
  }
 },
 "nbformat": 4,
 "nbformat_minor": 2
}
