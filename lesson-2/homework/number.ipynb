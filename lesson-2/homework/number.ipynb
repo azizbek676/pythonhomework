{
 "cells": [
  {
   "cell_type": "markdown",
   "metadata": {},
   "source": [
    "Task1"
   ]
  },
  {
   "cell_type": "code",
   "execution_count": null,
   "metadata": {},
   "outputs": [
    {
     "name": "stdout",
     "output_type": "stream",
     "text": [
      "12.0\n"
     ]
    }
   ],
   "source": [
    "number=float(input('Enter the number:'))\n",
    "rounded_number=round(number,2)\n",
    "print(number)       "
   ]
  },
  {
   "cell_type": "markdown",
   "metadata": {},
   "source": [
    "Task2"
   ]
  },
  {
   "cell_type": "code",
   "execution_count": 14,
   "metadata": {},
   "outputs": [
    {
     "name": "stdout",
     "output_type": "stream",
     "text": [
      "The largest number is: 13.0\n",
      "The smallest number is: 11.0\n"
     ]
    }
   ],
   "source": [
    "number1=float(input('Enter the first number:'))\n",
    "number2=float(input('Enter the second number:'))\n",
    "number3=float(input('Enter the third number:'))\n",
    "largest=max(number1,number2,number3)\n",
    "smallest=min(number1,number2,number3)\n",
    "print('The largest number is:',largest)\n",
    "print('The smallest number is:',smallest)                      "
   ]
  },
  {
   "cell_type": "markdown",
   "metadata": {},
   "source": [
    "Task3"
   ]
  },
  {
   "cell_type": "code",
   "execution_count": 15,
   "metadata": {},
   "outputs": [
    {
     "name": "stdout",
     "output_type": "stream",
     "text": [
      "12000.0 Metr 1200000.0 Centimetr\n"
     ]
    }
   ],
   "source": [
    "length=float(input('Enter the kilometr:'))\n",
    "metr=length*1000\n",
    "centimetr=length*100000\n",
    "print(metr,'Metr',centimetr,'Centimetr')"
   ]
  },
  {
   "cell_type": "markdown",
   "metadata": {},
   "source": [
    "Task4\n"
   ]
  },
  {
   "cell_type": "code",
   "execution_count": 19,
   "metadata": {},
   "outputs": [
    {
     "name": "stdout",
     "output_type": "stream",
     "text": [
      "7.0\n"
     ]
    }
   ],
   "source": [
    "number1=float(input('Enter the first number:'))\n",
    "number2=float(input('Enter the second number:'))\n",
    "divided=number1/number2\n",
    "print(divided)"
   ]
  },
  {
   "cell_type": "markdown",
   "metadata": {},
   "source": [
    "Task5\n"
   ]
  },
  {
   "cell_type": "code",
   "execution_count": 20,
   "metadata": {},
   "outputs": [
    {
     "name": "stdout",
     "output_type": "stream",
     "text": [
      "53.6\n"
     ]
    }
   ],
   "source": [
    "temprature=float(input('Enter the temprature in Celsius:'))\n",
    "fahrenheit=temprature*1.8+32\n",
    "print(fahrenheit)"
   ]
  },
  {
   "cell_type": "markdown",
   "metadata": {},
   "source": [
    "Task6\n"
   ]
  },
  {
   "cell_type": "code",
   "execution_count": 29,
   "metadata": {},
   "outputs": [
    {
     "name": "stdout",
     "output_type": "stream",
     "text": [
      "last digit is, 8\n"
     ]
    }
   ],
   "source": [
    "number=input('Enter the number:')\n",
    "last_digit=number[-1]\n",
    "print(f'last digit is, {last_digit}')"
   ]
  },
  {
   "cell_type": "markdown",
   "metadata": {},
   "source": [
    "Task7"
   ]
  },
  {
   "cell_type": "code",
   "execution_count": 30,
   "metadata": {},
   "outputs": [
    {
     "name": "stdout",
     "output_type": "stream",
     "text": [
      "The number is even\n"
     ]
    }
   ],
   "source": [
    "number=input('Enter the number:')\n",
    "if int(number)%2==0:\n",
    "    print('The number is even')\n",
    "else:\n",
    "    print('The number is odd')"
   ]
  }
 ],
 "metadata": {
  "kernelspec": {
   "display_name": "Python 3",
   "language": "python",
   "name": "python3"
  },
  "language_info": {
   "codemirror_mode": {
    "name": "ipython",
    "version": 3
   },
   "file_extension": ".py",
   "mimetype": "text/x-python",
   "name": "python",
   "nbconvert_exporter": "python",
   "pygments_lexer": "ipython3",
   "version": "3.10.10"
  }
 },
 "nbformat": 4,
 "nbformat_minor": 2
}
