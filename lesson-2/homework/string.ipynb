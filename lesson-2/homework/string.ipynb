{
 "cells": [
  {
   "cell_type": "markdown",
   "metadata": {},
   "source": [
    "1"
   ]
  },
  {
   "cell_type": "code",
   "execution_count": 2,
   "metadata": {},
   "outputs": [
    {
     "name": "stdout",
     "output_type": "stream",
     "text": [
      "your name is: Nodiraxon your birth year: 1981\n"
     ]
    }
   ],
   "source": [
    "name=input(\"Enter your name: \")\n",
    "age=int(input(\"Enter your age: \"))\n",
    "print(f\"your name is: {name} your birth year: {2025-age}\")"
   ]
  },
  {
   "cell_type": "markdown",
   "metadata": {},
   "source": [
    "2"
   ]
  },
  {
   "cell_type": "code",
   "execution_count": null,
   "metadata": {},
   "outputs": [
    {
     "name": "stdout",
     "output_type": "stream",
     "text": [
      "['Tesla', 'Saab', 'Seat', 'Estima', 'Altea', 'Blista']\n"
     ]
    }
   ],
   "source": [
    "txt = \"LMaasleitbtui\"\n",
    "car_brands = [\"Tesla\", \"Saab\", \"Seat\", \"Isseta\", \"Estima\", \"Altea\", \"Blista\"]\n",
    "print([brand for brand in car_brands if all(brand.lower().count(c) <= txt.lower().count(c) for c in brand.lower())])"
   ]
  },
  {
   "cell_type": "markdown",
   "metadata": {},
   "source": [
    "3"
   ]
  },
  {
   "cell_type": "code",
   "execution_count": 3,
   "metadata": {},
   "outputs": [
    {
     "name": "stdout",
     "output_type": "stream",
     "text": [
      "Length of the string: 7\n",
      "Uppercase: AZIZBEK\n",
      "Lowercase: azizbek\n"
     ]
    }
   ],
   "source": [
    "text= input('Enter a string: ')\n",
    "print(f'Length of the string: {len(text)}')\n",
    "uppercase_text =text.upper()\n",
    "print(f'Uppercase: {uppercase_text}')\n",
    "lowercase_text= text.lower()\n",
    "print(f'Lowercase: {lowercase_text}')"
   ]
  },
  {
   "cell_type": "markdown",
   "metadata": {},
   "source": [
    "4"
   ]
  },
  {
   "cell_type": "code",
   "execution_count": 5,
   "metadata": {},
   "outputs": [
    {
     "name": "stdout",
     "output_type": "stream",
     "text": [
      "word_reverse='aridon'\n"
     ]
    }
   ],
   "source": [
    "word=input(\"Enter word: \")\n",
    "word_reverse=word[::-1]\n",
    "print(f'{word_reverse=}')"
   ]
  },
  {
   "cell_type": "markdown",
   "metadata": {},
   "source": [
    "5"
   ]
  },
  {
   "cell_type": "code",
   "execution_count": 23,
   "metadata": {},
   "outputs": [
    {
     "name": "stdout",
     "output_type": "stream",
     "text": [
      "Vowels: 102, Consonants: 141\n"
     ]
    }
   ],
   "source": [
    "vowels = \"aeiouAEIOU\"\n",
    "consonants = \"bcdfghjklmnpqrstvwxyzBCDFGHJKLMNPQRSTVWXYZ\"\n",
    "\n",
    "vowel_count = 0\n",
    "consonant_count = 0\n",
    "\n",
    "input_string = input(\"Enter a string: \")\n",
    "\n",
    "for char in input_string:\n",
    "    if char in vowels:\n",
    "        vowel_count += 1\n",
    "    elif char in consonants:\n",
    "        consonant_count += 1\n",
    "\n",
    "print(f\"Vowels: {vowel_count}, Consonants: {consonant_count}\")\n"
   ]
  },
  {
   "cell_type": "markdown",
   "metadata": {},
   "source": [
    "6"
   ]
  },
  {
   "cell_type": "code",
   "execution_count": 7,
   "metadata": {},
   "outputs": [
    {
     "name": "stdout",
     "output_type": "stream",
     "text": [
      "\"samarqand\" contain \"qand\"\n"
     ]
    }
   ],
   "source": [
    "string1 = input('1-text: ')\n",
    "string2 = input('2-text: ')\n",
    "if string2 in string1:\n",
    "    print(f'\"{string1}\" contain \"{string2}\"')\n",
    "else:\n",
    "    print(f'\"{string1}\" not contain \"{string2}\"')"
   ]
  },
  {
   "cell_type": "markdown",
   "metadata": {},
   "source": [
    "7"
   ]
  },
  {
   "cell_type": "code",
   "execution_count": 1,
   "metadata": {},
   "outputs": [
    {
     "name": "stdout",
     "output_type": "stream",
     "text": [
      "Output: I like banana\n"
     ]
    }
   ],
   "source": [
    "sentence = input(\"Input sentence: \")\n",
    "word_to_replace = input(\"Replace: \")\n",
    "new_word = input(\"With: \")\n",
    "new_sentence = sentence.replace(word_to_replace, new_word)\n",
    "print(\"Output:\", new_sentence)"
   ]
  },
  {
   "cell_type": "markdown",
   "metadata": {},
   "source": [
    "8"
   ]
  },
  {
   "cell_type": "code",
   "execution_count": null,
   "metadata": {},
   "outputs": [],
   "source": [
    "user_string = input(\"Enter text: \")\n",
    "birinchi_char = user_string[0]\n",
    "oxirgi_char = user_string[-1]\n",
    "print(\"First character:\", birinchi_char)\n",
    "print(\"Last character:\", oxirgi_char)"
   ]
  },
  {
   "cell_type": "markdown",
   "metadata": {},
   "source": [
    "9"
   ]
  },
  {
   "cell_type": "code",
   "execution_count": 2,
   "metadata": {},
   "outputs": [
    {
     "name": "stdout",
     "output_type": "stream",
     "text": [
      "Reversed text: yob doog kebzizA\n"
     ]
    }
   ],
   "source": [
    "user_string = input(\"Enter text: \")\n",
    "reversed_string = user_string[::-1]\n",
    "print(\"Reversed text:\", reversed_string)"
   ]
  },
  {
   "cell_type": "markdown",
   "metadata": {},
   "source": [
    "10"
   ]
  },
  {
   "cell_type": "code",
   "execution_count": null,
   "metadata": {},
   "outputs": [],
   "source": [
    "sentence = input(\"Enter sentence: \")\n",
    "words = sentence.split()\n",
    "num_words = len(words)\n",
    "print(\"Words number:\", num_words)"
   ]
  },
  {
   "cell_type": "markdown",
   "metadata": {},
   "source": [
    "11"
   ]
  },
  {
   "cell_type": "code",
   "execution_count": 3,
   "metadata": {},
   "outputs": [
    {
     "name": "stdout",
     "output_type": "stream",
     "text": [
      "Have digit.\n"
     ]
    }
   ],
   "source": [
    "user_string = input(\"Enter sentence: \")\n",
    "contains_digits = any(char.isdigit() for char in user_string)\n",
    "if contains_digits:\n",
    "    print(\"Have digit.\")\n",
    "else:\n",
    "    print(\"Digits not.\")"
   ]
  },
  {
   "cell_type": "markdown",
   "metadata": {},
   "source": [
    "12"
   ]
  },
  {
   "cell_type": "code",
   "execution_count": 4,
   "metadata": {},
   "outputs": [
    {
     "name": "stdout",
     "output_type": "stream",
     "text": [
      "After add characters: A,p,p,l,e, ,B,a,n,a,n,a\n"
     ]
    }
   ],
   "source": [
    "words = input(\"Enter the list\")\n",
    "separator = input(\"Write character(e.g., - or ,): \")\n",
    "joined_string = separator.join(words)\n",
    "print(\"After add characters:\", joined_string)"
   ]
  },
  {
   "cell_type": "markdown",
   "metadata": {},
   "source": [
    "13"
   ]
  },
  {
   "cell_type": "code",
   "execution_count": 10,
   "metadata": {},
   "outputs": [
    {
     "name": "stdout",
     "output_type": "stream",
     "text": [
      "Text not backslashs: az\n"
     ]
    }
   ],
   "source": [
    "user_string = input(\"Enter sentence: \")\n",
    "backslash=input(\"Enter the backslash\")\n",
    "no_spaces_string = user_string.replace(f\"{backslash}\", \"\")\n",
    "print(\"Text not backslashs:\", no_spaces_string)"
   ]
  },
  {
   "cell_type": "markdown",
   "metadata": {},
   "source": [
    "14"
   ]
  },
  {
   "cell_type": "code",
   "execution_count": 12,
   "metadata": {},
   "outputs": [
    {
     "name": "stdout",
     "output_type": "stream",
     "text": [
      "equal.\n"
     ]
    }
   ],
   "source": [
    "string1 = input(\"1-str: \")\n",
    "string2 = input(\"2-str: \")\n",
    "if string1 == string2:\n",
    "    print(\"equal.\")\n",
    "else:\n",
    "    print(\"not equal\")"
   ]
  },
  {
   "cell_type": "markdown",
   "metadata": {},
   "source": [
    "15"
   ]
  },
  {
   "cell_type": "code",
   "execution_count": null,
   "metadata": {},
   "outputs": [],
   "source": [
    "sentence = input(\"Please enter a sentence: \")\n",
    "words = sentence.split()\n",
    "acronym = ''.join(word[0].upper() for word in words)\n",
    "print(\"Output:\", acronym)"
   ]
  },
  {
   "cell_type": "markdown",
   "metadata": {},
   "source": [
    "16"
   ]
  },
  {
   "cell_type": "code",
   "execution_count": null,
   "metadata": {},
   "outputs": [],
   "source": [
    "user_string = input(\"Enter text: \")\n",
    "char_to_remove = input(\"Replce character: \")\n",
    "modified_string = user_string.replace(char_to_remove, \"\")\n",
    "print(\"Charakter removed:\", modified_string)"
   ]
  },
  {
   "cell_type": "markdown",
   "metadata": {},
   "source": [
    "17"
   ]
  },
  {
   "cell_type": "code",
   "execution_count": null,
   "metadata": {},
   "outputs": [
    {
     "name": "stdout",
     "output_type": "stream",
     "text": [
      "Text vowels  replace'*': *z*zb*k\n"
     ]
    }
   ],
   "source": [
    "user_string = input(\"Enter text: \")\n",
    "vowels = \"aeiouAEIOU\"\n",
    "modified_string = ''.join('*' if char in vowels else char for char in user_string)\n",
    "print(\"Text vowels  replace'*':\", modified_string)"
   ]
  },
  {
   "cell_type": "markdown",
   "metadata": {},
   "source": [
    "18"
   ]
  },
  {
   "cell_type": "code",
   "execution_count": 20,
   "metadata": {},
   "outputs": [
    {
     "name": "stdout",
     "output_type": "stream",
     "text": [
      "Not ended: \"boy\".\n"
     ]
    }
   ],
   "source": [
    "text=input(\"Enter the sentence:\")\n",
    "start_word=input(\"Enter the start word:\")\n",
    "end_word=input(\"Enter the end word\")\n",
    "starts_with = user_string.startswith(start_word)\n",
    "ends_with = user_string.endswith(end_word)\n",
    "if starts_with and ends_with:\n",
    "    print(f'Text start:\" {start_word}\" ended: \"{end_word}\".')\n",
    "else:\n",
    "       if not starts_with:\n",
    "          print(f'Not started: \"{start_word}\".')\n",
    "       if not ends_with:\n",
    "        print(f'Not ended: \"{end_word}\".')"
   ]
  }
 ],
 "metadata": {
  "kernelspec": {
   "display_name": "Python 3",
   "language": "python",
   "name": "python3"
  },
  "language_info": {
   "codemirror_mode": {
    "name": "ipython",
    "version": 3
   },
   "file_extension": ".py",
   "mimetype": "text/x-python",
   "name": "python",
   "nbconvert_exporter": "python",
   "pygments_lexer": "ipython3",
   "version": "3.10.10"
  }
 },
 "nbformat": 4,
 "nbformat_minor": 2
}
