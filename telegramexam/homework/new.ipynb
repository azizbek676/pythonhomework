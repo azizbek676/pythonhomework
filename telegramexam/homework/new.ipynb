{
 "cells": [
  {
   "cell_type": "code",
   "execution_count": 7,
   "metadata": {},
   "outputs": [
    {
     "name": "stdout",
     "output_type": "stream",
     "text": [
      "{'ok': True, 'result': [{'update_id': 391275176, 'channel_post': {'message_id': 3, 'sender_chat': {'id': -1002434727371, 'title': 'books new', 'username': 'books_new_azizbek', 'type': 'channel'}, 'chat': {'id': -1002434727371, 'title': 'books new', 'username': 'books_new_azizbek', 'type': 'channel'}, 'date': 1738408176, 'text': 'asle'}}]}\n"
     ]
    },
    {
     "data": {
      "text/plain": [
       "{'ok': True,\n",
       " 'result': {'message_id': 67,\n",
       "  'sender_chat': {'id': -1002434727371,\n",
       "   'title': 'books new',\n",
       "   'username': 'books_new_azizbek',\n",
       "   'type': 'channel'},\n",
       "  'chat': {'id': -1002434727371,\n",
       "   'title': 'books new',\n",
       "   'username': 'books_new_azizbek',\n",
       "   'type': 'channel'},\n",
       "  'date': 1738476445,\n",
       "  'document': {'file_name': 'demo_book.pdf',\n",
       "   'mime_type': 'application/pdf',\n",
       "   'thumbnail': {'file_id': 'AAMCAgADIQYABJEe_csAA0NnnwudDu8lpmviXIXxM2fZdFpT6wAC42oAAtwu-EiOHHhd_Zf0fAEAB20AAzYE',\n",
       "    'file_unique_id': 'AQAD42oAAtwu-Ehy',\n",
       "    'file_size': 1220,\n",
       "    'width': 226,\n",
       "    'height': 320},\n",
       "   'thumb': {'file_id': 'AAMCAgADIQYABJEe_csAA0NnnwudDu8lpmviXIXxM2fZdFpT6wAC42oAAtwu-EiOHHhd_Zf0fAEAB20AAzYE',\n",
       "    'file_unique_id': 'AQAD42oAAtwu-Ehy',\n",
       "    'file_size': 1220,\n",
       "    'width': 226,\n",
       "    'height': 320},\n",
       "   'file_id': 'BQACAgIAAyEGAASRHv3LAANDZ58LnQ7vJaZr4lyF8TNn2XRaU-sAAuNqAALcLvhIjhx4Xf2X9Hw2BA',\n",
       "   'file_unique_id': 'AgAD42oAAtwu-Eg',\n",
       "   'file_size': 261116}}}"
      ]
     },
     "execution_count": 7,
     "metadata": {},
     "output_type": "execute_result"
    }
   ],
   "source": [
    "import requests\n",
    "\n",
    "TOKEN = \"8022376685:AAEWQ18FO-ryaxArSx6ItOGznp5eU8wXCog\"\n",
    "BASE_URL = f\"https://api.telegram.org/bot{TOKEN}/\"\n",
    "chat_id='-1002434727371'\n",
    "\n",
    "def get_updates():\n",
    "    url = BASE_URL + \"getUpdates\"\n",
    "    response = requests.get(url)\n",
    "    return response.json()\n",
    "print(get_updates())\n",
    "def send_pdf(file_path):\n",
    "    url = f\"https://api.telegram.org/bot{TOKEN}/sendDocument\"\n",
    "    \n",
    "    with open(file_path, \"rb\") as file:\n",
    "        files = {\"document\": file}\n",
    "        data = {\"chat_id\": chat_id}\n",
    "        \n",
    "        response = requests.post(url, data=data, files=files)\n",
    "    \n",
    "    return response.json()\n",
    "send_pdf(\"english_books/demo_book.pdf\")\n",
    "\n"
   ]
  },
  {
   "cell_type": "code",
   "execution_count": 8,
   "metadata": {},
   "outputs": [
    {
     "name": "stdout",
     "output_type": "stream",
     "text": [
      "Screenshot saved as photos/screenshot.png\n"
     ]
    },
    {
     "data": {
      "text/plain": [
       "{'ok': False,\n",
       " 'error_code': 400,\n",
       " 'description': 'Bad Request: message to be replied not found'}"
      ]
     },
     "execution_count": 8,
     "metadata": {},
     "output_type": "execute_result"
    }
   ],
   "source": [
    "import fitz \n",
    "\n",
    "PDF_PATH = \"english_books/demo_book.pdf\"\n",
    "OUTPUT_IMAGE = \"photos/screenshot.png\"\n",
    "\n",
    "def pdf_screenshot_pymupdf(pdf_path, page_number=0, output_image=\"photos/screenshot.png\"):\n",
    "    doc = fitz.open(pdf_path)  \n",
    "    page = doc[page_number]  \n",
    "    pix = page.get_pixmap()  \n",
    "    pix.save(output_image) \n",
    "    print(f\"Screenshot saved as {output_image}\")\n",
    "\n",
    "# Example: Take a screenshot of the first page\n",
    "pdf_screenshot_pymupdf(PDF_PATH, page_number=0, output_image=OUTPUT_IMAGE)\n",
    "\n",
    "\n",
    "\n",
    "\n",
    "\n",
    "\n",
    "MESSAGE_ID = 4 # Replace with the ID of the message you want to reply to\n",
    "\n",
    "def reply_to_message(chat_id, message_id, text):\n",
    "    url = f\"https://api.telegram.org/bot{TOKEN}/sendMessage\"\n",
    "    payload = {\n",
    "        \"chat_id\": chat_id,\n",
    "        \"text\": text,\n",
    "        \"reply_to_message_id\": message_id\n",
    "    }\n",
    "    \n",
    "    response = requests.post(url, json=payload)\n",
    "    return response.json()\n",
    "\n",
    "# Example: Replying with \"Hello!\" to a specific message\n",
    "reply_to_message(chat_id, MESSAGE_ID, \"Hello! 👋\")\n"
   ]
  },
  {
   "cell_type": "code",
   "execution_count": 9,
   "metadata": {},
   "outputs": [
    {
     "name": "stdout",
     "output_type": "stream",
     "text": [
      "Screenshot saved as photos/screenshot.png\n"
     ]
    },
    {
     "data": {
      "text/plain": [
       "{'ok': False,\n",
       " 'error_code': 400,\n",
       " 'description': 'Bad Request: message to be replied not found'}"
      ]
     },
     "execution_count": 9,
     "metadata": {},
     "output_type": "execute_result"
    }
   ],
   "source": [
    "import fitz  # PyMuPDF\n",
    "\n",
    "PDF_PATH = \"english_books/demo_book.pdf\"\n",
    "OUTPUT_IMAGE = \"photos/screenshot.png\"\n",
    "\n",
    "def pdf_screenshot_pymupdf(pdf_path, page_number=0, output_image=\"photos/screenshot.png\"):\n",
    "    doc = fitz.open(pdf_path)  # Open the PDF\n",
    "    page = doc[page_number]  # Select the page\n",
    "    pix = page.get_pixmap()  # Convert to image\n",
    "    pix.save(output_image)  # Save image file\n",
    "    print(f\"Screenshot saved as {output_image}\")\n",
    "\n",
    "# Example: Take a screenshot of the first page\n",
    "pdf_screenshot_pymupdf(PDF_PATH, page_number=0, output_image=OUTPUT_IMAGE)\n",
    "\n",
    "\n",
    "\n",
    "\n",
    "\n",
    "MESSAGE_ID = 4\n",
    "PHOTO_PATH = OUTPUT_IMAGE  # Replace with the actual photo path\n",
    "\n",
    "def reply_with_photo(chat_id, message_id, photo_path, caption=\"Here is your image! 📷\"):\n",
    "    url = f\"https://api.telegram.org/bot{TOKEN}/sendPhoto\"\n",
    "    \n",
    "    with open(photo_path, \"rb\") as photo:\n",
    "        files = {\"photo\": photo}\n",
    "        data = {\"chat_id\": chat_id, \"reply_to_message_id\": message_id, \"caption\": caption}\n",
    "        \n",
    "        response = requests.post(url, data=data, files=files)\n",
    "    return response.json()\n",
    "\n",
    "# Example: Replying with a photo\n",
    "reply_with_photo(chat_id, MESSAGE_ID, PHOTO_PATH)\n"
   ]
  },
  {
   "cell_type": "code",
   "execution_count": 10,
   "metadata": {},
   "outputs": [
    {
     "name": "stdout",
     "output_type": "stream",
     "text": [
      "['7-sonli buyruq.pdf', 'demo_book.pdf', '[@Abrors_IELTS] challenge day 4 article.pdf', '[@ielts_mirko] FULL READING 2025.pdf', '[@inglizcha] Animal farm.pdf', '[IELTS with Abror Hamdamov] challenge1.pdf', '{@ielts_mirko} New Scientist 13.07.pdf']\n"
     ]
    }
   ],
   "source": [
    "import os\n",
    "\n",
    "FOLDER_PATH = \"english_books\"  # Replace with your folder path\n",
    "\n",
    "def list_pdfs(folder_path):\n",
    "    return [f for f in os.listdir(folder_path) if f.endswith(\".pdf\")]\n",
    "\n",
    "pdf_files = list_pdfs(FOLDER_PATH)\n",
    "print(pdf_files)  # Output: ['file1.pdf', 'file2.pdf', ...]\n"
   ]
  },
  {
   "cell_type": "code",
   "execution_count": null,
   "metadata": {},
   "outputs": [
    {
     "name": "stdout",
     "output_type": "stream",
     "text": [
      "Screenshot saved as photos/screenshot.png\n",
      "Screenshot saved as photos/screenshot.png\n",
      "Screenshot saved as photos/screenshot.png\n",
      "Screenshot saved as photos/screenshot.png\n",
      "Screenshot saved as photos/screenshot.png\n",
      "Screenshot saved as photos/screenshot.png\n"
     ]
    }
   ],
   "source": [
    "import time\n",
    "MESSAGE_ID=1\n",
    "for book in pdf_files:\n",
    "          send_pdf(f\"english_books/{book}\")\n",
    "          pdf_screenshot_pymupdf(f\"english_books/{book}\", page_number=0, output_image=OUTPUT_IMAGE)\n",
    "          reply_with_photo(chat_id, MESSAGE_ID, PHOTO_PATH)  \n",
    "          MESSAGE_ID=MESSAGE_ID+2\n",
    "          time.sleep(30)\n",
    "\n"
   ]
  }
 ],
 "metadata": {
  "kernelspec": {
   "display_name": "Python 3",
   "language": "python",
   "name": "python3"
  },
  "language_info": {
   "codemirror_mode": {
    "name": "ipython",
    "version": 3
   },
   "file_extension": ".py",
   "mimetype": "text/x-python",
   "name": "python",
   "nbconvert_exporter": "python",
   "pygments_lexer": "ipython3",
   "version": "3.10.10"
  }
 },
 "nbformat": 4,
 "nbformat_minor": 2
}
