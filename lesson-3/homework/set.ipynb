{
 "cells": [
  {
   "cell_type": "markdown",
   "metadata": {},
   "source": [
    "1"
   ]
  },
  {
   "cell_type": "code",
   "execution_count": null,
   "metadata": {},
   "outputs": [],
   "source": [
    "set1_input = input(\"Enter elements for the first set, separated by spaces: \")\n",
    "set1 = set(map(int, set1_input.split()))\n",
    "\n",
    "set2_input = input(\"Enter elements for the second set, separated by spaces: \")\n",
    "set2 = set(map(int, set2_input.split()))\n",
    "\n",
    "union_set = set1.union(set2)\n",
    "\n",
    "union_set"
   ]
  },
  {
   "cell_type": "markdown",
   "metadata": {},
   "source": [
    "2"
   ]
  },
  {
   "cell_type": "code",
   "execution_count": null,
   "metadata": {},
   "outputs": [],
   "source": [
    "set1_input = input(\"Enter elements for the first set, separated by spaces: \")\n",
    "set1 = set(map(int, set1_input.split()))\n",
    "\n",
    "set2_input = input(\"Enter elements for the second set, separated by spaces: \")\n",
    "set2 = set(map(int, set2_input.split()))\n",
    "\n",
    "intersection_set = set1.intersection(set2)\n",
    "\n",
    "intersection_set"
   ]
  },
  {
   "cell_type": "markdown",
   "metadata": {},
   "source": [
    "3"
   ]
  },
  {
   "cell_type": "code",
   "execution_count": null,
   "metadata": {},
   "outputs": [],
   "source": [
    "set1_input = input(\"Enter elements for the first set, separated by spaces: \")\n",
    "set1 = set(map(int, set1_input.split()))\n",
    "\n",
    "set2_input = input(\"Enter elements for the second set, separated by spaces: \")\n",
    "set2 = set(map(int, set2_input.split()))\n",
    "\n",
    "difference_set = set1.difference(set2)\n",
    "\n",
    "difference_set"
   ]
  },
  {
   "cell_type": "markdown",
   "metadata": {},
   "source": [
    "4"
   ]
  },
  {
   "cell_type": "code",
   "execution_count": null,
   "metadata": {},
   "outputs": [],
   "source": [
    "set1_input = input(\"Enter elements for the first set, separated by spaces: \")\n",
    "set1 = set(map(int, set1_input.split()))\n",
    "\n",
    "set2_input = input(\"Enter elements for the second set, separated by spaces: \")\n",
    "set2 = set(map(int, set2_input.split()))\n",
    "\n",
    "is_subset = set1.issubset(set2)\n",
    "\n",
    "is_subset"
   ]
  },
  {
   "cell_type": "markdown",
   "metadata": {},
   "source": [
    "5"
   ]
  },
  {
   "cell_type": "code",
   "execution_count": null,
   "metadata": {},
   "outputs": [],
   "source": [
    "set1_input = input(\"Enter elements for the set, separated by spaces: \")\n",
    "set1 = set(map(int, set1_input.split()))\n",
    "\n",
    "element = int(input(\"Enter the element to check: \"))\n",
    "\n",
    "element_exists = element in set1\n",
    "\n",
    "element_exists"
   ]
  },
  {
   "cell_type": "markdown",
   "metadata": {},
   "source": [
    "6"
   ]
  },
  {
   "cell_type": "code",
   "execution_count": null,
   "metadata": {},
   "outputs": [],
   "source": [
    "set1_input = input(\"Enter elements for the set, separated by spaces: \")\n",
    "set1 = set(map(int, set1_input.split()))\n",
    "\n",
    "set_length = len(set1)\n",
    "\n",
    "set_length"
   ]
  },
  {
   "cell_type": "markdown",
   "metadata": {},
   "source": [
    "7"
   ]
  },
  {
   "cell_type": "code",
   "execution_count": null,
   "metadata": {},
   "outputs": [],
   "source": [
    "list_input = input(\"Enter elements for the list, separated by spaces: \")\n",
    "list1 = list(map(int, list_input.split()))\n",
    "\n",
    "unique_set = set(list1)\n",
    "\n",
    "unique_set"
   ]
  },
  {
   "cell_type": "markdown",
   "metadata": {},
   "source": [
    "8"
   ]
  },
  {
   "cell_type": "code",
   "execution_count": null,
   "metadata": {},
   "outputs": [],
   "source": [
    "set1_input = input(\"Enter elements for the set, separated by spaces: \")\n",
    "set1 = set(map(int, set1_input.split()))\n",
    "\n",
    "element_to_remove = int(input(\"Enter the element to remove: \"))\n",
    "\n",
    "set1.discard(element_to_remove)\n",
    "\n",
    "set1"
   ]
  },
  {
   "cell_type": "markdown",
   "metadata": {},
   "source": [
    "9"
   ]
  },
  {
   "cell_type": "code",
   "execution_count": null,
   "metadata": {},
   "outputs": [],
   "source": [
    "set1_input = input(\"Enter elements for the set, separated by spaces: \")\n",
    "set1 = set(map(int, set1_input.split()))\n",
    "\n",
    "set1.clear()\n",
    "\n",
    "set1"
   ]
  },
  {
   "cell_type": "markdown",
   "metadata": {},
   "source": [
    "10"
   ]
  },
  {
   "cell_type": "code",
   "execution_count": null,
   "metadata": {},
   "outputs": [],
   "source": [
    "set1_input = input(\"Enter elements for the set, separated by spaces: \")\n",
    "set1 = set(map(int, set1_input.split()))\n",
    "\n",
    "is_empty = len(set1) == 0\n",
    "\n",
    "is_empty"
   ]
  },
  {
   "cell_type": "markdown",
   "metadata": {},
   "source": [
    "11"
   ]
  },
  {
   "cell_type": "code",
   "execution_count": null,
   "metadata": {},
   "outputs": [],
   "source": [
    "set1_input = input(\"Enter elements for the first set, separated by spaces: \")\n",
    "set1 = set(map(int, set1_input.split()))\n",
    "\n",
    "set2_input = input(\"Enter elements for the second set, separated by spaces: \")\n",
    "set2 = set(map(int, set2_input.split()))\n",
    "\n",
    "symmetric_difference_set = set1.symmetric_difference(set2)\n",
    "\n",
    "symmetric_difference_set"
   ]
  },
  {
   "cell_type": "markdown",
   "metadata": {},
   "source": [
    "12"
   ]
  },
  {
   "cell_type": "code",
   "execution_count": null,
   "metadata": {},
   "outputs": [],
   "source": [
    "set1_input = input(\"Enter elements for the set, separated by spaces: \")\n",
    "set1 = set(map(int, set1_input.split()))\n",
    "\n",
    "element_to_add = int(input(\"Enter the element to add: \"))\n",
    "\n",
    "set1.add(element_to_add)\n",
    "\n",
    "set1"
   ]
  },
  {
   "cell_type": "markdown",
   "metadata": {},
   "source": [
    "13"
   ]
  },
  {
   "cell_type": "code",
   "execution_count": null,
   "metadata": {},
   "outputs": [],
   "source": [
    "set1_input = input(\"Enter elements for the set, separated by spaces: \")\n",
    "set1 = set(map(int, set1_input.split()))\n",
    "\n",
    "popped_element = set1.pop()\n",
    "\n",
    "popped_element, set1"
   ]
  },
  {
   "cell_type": "markdown",
   "metadata": {},
   "source": [
    "14"
   ]
  },
  {
   "cell_type": "code",
   "execution_count": null,
   "metadata": {},
   "outputs": [],
   "source": [
    "set_of_numbers_input = input(\"Enter elements for the set, separated by spaces: \")\n",
    "set_of_numbers = set(map(int, set_of_numbers_input.split()))\n",
    "\n",
    "max_element = max(set_of_numbers)\n",
    "\n",
    "max_element"
   ]
  },
  {
   "cell_type": "markdown",
   "metadata": {},
   "source": [
    "15"
   ]
  },
  {
   "cell_type": "code",
   "execution_count": null,
   "metadata": {},
   "outputs": [],
   "source": [
    "set_of_numbers_input = input(\"Enter elements for the set, separated by spaces: \")\n",
    "set_of_numbers = set(map(int, set_of_numbers_input.split()))\n",
    "\n",
    "min_element = min(set_of_numbers)\n",
    "\n",
    "min_element"
   ]
  },
  {
   "cell_type": "markdown",
   "metadata": {},
   "source": [
    "16"
   ]
  },
  {
   "cell_type": "code",
   "execution_count": null,
   "metadata": {},
   "outputs": [],
   "source": [
    "set_of_integers_input = input(\"Enter elements for the set, separated by spaces: \")\n",
    "set_of_integers = set(map(int, set_of_integers_input.split()))\n",
    "\n",
    "even_numbers_set = {num for num in set_of_integers if num % 2 == 0}\n",
    "\n",
    "even_numbers_set"
   ]
  },
  {
   "cell_type": "markdown",
   "metadata": {},
   "source": [
    "17"
   ]
  },
  {
   "cell_type": "code",
   "execution_count": null,
   "metadata": {},
   "outputs": [],
   "source": [
    "set_of_integers_input = input(\"Enter elements for the set, separated by spaces: \")\n",
    "set_of_integers = set(map(int, set_of_integers_input.split()))\n",
    "\n",
    "odd_numbers_set = {num for num in set_of_integers if num % 2 != 0}\n",
    "\n",
    "odd_numbers_set"
   ]
  },
  {
   "cell_type": "markdown",
   "metadata": {},
   "source": [
    "18"
   ]
  },
  {
   "cell_type": "code",
   "execution_count": null,
   "metadata": {},
   "outputs": [],
   "source": [
    "start = int(input(\"Enter the start of the range: \"))\n",
    "\n",
    "end = int(input(\"Enter the end of the range: \"))\n",
    "\n",
    "range_set = set(range(start, end + 1))\n",
    "\n",
    "range_set"
   ]
  },
  {
   "cell_type": "markdown",
   "metadata": {},
   "source": [
    "19"
   ]
  },
  {
   "cell_type": "code",
   "execution_count": null,
   "metadata": {},
   "outputs": [],
   "source": [
    "list1_input = input(\"Enter elements for the first list, separated by spaces: \")\n",
    "list1 = list(map(int, list1_input.split()))\n",
    "\n",
    "list2_input = input(\"Enter elements for the second list, separated by spaces: \")\n",
    "list2 = list(map(int, list2_input.split()))\n",
    "\n",
    "merged_set = set(list1).union(set(list2))\n",
    "\n",
    "merged_set"
   ]
  },
  {
   "cell_type": "markdown",
   "metadata": {},
   "source": [
    "20"
   ]
  },
  {
   "cell_type": "code",
   "execution_count": null,
   "metadata": {},
   "outputs": [],
   "source": [
    "set1_input = input(\"Enter elements for the first set, separated by spaces: \")\n",
    "set1 = set(map(int, set1_input.split()))\n",
    "\n",
    "set2_input = input(\"Enter elements for the second set, separated by spaces: \")\n",
    "set2 = set(map(int, set2_input.split()))\n",
    "\n",
    "are_disjoint = set1.isdisjoint(set2)\n",
    "\n",
    "are_disjoint"
   ]
  },
  {
   "cell_type": "markdown",
   "metadata": {},
   "source": [
    "21"
   ]
  },
  {
   "cell_type": "code",
   "execution_count": null,
   "metadata": {},
   "outputs": [],
   "source": [
    "list_with_duplicates_input = input(\"Enter elements for the list, separated by spaces: \")\n",
    "list_with_duplicates = list(map(int, list_with_duplicates_input.split()))\n",
    "\n",
    "unique_set_from_list = set(list_with_duplicates)\n",
    "\n",
    "unique_list = list(unique_set_from_list)\n",
    "\n",
    "unique_list"
   ]
  },
  {
   "cell_type": "markdown",
   "metadata": {},
   "source": [
    "22"
   ]
  },
  {
   "cell_type": "code",
   "execution_count": null,
   "metadata": {},
   "outputs": [],
   "source": [
    "list_input = input(\"Enter elements for the list, separated by spaces: \")\n",
    "list_with_duplicates = list(map(int, list_input.split()))\n",
    "\n",
    "unique_elements_set = set(list_with_duplicates)\n",
    "\n",
    "unique_count = len(unique_elements_set)\n",
    "\n",
    "unique_count"
   ]
  },
  {
   "cell_type": "markdown",
   "metadata": {},
   "source": [
    "23"
   ]
  },
  {
   "cell_type": "code",
   "execution_count": null,
   "metadata": {},
   "outputs": [],
   "source": [
    "num_random_integers = int(input(\"Enter the number of random integers: \"))\n",
    "\n",
    "range_start = int(input(\"Enter the start of the range: \"))\n",
    "\n",
    "range_end = int(input(\"Enter the end of the range: \"))\n",
    "\n",
    "random_set = {random.randint(range_start, range_end) for _ in range(num_random_integers)}\n",
    "\n",
    "random_set"
   ]
  }
 ],
 "metadata": {
  "language_info": {
   "name": "python"
  }
 },
 "nbformat": 4,
 "nbformat_minor": 2
}
