{
 "cells": [
  {
   "cell_type": "markdown",
   "metadata": {},
   "source": [
    "1"
   ]
  },
  {
   "cell_type": "code",
   "execution_count": null,
   "metadata": {},
   "outputs": [],
   "source": [
    "def count_occurrences(tpl, element):\n",
    "    return tpl.count(element)\n",
    "sample_tuple = tuple(map(int, input(\"Enter the tuple elements : \").split(',')))\n",
    "print(\"Count Occurrences:\", count_occurrences(sample_tuple, int(input(\"Enter element to count: \"))))"
   ]
  },
  {
   "cell_type": "markdown",
   "metadata": {},
   "source": [
    "2"
   ]
  },
  {
   "cell_type": "code",
   "execution_count": null,
   "metadata": {},
   "outputs": [],
   "source": [
    "def max_element(tpl):\n",
    "    return max(tpl) if tpl else None\n",
    "sample_tuple = tuple(map(int, input(\"Enter the tuple elements : \").split(',')))\n",
    "print(\"Max Element:\", max_element(sample_tuple))"
   ]
  },
  {
   "cell_type": "markdown",
   "metadata": {},
   "source": [
    "3"
   ]
  },
  {
   "cell_type": "code",
   "execution_count": null,
   "metadata": {},
   "outputs": [],
   "source": [
    "def min_element(tpl):\n",
    "    return min(tpl) if tpl else None\n",
    "sample_tuple = tuple(map(int, input(\"Enter the tuple elements: \").split(',')))\n",
    "print(\"Min Element:\", min_element(sample_tuple))"
   ]
  },
  {
   "cell_type": "markdown",
   "metadata": {},
   "source": [
    "4"
   ]
  },
  {
   "cell_type": "code",
   "execution_count": null,
   "metadata": {},
   "outputs": [],
   "source": []
  },
  {
   "cell_type": "markdown",
   "metadata": {},
   "source": [
    "5"
   ]
  },
  {
   "cell_type": "code",
   "execution_count": null,
   "metadata": {},
   "outputs": [],
   "source": [
    "def first_element(tpl):\n",
    "    return tpl[0] if tpl else None\n",
    "sample_tuple = tuple(map(int, input(\"Enter the tuple elements: \").split(',')))\n",
    "print(\"First Element:\", first_element(sample_tuple))"
   ]
  },
  {
   "cell_type": "markdown",
   "metadata": {},
   "source": [
    "6"
   ]
  },
  {
   "cell_type": "code",
   "execution_count": null,
   "metadata": {},
   "outputs": [],
   "source": [
    "def last_element(tpl):\n",
    "    return tpl[-1] if tpl else None\n",
    "sample_tuple = tuple(map(int, input(\"Enter the tuple elements: \").split(',')))\n",
    "print(\"Last Element:\", last_element(sample_tuple))"
   ]
  },
  {
   "cell_type": "markdown",
   "metadata": {},
   "source": [
    "7"
   ]
  },
  {
   "cell_type": "code",
   "execution_count": null,
   "metadata": {},
   "outputs": [],
   "source": [
    "def tuple_length(tpl):\n",
    "    return len(tpl)\n",
    "sample_tuple = tuple(map(int, input(\"Enter the tuple elements: \").split(',')))\n",
    "print(\"Tuple Length:\", tuple_length(sample_tuple))"
   ]
  },
  {
   "cell_type": "markdown",
   "metadata": {},
   "source": [
    "8"
   ]
  },
  {
   "cell_type": "code",
   "execution_count": null,
   "metadata": {},
   "outputs": [],
   "source": [
    "def slice_tuple(tpl):\n",
    "    return tpl[:3]\n",
    "sample_tuple = tuple(map(int, input(\"Enter the tuple elements : \").split(',')))\n",
    "print(\"Slice Tuple:\", slice_tuple(sample_tuple))"
   ]
  },
  {
   "cell_type": "markdown",
   "metadata": {},
   "source": [
    "9"
   ]
  },
  {
   "cell_type": "code",
   "execution_count": null,
   "metadata": {},
   "outputs": [],
   "source": [
    "def concatenate_tuples(tpl1, tpl2):\n",
    "    return tpl1 + tpl2\n",
    "sample_tuple = tuple(map(int, input(\"Enter the tuple elements : \").split(',')))\n",
    "sample_tuple2 = tuple(map(int, input(\"Enter the tuple elements: \").split(',')))\n",
    "print(\"Concatenate Tuples:\", concatenate_tuples(sample_tuple, sample_tuple2))"
   ]
  },
  {
   "cell_type": "markdown",
   "metadata": {},
   "source": [
    "10"
   ]
  },
  {
   "cell_type": "code",
   "execution_count": null,
   "metadata": {},
   "outputs": [],
   "source": [
    "def check_if_empty(tpl):\n",
    "    return len(tpl) == 0\n",
    "sample_tuple = tuple(map(int, input(\"Enter the tuple elements: \").split(',')))\n",
    "print(\"Check If Empty:\", check_if_empty(sample_tuple))"
   ]
  },
  {
   "cell_type": "markdown",
   "metadata": {},
   "source": [
    "11"
   ]
  },
  {
   "cell_type": "code",
   "execution_count": null,
   "metadata": {},
   "outputs": [],
   "source": [
    "def get_all_indices(tpl, element):\n",
    "    return [index for index, value in enumerate(tpl) if value == element]\n",
    "sample_tuple = tuple(map(int, input(\"Enter the tuple elements separated by commas: \").split(',')))\n",
    "print(\"Get All Indices:\", get_all_indices(sample_tuple, int(input(\"Enter element to get all indices: \"))))"
   ]
  },
  {
   "cell_type": "markdown",
   "metadata": {},
   "source": [
    "12"
   ]
  },
  {
   "cell_type": "code",
   "execution_count": null,
   "metadata": {},
   "outputs": [],
   "source": [
    "sample_tuple = tuple(map(int, input(\"Enter the tuple elements separated by commas: \").split(',')))\n",
    "if max.tpl(sample_tuple):\n",
    "          print(max.tpl)\n",
    "print(\"Second Largest:\", find_second_largest(sample_tuple))"
   ]
  },
  {
   "cell_type": "markdown",
   "metadata": {},
   "source": [
    "13"
   ]
  },
  {
   "cell_type": "code",
   "execution_count": null,
   "metadata": {},
   "outputs": [],
   "source": [
    "sample_tuple = tuple(map(int, input(\"Enter the tuple elements separated by commas: \").split(',')))\n",
    "if min.tpl(sample_tuple):\n",
    "          print(min.tpl)\n",
    "print(\"Second Smallest:\", find_second_smallest(sample_tuple))"
   ]
  },
  {
   "cell_type": "markdown",
   "metadata": {},
   "source": [
    "14"
   ]
  },
  {
   "cell_type": "code",
   "execution_count": null,
   "metadata": {},
   "outputs": [],
   "source": [
    "def create_single_element_tuple(element):\n",
    "    return (element,)\n",
    "sample_tuple = tuple(map(int, input(\"Enter the tuple elements separated by commas: \").split(',')))\n",
    "print(\"Single Element Tuple:\", create_single_element_tuple(int(input(\"Enter element to create single element tuple: \"))))"
   ]
  },
  {
   "cell_type": "markdown",
   "metadata": {},
   "source": [
    "15"
   ]
  },
  {
   "cell_type": "code",
   "execution_count": null,
   "metadata": {},
   "outputs": [],
   "source": [
    "def convert_list_to_tuple(lst):\n",
    "    return tuple(lst)\n",
    "sample_tuple = tuple(map(int, input(\"Enter the tuple elements separated by commas: \").split(',')))\n",
    "print(\"Convert List To Tuple:\", convert_list_to_tuple(list(sample_tuple)))"
   ]
  },
  {
   "cell_type": "markdown",
   "metadata": {},
   "source": [
    "16"
   ]
  },
  {
   "cell_type": "code",
   "execution_count": null,
   "metadata": {},
   "outputs": [],
   "source": [
    "def check_if_sorted(tpl):\n",
    "    return tpl == tuple(sorted(tpl))\n",
    "sample_tuple = tuple(map(int, input(\"Enter the tuple elements separated by commas: \").split(',')))\n",
    "print(\"Check If Sorted:\", check_if_sorted(sample_tuple))"
   ]
  },
  {
   "cell_type": "markdown",
   "metadata": {},
   "source": [
    "17"
   ]
  },
  {
   "cell_type": "code",
   "execution_count": null,
   "metadata": {},
   "outputs": [],
   "source": [
    "def find_maximum_of_subtuple(tpl, start, end):\n",
    "    return max(tpl[start:end+1])\n",
    "sample_tuple = tuple(map(int, input(\"Enter the tuple elements separated by commas: \").split(',')))\n",
    "start, end = map(int, input(\"Enter the start and end indices separated by commas: \").split(','))\n",
    "print(\"Maximum Of Subtuple:\", find_maximum_of_subtuple(sample_tuple, start, end))"
   ]
  },
  {
   "cell_type": "markdown",
   "metadata": {},
   "source": [
    "18"
   ]
  },
  {
   "cell_type": "code",
   "execution_count": null,
   "metadata": {},
   "outputs": [],
   "source": [
    "def find_minimum_of_subtuple(tpl, start, end):\n",
    "    return min(tpl[start:end+1])\n",
    "sample_tuple = tuple(map(int, input(\"Enter the tuple elements separated by commas: \").split(',')))\n",
    "start, end = map(int, input(\"Enter the start and end indices separated by commas: \").split(','))\n",
    "print(\"Minimum Of Subtuple:\", find_minimum_of_subtuple(sample_tuple, start, end))"
   ]
  },
  {
   "cell_type": "markdown",
   "metadata": {},
   "source": [
    "19"
   ]
  },
  {
   "cell_type": "code",
   "execution_count": null,
   "metadata": {},
   "outputs": [],
   "source": [
    "def remove_element_by_value(tpl, element):\n",
    "    lst = list(tpl)\n",
    "    if element in lst:\n",
    "        lst.remove(element)\n",
    "    return tuple(lst)\n",
    "sample_tuple = tuple(map(int, input(\"Enter the tuple elements separated by commas: \").split(',')))\n",
    "print(\"Remove Element By Value:\", remove_element_by_value(sample_tuple, int(input(\"Enter element to remove: \"))))"
   ]
  },
  {
   "cell_type": "markdown",
   "metadata": {},
   "source": [
    "20"
   ]
  },
  {
   "cell_type": "code",
   "execution_count": null,
   "metadata": {},
   "outputs": [],
   "source": [
    "def create_nested_tuple(tpl, indices):\n",
    "    return tuple(tuple(tpl[i] for i in index_group) for index_group in indices)\n",
    "sample_tuple = tuple(map(int, input(\"Enter the tuple elements separated by commas: \").split(',')))\n",
    "indices = tuple(map(int, input(\"Enter the indices separated by commas: \").split(',')))\n",
    "print(\"Create Nested Tuple:\", create_nested_tuple(sample_tuple, (indices,)))"
   ]
  },
  {
   "cell_type": "markdown",
   "metadata": {},
   "source": [
    "21"
   ]
  },
  {
   "cell_type": "code",
   "execution_count": null,
   "metadata": {},
   "outputs": [],
   "source": [
    "def repeat_elements(tpl, count):\n",
    "    return tuple(element for element in tpl for _ in range(count))\n",
    "sample_tuple = tuple(map(int, input(\"Enter the tuple elements separated by commas: \").split(',')))\n",
    "print(\"Repeat Elements:\", repeat_elements(sample_tuple, int(input(\"Enter the count to repeat: \"))))"
   ]
  },
  {
   "cell_type": "markdown",
   "metadata": {},
   "source": [
    "22"
   ]
  },
  {
   "cell_type": "code",
   "execution_count": null,
   "metadata": {},
   "outputs": [],
   "source": [
    "def create_range_tuple(start, end):\n",
    "    return tuple(range(start, end + 1))\n",
    "sample_tuple = tuple(map(int, input(\"Enter the tuple elements separated by commas: \").split(',')))\n",
    "\n",
    "print(\"Create Range Tuple:\", create_range_tuple(int(input(\"Enter the start: \")), int(input(\"Enter the end: \"))))"
   ]
  },
  {
   "cell_type": "markdown",
   "metadata": {},
   "source": [
    "23"
   ]
  },
  {
   "cell_type": "code",
   "execution_count": null,
   "metadata": {},
   "outputs": [],
   "source": []
  },
  {
   "cell_type": "markdown",
   "metadata": {},
   "source": [
    "24"
   ]
  },
  {
   "cell_type": "code",
   "execution_count": null,
   "metadata": {},
   "outputs": [],
   "source": [
    "def check_palindrome(tpl):\n",
    "    return tpl == tpl[::-1]\n",
    "sample_tuple = tuple(map(int, input(\"Enter the tuple elements: \").split(',')))\n",
    "print(\"Check Palindrome:\", check_palindrome(sample_tuple))\n"
   ]
  },
  {
   "cell_type": "markdown",
   "metadata": {},
   "source": [
    "25"
   ]
  },
  {
   "cell_type": "code",
   "execution_count": 2,
   "metadata": {},
   "outputs": [
    {
     "name": "stdout",
     "output_type": "stream",
     "text": [
      "Unique Elements: (1, 2, 3, 4, 5)\n"
     ]
    }
   ],
   "source": [
    "def get_unique_elements(tpl):\n",
    "    seen = set()\n",
    "    return tuple(x for x in tpl if not (x in seen or seen.add(x)))\n",
    "sample_tuple = tuple(map(int, input(\"Enter the tuple elements: \").split(',')))\n",
    "print(\"Unique Elements:\", get_unique_elements(sample_tuple))\n"
   ]
  }
 ],
 "metadata": {
  "kernelspec": {
   "display_name": "Python 3",
   "language": "python",
   "name": "python3"
  },
  "language_info": {
   "codemirror_mode": {
    "name": "ipython",
    "version": 3
   },
   "file_extension": ".py",
   "mimetype": "text/x-python",
   "name": "python",
   "nbconvert_exporter": "python",
   "pygments_lexer": "ipython3",
   "version": "3.10.10"
  }
 },
 "nbformat": 4,
 "nbformat_minor": 2
}
