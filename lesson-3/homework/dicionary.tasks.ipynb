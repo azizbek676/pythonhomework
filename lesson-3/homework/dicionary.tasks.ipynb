{
 "cells": [
  {
   "cell_type": "markdown",
   "metadata": {},
   "source": [
    "1"
   ]
  },
  {
   "cell_type": "code",
   "execution_count": 6,
   "metadata": {},
   "outputs": [
    {
     "name": "stdout",
     "output_type": "stream",
     "text": [
      "The value for key 'age' is: 17\n",
      "The value for key 'country' is: New York\n"
     ]
    }
   ],
   "source": [
    "sample_dict = {\n",
    "    'name': 'Muhammad Sodiq',\n",
    "    'age': 17,\n",
    "    'country': 'New York'\n",
    "}\n",
    "\n",
    "def get_value(dictionary, key, default_value=None):\n",
    "    return dictionary.get(key, default_value)\n",
    "\n",
    "key_to_find = 'age'\n",
    "value = get_value(sample_dict, key_to_find, 'Key not found')\n",
    "print(f\"The value for key '{key_to_find}' is: {value}\")\n",
    "\n",
    "key_to_find = 'country'\n",
    "value = get_value(sample_dict, key_to_find, 'Key not found')\n",
    "print(f\"The value for key '{key_to_find}' is: {value}\")"
   ]
  },
  {
   "cell_type": "markdown",
   "metadata": {},
   "source": [
    "2"
   ]
  },
  {
   "cell_type": "code",
   "execution_count": 7,
   "metadata": {},
   "outputs": [
    {
     "name": "stdout",
     "output_type": "stream",
     "text": [
      "Is the key 'name' present in the dictionary? True\n",
      "Is the key 'country' present in the dictionary? True\n"
     ]
    }
   ],
   "source": [
    "def check_key(dictionary, key):\n",
    "    return key in dictionary\n",
    "\n",
    "key_to_check = 'name'\n",
    "is_present = check_key(sample_dict, key_to_check)\n",
    "print(f\"Is the key '{key_to_check}' present in the dictionary? {is_present}\")\n",
    "\n",
    "key_to_check = 'country'\n",
    "is_present = check_key(sample_dict, key_to_check)\n",
    "print(f\"Is the key '{key_to_check}' present in the dictionary? {is_present}\")"
   ]
  },
  {
   "cell_type": "markdown",
   "metadata": {},
   "source": [
    "3"
   ]
  },
  {
   "cell_type": "code",
   "execution_count": 8,
   "metadata": {},
   "outputs": [
    {
     "name": "stdout",
     "output_type": "stream",
     "text": [
      "The number of keys in the dictionary is: 3\n"
     ]
    }
   ],
   "source": [
    "def count_keys(dictionary):\n",
    "    return len(dictionary)\n",
    "\n",
    "num_keys = count_keys(sample_dict)\n",
    "print(f\"The number of keys in the dictionary is: {num_keys}\")"
   ]
  },
  {
   "cell_type": "markdown",
   "metadata": {},
   "source": [
    "4"
   ]
  },
  {
   "cell_type": "code",
   "execution_count": 9,
   "metadata": {},
   "outputs": [
    {
     "name": "stdout",
     "output_type": "stream",
     "text": [
      "The keys in the dictionary are: ['name', 'age', 'country']\n"
     ]
    }
   ],
   "source": [
    "def get_all_keys(dictionary):\n",
    "    return list(dictionary.keys())\n",
    "\n",
    "keys_list = get_all_keys(sample_dict)\n",
    "print(f\"The keys in the dictionary are: {keys_list}\")"
   ]
  },
  {
   "cell_type": "markdown",
   "metadata": {},
   "source": [
    "5"
   ]
  },
  {
   "cell_type": "code",
   "execution_count": 10,
   "metadata": {},
   "outputs": [
    {
     "name": "stdout",
     "output_type": "stream",
     "text": [
      "The values in the dictionary are: ['Muhammad Sodiq', 17, 'New York']\n"
     ]
    }
   ],
   "source": [
    "def get_all_values(dictionary):\n",
    "    return list(dictionary.values())\n",
    "\n",
    "values_list = get_all_values(sample_dict)\n",
    "print(f\"The values in the dictionary are: {values_list}\")"
   ]
  },
  {
   "cell_type": "markdown",
   "metadata": {},
   "source": [
    "6"
   ]
  },
  {
   "cell_type": "code",
   "execution_count": 11,
   "metadata": {},
   "outputs": [
    {
     "name": "stdout",
     "output_type": "stream",
     "text": [
      "The merged dictionary is: {'name': 'Alice', 'age': 30, 'city': 'New York', 'country': 'USA'}\n"
     ]
    }
   ],
   "source": [
    "def merge_dictionaries(dict1, dict2):\n",
    "    merged_dict = dict1.copy()  \n",
    "    merged_dict.update(dict2)   \n",
    "    return merged_dict\n",
    "\n",
    "dict_a = {'name': 'Alice', 'age': 30}\n",
    "dict_b = {'city': 'New York', 'country': 'USA'}\n",
    "merged_dict = merge_dictionaries(dict_a, dict_b)\n",
    "print(f\"The merged dictionary is: {merged_dict}\")"
   ]
  },
  {
   "cell_type": "markdown",
   "metadata": {},
   "source": [
    "7"
   ]
  },
  {
   "cell_type": "code",
   "execution_count": 12,
   "metadata": {},
   "outputs": [
    {
     "name": "stdout",
     "output_type": "stream",
     "text": [
      "Key 'age' removed.\n",
      "Updated dictionary: {'name': 'Muhammad Sodiq', 'country': 'New York'}\n",
      "Key 'country' removed.\n",
      "Updated dictionary: {'name': 'Muhammad Sodiq'}\n"
     ]
    }
   ],
   "source": [
    "def remove_key(dictionary, key):\n",
    "    if key in dictionary:\n",
    "        del dictionary[key]\n",
    "        return f\"Key '{key}' removed.\"\n",
    "    else:\n",
    "        return f\"Key '{key}' not found.\"\n",
    "\n",
    "key_to_remove = 'age'\n",
    "result = remove_key(sample_dict, key_to_remove)\n",
    "print(result)\n",
    "print(f\"Updated dictionary: {sample_dict}\")\n",
    "\n",
    "key_to_remove = 'country'\n",
    "result = remove_key(sample_dict, key_to_remove)\n",
    "print(result)\n",
    "print(f\"Updated dictionary: {sample_dict}\")"
   ]
  },
  {
   "cell_type": "markdown",
   "metadata": {},
   "source": [
    "8"
   ]
  },
  {
   "cell_type": "code",
   "execution_count": 13,
   "metadata": {},
   "outputs": [
    {
     "name": "stdout",
     "output_type": "stream",
     "text": [
      "The cleared dictionary is: {}\n"
     ]
    }
   ],
   "source": [
    "def clear_dictionary(dictionary):\n",
    "    dictionary.clear()\n",
    "    return dictionary\n",
    "\n",
    "cleared_dict = clear_dictionary(sample_dict)\n",
    "print(f\"The cleared dictionary is: {cleared_dict}\")"
   ]
  },
  {
   "cell_type": "markdown",
   "metadata": {},
   "source": [
    "9"
   ]
  },
  {
   "cell_type": "code",
   "execution_count": 14,
   "metadata": {},
   "outputs": [
    {
     "name": "stdout",
     "output_type": "stream",
     "text": [
      "Is the dictionary empty? True\n",
      "Is the dictionary empty? False\n"
     ]
    }
   ],
   "source": [
    "def is_dictionary_empty(dictionary):\n",
    "    return not bool(dictionary)\n",
    "\n",
    "empty_dict = {}\n",
    "non_empty_dict = {'key': 'value'}\n",
    "\n",
    "is_empty = is_dictionary_empty(empty_dict)\n",
    "print(f\"Is the dictionary empty? {is_empty}\")\n",
    "\n",
    "is_empty = is_dictionary_empty(non_empty_dict)\n",
    "print(f\"Is the dictionary empty? {is_empty}\")"
   ]
  },
  {
   "cell_type": "markdown",
   "metadata": {},
   "source": [
    "10"
   ]
  },
  {
   "cell_type": "code",
   "execution_count": 15,
   "metadata": {},
   "outputs": [
    {
     "name": "stdout",
     "output_type": "stream",
     "text": [
      "The key-value pair for key 'name' is: Key 'name' not found.\n",
      "The key-value pair for key 'country' is: Key 'country' not found.\n"
     ]
    }
   ],
   "source": [
    "def get_key_value_pair(dictionary, key):\n",
    "    if key in dictionary:\n",
    "        return key, dictionary[key]\n",
    "    else:\n",
    "        return f\"Key '{key}' not found.\"\n",
    "\n",
    "key_to_find = 'name'\n",
    "key_value_pair = get_key_value_pair(sample_dict, key_to_find)\n",
    "print(f\"The key-value pair for key '{key_to_find}' is: {key_value_pair}\")\n",
    "\n",
    "key_to_find = 'country'\n",
    "key_value_pair = get_key_value_pair(sample_dict, key_to_find)\n",
    "print(f\"The key-value pair for key '{key_to_find}' is: {key_value_pair}\")"
   ]
  },
  {
   "cell_type": "markdown",
   "metadata": {},
   "source": [
    "11"
   ]
  },
  {
   "cell_type": "code",
   "execution_count": 16,
   "metadata": {},
   "outputs": [
    {
     "name": "stdout",
     "output_type": "stream",
     "text": [
      "Key 'city' not found.\n",
      "Updated dictionary: {}\n",
      "Key 'country' not found.\n",
      "Updated dictionary: {}\n"
     ]
    }
   ],
   "source": [
    "def update_value(dictionary, key, new_value):\n",
    "    if key in dictionary:\n",
    "        dictionary[key] = new_value\n",
    "        return f\"Value for key '{key}' updated to {new_value}.\"\n",
    "    else:\n",
    "        return f\"Key '{key}' not found.\"\n",
    "\n",
    "key_to_update = 'city'\n",
    "new_value = 'Los Angeles'\n",
    "result = update_value(sample_dict, key_to_update, new_value)\n",
    "print(result)\n",
    "print(f\"Updated dictionary: {sample_dict}\")\n",
    "\n",
    "key_to_update = 'country'\n",
    "new_value = 'Canada'\n",
    "result = update_value(sample_dict, key_to_update, new_value)\n",
    "print(result)\n",
    "print(f\"Updated dictionary: {sample_dict}\")"
   ]
  },
  {
   "cell_type": "markdown",
   "metadata": {},
   "source": [
    "12"
   ]
  },
  {
   "cell_type": "code",
   "execution_count": 17,
   "metadata": {},
   "outputs": [
    {
     "name": "stdout",
     "output_type": "stream",
     "text": [
      "The value 'Alice' appears 0 times in the dictionary.\n",
      "The value 'Canada' appears 0 times in the dictionary.\n"
     ]
    }
   ],
   "source": [
    "def count_value_occurrences(dictionary, value_to_count):\n",
    "    return list(dictionary.values()).count(value_to_count)\n",
    "\n",
    "value_to_count = 'Alice'\n",
    "occurrences = count_value_occurrences(sample_dict, value_to_count)\n",
    "print(f\"The value '{value_to_count}' appears {occurrences} times in the dictionary.\")\n",
    "\n",
    "value_to_count = 'Canada'\n",
    "occurrences = count_value_occurrences(sample_dict, value_to_count)\n",
    "print(f\"The value '{value_to_count}' appears {occurrences} times in the dictionary.\")"
   ]
  },
  {
   "cell_type": "markdown",
   "metadata": {},
   "source": [
    "13"
   ]
  },
  {
   "cell_type": "code",
   "execution_count": 18,
   "metadata": {},
   "outputs": [
    {
     "name": "stdout",
     "output_type": "stream",
     "text": [
      "The inverted dictionary is: {'Muhammad Sodiq': 'name', 17: 'age', 'New York': 'city'}\n"
     ]
    }
   ],
   "source": [
    "def invert_dictionary(dictionary):\n",
    "    return {value: key for key, value in dictionary.items()}\n",
    "\n",
    "sample_dict = {\n",
    "    'name': 'Muhammad Sodiq',\n",
    "    'age': 17,\n",
    "    'city': 'New York'\n",
    "}\n",
    "\n",
    "inverted_dict = invert_dictionary(sample_dict)\n",
    "print(f\"The inverted dictionary is: {inverted_dict}\")"
   ]
  },
  {
   "cell_type": "markdown",
   "metadata": {},
   "source": [
    "14"
   ]
  },
  {
   "cell_type": "code",
   "execution_count": 19,
   "metadata": {},
   "outputs": [
    {
     "name": "stdout",
     "output_type": "stream",
     "text": [
      "The keys with the value 'Alice' are: []\n",
      "The keys with the value 'Canada' are: []\n"
     ]
    }
   ],
   "source": [
    "def find_keys_with_value(dictionary, value):\n",
    "    return [key for key, val in dictionary.items() if val == value]\n",
    "\n",
    "value_to_find = 'Alice'\n",
    "keys_with_value = find_keys_with_value(sample_dict, value_to_find)\n",
    "print(f\"The keys with the value '{value_to_find}' are: {keys_with_value}\")\n",
    "\n",
    "value_to_find = 'Canada'\n",
    "keys_with_value = find_keys_with_value(sample_dict, value_to_find)\n",
    "print(f\"The keys with the value '{value_to_find}' are: {keys_with_value}\")"
   ]
  },
  {
   "cell_type": "markdown",
   "metadata": {},
   "source": [
    "15"
   ]
  },
  {
   "cell_type": "code",
   "execution_count": 20,
   "metadata": {},
   "outputs": [
    {
     "name": "stdout",
     "output_type": "stream",
     "text": [
      "The created dictionary is: {'name': 'Muhammad Sodiq', 'age': 17, 'city': 'New York'}\n"
     ]
    }
   ],
   "source": [
    "def create_dict_from_lists(keys, values):\n",
    "    return dict(zip(keys, values))\n",
    "\n",
    "keys_list = ['name', 'age', 'city']\n",
    "values_list = ['Muhammad Sodiq', 17, 'New York']\n",
    "created_dict = create_dict_from_lists(keys_list, values_list)\n",
    "print(f\"The created dictionary is: {created_dict}\")"
   ]
  },
  {
   "cell_type": "markdown",
   "metadata": {},
   "source": [
    "16"
   ]
  },
  {
   "cell_type": "code",
   "execution_count": 21,
   "metadata": {},
   "outputs": [
    {
     "name": "stdout",
     "output_type": "stream",
     "text": [
      "Does the dictionary have nested dictionaries? True\n",
      "Does the dictionary have nested dictionaries? False\n"
     ]
    }
   ],
   "source": [
    "def check_for_nested_dictionaries(dictionary):\n",
    "    return any(isinstance(value, dict) for value in dictionary.values())\n",
    "sample_dict = {\n",
    "    'name': 'Muhammad Sodiq',\n",
    "    'age': 17,\n",
    "    'address': {\n",
    "        'city': 'New York',\n",
    "        'zipcode': '10001'\n",
    "    }\n",
    "}\n",
    "\n",
    "has_nested_dict = check_for_nested_dictionaries(sample_dict)\n",
    "print(f\"Does the dictionary have nested dictionaries? {has_nested_dict}\")\n",
    "sample_dict = {\n",
    "    'name': 'Muhammad Sodiq',\n",
    "    'age': 17,\n",
    "    'city': 'New York'\n",
    "}\n",
    "\n",
    "has_nested_dict = check_for_nested_dictionaries(sample_dict)\n",
    "print(f\"Does the dictionary have nested dictionaries? {has_nested_dict}\")"
   ]
  },
  {
   "cell_type": "markdown",
   "metadata": {},
   "source": [
    "17"
   ]
  },
  {
   "cell_type": "code",
   "execution_count": 22,
   "metadata": {},
   "outputs": [
    {
     "name": "stdout",
     "output_type": "stream",
     "text": [
      "The nested value for keys 'address -> coordinates -> latitude' is: 40.7128\n",
      "The nested value for keys 'address -> coordinates -> altitude' is: Key path address -> coordinates -> altitude not found.\n"
     ]
    }
   ],
   "source": [
    "def get_nested_value(dictionary, keys):\n",
    "    current_dict = dictionary\n",
    "    for key in keys:\n",
    "        if isinstance(current_dict, dict) and key in current_dict:\n",
    "            current_dict = current_dict[key]\n",
    "        else:\n",
    "            return f\"Key path {' -> '.join(keys)} not found.\"\n",
    "    return current_dict\n",
    "nested_dict = {\n",
    "    'name': 'Azizbek',\n",
    "    'age': 17,\n",
    "    'address': {\n",
    "        'city': 'New York',\n",
    "        'zipcode': '10001',\n",
    "        'coordinates': {\n",
    "            'latitude': 40.7128,\n",
    "            'longitude': -74.0060\n",
    "        }\n",
    "    }\n",
    "}\n",
    "\n",
    "keys_to_find = ['address', 'coordinates', 'latitude']\n",
    "nested_value = get_nested_value(nested_dict, keys_to_find)\n",
    "print(f\"The nested value for keys '{' -> '.join(keys_to_find)}' is: {nested_value}\")\n",
    "keys_to_find = ['address', 'coordinates', 'altitude']\n",
    "nested_value = get_nested_value(nested_dict, keys_to_find)\n",
    "print(f\"The nested value for keys '{' -> '.join(keys_to_find)}' is: {nested_value}\")"
   ]
  },
  {
   "cell_type": "markdown",
   "metadata": {},
   "source": [
    "18"
   ]
  },
  {
   "cell_type": "code",
   "execution_count": 23,
   "metadata": {},
   "outputs": [
    {
     "name": "stdout",
     "output_type": "stream",
     "text": [
      "The value for key 'name' is: Muhammad Sodiq\n",
      "The value for key 'age' is: 17\n",
      "The value for key 'city' is: Not Available\n"
     ]
    }
   ],
   "source": [
    "from collections import defaultdict\n",
    "def create_default_dict(default_value):\n",
    "    return defaultdict(lambda: default_value)\n",
    "default_value = 'Not Available'\n",
    "default_dict = create_default_dict(default_value)\n",
    "default_dict['name'] = 'Muhammad Sodiq'\n",
    "default_dict['age'] = 17\n",
    "print(f\"The value for key 'name' is: {default_dict['name']}\")\n",
    "print(f\"The value for key 'age' is: {default_dict['age']}\")\n",
    "print(f\"The value for key 'city' is: {default_dict['city']}\") "
   ]
  },
  {
   "cell_type": "markdown",
   "metadata": {},
   "source": [
    "19"
   ]
  },
  {
   "cell_type": "code",
   "execution_count": 24,
   "metadata": {},
   "outputs": [
    {
     "name": "stdout",
     "output_type": "stream",
     "text": [
      "The number of unique values in the dictionary is: 4\n"
     ]
    }
   ],
   "source": [
    "def count_unique_values(dictionary):\n",
    "    return len(set(dictionary.values()))\n",
    "sample_dict = {\n",
    "    'name': 'Muhammad Sodiq',\n",
    "    'age': 17,\n",
    "    'city': 'New York',\n",
    "    'country': 'USA',\n",
    "    'nickname': 'Muhammad Sodiq'\n",
    "}\n",
    "\n",
    "unique_values_count = count_unique_values(sample_dict)\n",
    "print(f\"The number of unique values in the dictionary is: {unique_values_count}\")"
   ]
  },
  {
   "cell_type": "markdown",
   "metadata": {},
   "source": [
    "20"
   ]
  },
  {
   "cell_type": "code",
   "execution_count": 25,
   "metadata": {},
   "outputs": [
    {
     "name": "stdout",
     "output_type": "stream",
     "text": [
      "The dictionary sorted by keys is: {'age': 17, 'city': 'New York', 'country': 'USA', 'name': 'Muhammad Sodiq', 'nickname': 'Muhammad Sodiq'}\n"
     ]
    }
   ],
   "source": [
    "def sort_dict_by_key(dictionary):\n",
    "    return dict(sorted(dictionary.items()))\n",
    "sample_dict = {\n",
    "    'name': 'Muhammad Sodiq',\n",
    "    'age': 17,\n",
    "    'city': 'New York',\n",
    "    'country': 'USA',\n",
    "    'nickname': 'Muhammad Sodiq'\n",
    "}\n",
    "\n",
    "sorted_dict = sort_dict_by_key(sample_dict)\n",
    "print(f\"The dictionary sorted by keys is: {sorted_dict}\")"
   ]
  },
  {
   "cell_type": "markdown",
   "metadata": {},
   "source": [
    "21"
   ]
  },
  {
   "cell_type": "code",
   "execution_count": 1,
   "metadata": {},
   "outputs": [
    {
     "name": "stdout",
     "output_type": "stream",
     "text": [
      "The dictionary sorted by values is: {'age': 17, 'name': 'Azizbek', 'nickname': 'Azizbek', 'city': 'New York', 'country': 'USA'}\n"
     ]
    }
   ],
   "source": [
    "def sort_dict_by_value(dictionary):\n",
    "    return dict(sorted(dictionary.items(), key=lambda item: str(item[1])))\n",
    "sample_dict = {\n",
    "    'name': 'Azizbek',\n",
    "    'age': 17,\n",
    "    'city': 'New York',\n",
    "    'country': 'USA',\n",
    "    'nickname': 'Azizbek'\n",
    "}\n",
    "\n",
    "sorted_by_value_dict = sort_dict_by_value(sample_dict)\n",
    "print(f\"The dictionary sorted by values is: {sorted_by_value_dict}\")"
   ]
  },
  {
   "cell_type": "markdown",
   "metadata": {},
   "source": [
    "22"
   ]
  },
  {
   "cell_type": "code",
   "execution_count": 31,
   "metadata": {},
   "outputs": [
    {
     "name": "stdout",
     "output_type": "stream",
     "text": [
      "The filtered dictionary (values are strings) is: {'name': 'Azizbek', 'city': 'New York', 'country': 'USA', 'nickname': 'Azizbek'}\n",
      "The filtered dictionary (values > 25) is: {}\n"
     ]
    }
   ],
   "source": [
    "def filter_by_value(dictionary, condition):\n",
    "    return {key: value for key, value in dictionary.items() if condition(value)}\n",
    "sample_dict = {\n",
    "    'name': 'Azizbek',\n",
    "    'age': 17,\n",
    "    'city': 'New York',\n",
    "    'country': 'USA',\n",
    "    'nickname': 'Azizbek'\n",
    "}\n",
    "\n",
    "filtered_dict = filter_by_value(sample_dict, lambda x: isinstance(x, str))\n",
    "print(f\"The filtered dictionary (values are strings) is: {filtered_dict}\")\n",
    "\n",
    "filtered_dict = filter_by_value(sample_dict, lambda x: isinstance(x, int) and x > 25)\n",
    "print(f\"The filtered dictionary (values > 25) is: {filtered_dict}\")"
   ]
  },
  {
   "cell_type": "markdown",
   "metadata": {},
   "source": [
    "23"
   ]
  },
  {
   "cell_type": "code",
   "execution_count": 30,
   "metadata": {},
   "outputs": [
    {
     "name": "stdout",
     "output_type": "stream",
     "text": [
      "The common keys between the two dictionaries are: {'age', 'city'}\n"
     ]
    }
   ],
   "source": [
    "def check_for_common_keys(dict1, dict2):\n",
    "    return set(dict1.keys()).intersection(dict2.keys())\n",
    "\n",
    "dict1 = {'name': 'Muhammadamin', 'age': 17, 'city': 'New York'}\n",
    "dict2 = {'city': 'Los Angeles', 'country': 'USA', 'age': 25}\n",
    "\n",
    "common_keys = check_for_common_keys(dict1, dict2)\n",
    "print(f\"The common keys between the two dictionaries are: {common_keys}\")"
   ]
  },
  {
   "cell_type": "markdown",
   "metadata": {},
   "source": [
    "24"
   ]
  },
  {
   "cell_type": "code",
   "execution_count": 29,
   "metadata": {},
   "outputs": [
    {
     "name": "stdout",
     "output_type": "stream",
     "text": [
      "The created dictionary from tuple is: {'name': 'Shokir', 'age': 17, 'city': 'New York'}\n"
     ]
    }
   ],
   "source": [
    "def create_dict_from_tuple(tuple_of_pairs):\n",
    "    return dict(tuple_of_pairs)\n",
    "tuple_of_pairs = (('name', 'Shokir'), ('age', 17), ('city', 'New York'))\n",
    "created_dict = create_dict_from_tuple(tuple_of_pairs)\n",
    "print(f\"The created dictionary from tuple is: {created_dict}\")"
   ]
  },
  {
   "cell_type": "markdown",
   "metadata": {},
   "source": [
    "25"
   ]
  },
  {
   "cell_type": "code",
   "execution_count": 28,
   "metadata": {},
   "outputs": [
    {
     "name": "stdout",
     "output_type": "stream",
     "text": [
      "The first key-value pair in the dictionary is: ('name', 'Azizbek')\n",
      "The first key-value pair in the dictionary is: The dictionary is empty.\n"
     ]
    }
   ],
   "source": [
    "def get_first_key_value_pair(dictionary):\n",
    "    if dictionary:\n",
    "        first_key = next(iter(dictionary))\n",
    "        return first_key, dictionary[first_key]\n",
    "    else:\n",
    "        return \"The dictionary is empty.\"\n",
    "sample_dict = {\n",
    "    'name': 'Azizbek',\n",
    "    'age': 17,\n",
    "    'city': 'New York'\n",
    "}\n",
    "\n",
    "first_key_value_pair = get_first_key_value_pair(sample_dict)\n",
    "print(f\"The first key-value pair in the dictionary is: {first_key_value_pair}\")\n",
    "\n",
    "empty_dict = {}\n",
    "first_key_value_pair = get_first_key_value_pair(empty_dict)\n",
    "print(f\"The first key-value pair in the dictionary is: {first_key_value_pair}\")"
   ]
  },
  {
   "cell_type": "code",
   "execution_count": null,
   "metadata": {},
   "outputs": [],
   "source": []
  }
 ],
 "metadata": {
  "kernelspec": {
   "display_name": "Python 3",
   "language": "python",
   "name": "python3"
  },
  "language_info": {
   "codemirror_mode": {
    "name": "ipython",
    "version": 3
   },
   "file_extension": ".py",
   "mimetype": "text/x-python",
   "name": "python",
   "nbconvert_exporter": "python",
   "pygments_lexer": "ipython3",
   "version": "3.10.10"
  }
 },
 "nbformat": 4,
 "nbformat_minor": 2
}
