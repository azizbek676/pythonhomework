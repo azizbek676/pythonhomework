{
 "cells": [
  {
   "cell_type": "markdown",
   "metadata": {},
   "source": [
    "List"
   ]
  },
  {
   "cell_type": "markdown",
   "metadata": {},
   "source": [
    "1"
   ]
  },
  {
   "cell_type": "code",
   "execution_count": 8,
   "metadata": {},
   "outputs": [
    {
     "name": "stdout",
     "output_type": "stream",
     "text": [
      "1\n"
     ]
    }
   ],
   "source": [
    "def count_occurrences(lst, element):\n",
    "    if not isinstance(lst, list):\n",
    "        raise ValueError(\"The first argument must be a list\")\n",
    "    return lst.count(element)\n",
    "my_list = input(\"Enter the list elements separated by commas: \")\n",
    "my_list = [int(x) for x in my_list.split(',')]\n",
    "element_to_count = int(input(\"Enter the count element\"))\n",
    "print(count_occurrences(my_list, element_to_count))"
   ]
  },
  {
   "cell_type": "markdown",
   "metadata": {},
   "source": [
    "2"
   ]
  },
  {
   "cell_type": "code",
   "execution_count": 9,
   "metadata": {},
   "outputs": [
    {
     "name": "stdout",
     "output_type": "stream",
     "text": [
      "Total: 2\n"
     ]
    }
   ],
   "source": [
    "def calculate_total(numbers):\n",
    "    return sum(numbers)\n",
    "\n",
    "my_list = input(\"Enter the list elements separated by commas: \")\n",
    "my_list = [int(x) for x in my_list.split(',')]\n",
    "total = calculate_total(my_list)\n",
    "print(\"Total:\", total)"
   ]
  },
  {
   "cell_type": "markdown",
   "metadata": {},
   "source": [
    "3"
   ]
  },
  {
   "cell_type": "code",
   "execution_count": 10,
   "metadata": {},
   "outputs": [
    {
     "name": "stdout",
     "output_type": "stream",
     "text": [
      "Largest element: 3\n"
     ]
    }
   ],
   "source": [
    "def find_largest(numbers):\n",
    "    if not numbers:\n",
    "        return None  \n",
    "    return max(numbers)\n",
    "my_list = input(\"Enter the list elements separated by commas: \")\n",
    "my_list = [int(x) for x in my_list.split(',')]\n",
    "largest = find_largest(my_list)\n",
    "print(\"Largest element:\", largest)"
   ]
  },
  {
   "cell_type": "markdown",
   "metadata": {},
   "source": [
    "4"
   ]
  },
  {
   "cell_type": "code",
   "execution_count": 11,
   "metadata": {},
   "outputs": [
    {
     "name": "stdout",
     "output_type": "stream",
     "text": [
      "Smallest element: 4\n"
     ]
    }
   ],
   "source": [
    "def find_smallest(numbers):\n",
    "    if not numbers:\n",
    "        return None  \n",
    "    return min(numbers)\n",
    "my_list = input(\"Enter the list elements separated by commas: \")\n",
    "my_list = [int(x) for x in my_list.split(',')]\n",
    "smallest = find_smallest(my_list)\n",
    "print(\"Smallest element:\", smallest)"
   ]
  },
  {
   "cell_type": "markdown",
   "metadata": {},
   "source": [
    "5"
   ]
  },
  {
   "cell_type": "code",
   "execution_count": 12,
   "metadata": {},
   "outputs": [
    {
     "name": "stdout",
     "output_type": "stream",
     "text": [
      "False\n"
     ]
    }
   ],
   "source": [
    "def check_element(lst, element):\n",
    "    return element in lst\n",
    "my_list = input(\"Enter the list elements separated by commas: \")\n",
    "my_list = [int(x) for x in my_list.split(',')]\n",
    "element_to_check =input(\"Enter the check element\")\n",
    "print(check_element(my_list, element_to_check))  "
   ]
  },
  {
   "cell_type": "markdown",
   "metadata": {},
   "source": [
    "6"
   ]
  },
  {
   "cell_type": "code",
   "execution_count": 1,
   "metadata": {},
   "outputs": [
    {
     "name": "stdout",
     "output_type": "stream",
     "text": [
      "1\n",
      "None\n"
     ]
    }
   ],
   "source": [
    "def first_element(lst):\n",
    "    if lst:\n",
    "        return lst[0]\n",
    "    else:\n",
    "        return None\n",
    "my_list = input(\"Enter the list elements separated by commas: \")\n",
    "my_list = [int(x) for x in my_list.split(',')]\n",
    "empty_list = []\n",
    "print(first_element(my_list))  \n",
    "print(first_element(empty_list))"
   ]
  },
  {
   "cell_type": "markdown",
   "metadata": {},
   "source": [
    "7"
   ]
  },
  {
   "cell_type": "code",
   "execution_count": 2,
   "metadata": {},
   "outputs": [
    {
     "name": "stdout",
     "output_type": "stream",
     "text": [
      "[1, 2, 3, 4]\n"
     ]
    }
   ],
   "source": [
    "my_list = input(\"Enter the list elements separated by commas: \")\n",
    "my_list = [int(x) for x in my_list.split(',')]\n",
    "\n",
    "my_list.pop()\n",
    "print(my_list)"
   ]
  },
  {
   "cell_type": "markdown",
   "metadata": {},
   "source": [
    "8"
   ]
  },
  {
   "cell_type": "code",
   "execution_count": 2,
   "metadata": {},
   "outputs": [
    {
     "name": "stdout",
     "output_type": "stream",
     "text": [
      "123\n"
     ]
    }
   ],
   "source": [
    "elements = input(\"Enter the list elements: \")\n",
    "#name = elements.split(',')\n",
    "sliced_list = elements[:3]\n",
    "print(sliced_list)"
   ]
  },
  {
   "cell_type": "markdown",
   "metadata": {},
   "source": [
    "9"
   ]
  },
  {
   "cell_type": "code",
   "execution_count": 29,
   "metadata": {},
   "outputs": [
    {
     "name": "stdout",
     "output_type": "stream",
     "text": [
      "['8', '7', '6', '4', '1']\n"
     ]
    }
   ],
   "source": [
    "elements = input(\"Enter the list elements: \")\n",
    "name = elements.split(',')\n",
    "name.reverse()\n",
    "print(name)"
   ]
  },
  {
   "cell_type": "markdown",
   "metadata": {},
   "source": [
    "10"
   ]
  },
  {
   "cell_type": "code",
   "execution_count": 34,
   "metadata": {},
   "outputs": [
    {
     "name": "stdout",
     "output_type": "stream",
     "text": [
      "After sort: ['0', '1', '5', '7', '8']\n"
     ]
    }
   ],
   "source": [
    "elements = input(\"Enter the list elements: \")\n",
    "name = elements.split(',')\n",
    "name.sort()\n",
    "print(\"After sort:\",name)"
   ]
  },
  {
   "cell_type": "markdown",
   "metadata": {},
   "source": [
    "11"
   ]
  },
  {
   "cell_type": "code",
   "execution_count": 6,
   "metadata": {},
   "outputs": [
    {
     "name": "stdout",
     "output_type": "stream",
     "text": [
      "['3', '2', '4', ',', '1']\n"
     ]
    }
   ],
   "source": [
    "elements = input(\"Enter the list elements: \")\n",
    "name=elements.split(',')\n",
    "unique_list = list(set(elements))\n",
    "print(unique_list)"
   ]
  },
  {
   "cell_type": "markdown",
   "metadata": {},
   "source": [
    "12\n"
   ]
  },
  {
   "cell_type": "code",
   "execution_count": 21,
   "metadata": {},
   "outputs": [
    {
     "data": {
      "text/plain": [
       "[1, 2, 3, 10, 4, 2, 2, 5, 2, 6]"
      ]
     },
     "execution_count": 21,
     "metadata": {},
     "output_type": "execute_result"
    }
   ],
   "source": [
    "sample_list= input(\"Enter the list elements: \")\n",
    "name=elements.split(',')\n",
    "sample_list = [1, 2, 3, 4, 2, 2, 5, 2, 6]\n",
    "element_to_insert = 10\n",
    "index_to_insert = 3\n",
    "sample_list.insert(index_to_insert, element_to_insert)\n",
    "sample_list\n"
   ]
  },
  {
   "cell_type": "markdown",
   "metadata": {},
   "source": [
    "13"
   ]
  },
  {
   "cell_type": "code",
   "execution_count": 36,
   "metadata": {},
   "outputs": [
    {
     "name": "stdout",
     "output_type": "stream",
     "text": [
      "0\n"
     ]
    }
   ],
   "source": [
    "sample_list=input(\"Enter the list elements: \")\n",
    "#name=elements.split(',')\n",
    "element_to_find = input(\"Enter the number:\")\n",
    "index_of_element = sample_list.index(element_to_find)  if element_to_find in sample_list else None\n",
    "print(index_of_element)"
   ]
  },
  {
   "cell_type": "markdown",
   "metadata": {},
   "source": [
    "14"
   ]
  },
  {
   "cell_type": "code",
   "execution_count": 37,
   "metadata": {},
   "outputs": [
    {
     "data": {
      "text/plain": [
       "False"
      ]
     },
     "execution_count": 37,
     "metadata": {},
     "output_type": "execute_result"
    }
   ],
   "source": [
    "sample_list=input(\"Enter the list elements: \")\n",
    "#name=elements.split(',')\n",
    "def is_list_empty(lst):\n",
    "    return len(lst) == 0\n",
    "is_empty = is_list_empty(sample_list)\n",
    "is_empty"
   ]
  },
  {
   "cell_type": "markdown",
   "metadata": {},
   "source": [
    "15"
   ]
  },
  {
   "cell_type": "code",
   "execution_count": 1,
   "metadata": {},
   "outputs": [
    {
     "name": "stdout",
     "output_type": "stream",
     "text": [
      "3\n"
     ]
    }
   ],
   "source": [
    "sample_list = input(\"Enter the list elements separated by commas: \")\n",
    "sample_list = [int(x) for x in sample_list.split(',')]\n",
    "\n",
    "def count_odd_numbers(lst):\n",
    "    return sum(1 for x in lst if x % 2 != 0)\n",
    "\n",
    "odd_count = count_odd_numbers(sample_list)\n",
    "print(odd_count)"
   ]
  },
  {
   "cell_type": "markdown",
   "metadata": {},
   "source": [
    "16"
   ]
  },
  {
   "cell_type": "code",
   "execution_count": 6,
   "metadata": {},
   "outputs": [
    {
     "data": {
      "text/plain": [
       "3"
      ]
     },
     "execution_count": 6,
     "metadata": {},
     "output_type": "execute_result"
    }
   ],
   "source": [
    "sample_list = input(\"Enter the list elements separated by commas: \")\n",
    "sample_list = [int(x) for x in sample_list.split(',')]\n",
    "def count_odd_numbers(lst):\n",
    "    return sum(1 for x in lst if x % 2 != 0)\n",
    "\n",
    "odd_count = count_odd_numbers(sample_list)\n",
    "\n",
    "odd_count"
   ]
  },
  {
   "cell_type": "markdown",
   "metadata": {},
   "source": [
    "17"
   ]
  },
  {
   "cell_type": "code",
   "execution_count": 47,
   "metadata": {},
   "outputs": [
    {
     "data": {
      "text/plain": [
       "'1,2,3,45,6,7,8,9,0'"
      ]
     },
     "execution_count": 47,
     "metadata": {},
     "output_type": "execute_result"
    }
   ],
   "source": [
    "list1 = input(\"Enter the list elements:\")\n",
    "list2 = input(\"Enter the list elements:\")\n",
    "name=elements.split(',')\n",
    "concatenated_list = list1 + list2\n",
    "concatenated_list"
   ]
  },
  {
   "cell_type": "markdown",
   "metadata": {},
   "source": [
    "18"
   ]
  },
  {
   "cell_type": "code",
   "execution_count": 2,
   "metadata": {},
   "outputs": [
    {
     "data": {
      "text/plain": [
       "True"
      ]
     },
     "execution_count": 2,
     "metadata": {},
     "output_type": "execute_result"
    }
   ],
   "source": [
    "sample_list =input(\"Enter the list elements:\")\n",
    "sublist_to_find = input(\"Enter find elements\")\n",
    "def is_sublist(lst, sublst):\n",
    "    n = len(sublst)\n",
    "    return any((sublst == lst[i:i+n]) for i in range(len(lst) - n + 1))\n",
    "sublist_exists = is_sublist(sample_list, sublist_to_find)\n",
    "sublist_exists"
   ]
  },
  {
   "cell_type": "markdown",
   "metadata": {},
   "source": [
    "19"
   ]
  },
  {
   "cell_type": "code",
   "execution_count": 2,
   "metadata": {},
   "outputs": [
    {
     "name": "stdout",
     "output_type": "stream",
     "text": [
      "[1, 2, 4, 4, 5]\n"
     ]
    }
   ],
   "source": [
    "sample_list = input(\"Enter the list elements separated by commas: \")\n",
    "sample_list = [int(x) for x in sample_list.split(',')]\n",
    "element_to_replace = int(input(\"Enter the element to replace: \"))\n",
    "new_element = int(input(\"Enter the new element: \"))\n",
    "\n",
    "def replace_first_occurrence(lst, old_element, new_element):\n",
    "    try:\n",
    "        index = lst.index(old_element)\n",
    "        lst[index] = new_element\n",
    "    except ValueError:\n",
    "        pass \n",
    "\n",
    "replace_first_occurrence(sample_list, element_to_replace, new_element)\n",
    "print(sample_list)"
   ]
  },
  {
   "cell_type": "markdown",
   "metadata": {},
   "source": [
    "20"
   ]
  },
  {
   "cell_type": "code",
   "execution_count": 7,
   "metadata": {},
   "outputs": [
    {
     "name": "stdout",
     "output_type": "stream",
     "text": [
      "The second largest element is: 4\n"
     ]
    }
   ],
   "source": [
    "def find_second_largest(lst):\n",
    "    if len(lst) < 2:\n",
    "        return None  \n",
    "    first, second = float('-inf'), float('-inf')\n",
    "    for number in lst:\n",
    "        if number > first:\n",
    "            first, second = number, first\n",
    "        elif first > number > second:\n",
    "            second = number\n",
    "    return second\n",
    "\n",
    "sample_list = sample_list = input(\"Enter the list elements separated by commas: \")\n",
    "sample_list = [int(x) for x in sample_list.split(',')]\n",
    "second_largest = find_second_largest(sample_list)\n",
    "print(\"The second largest element is:\", second_largest)"
   ]
  },
  {
   "cell_type": "markdown",
   "metadata": {},
   "source": [
    "21"
   ]
  },
  {
   "cell_type": "code",
   "execution_count": 19,
   "metadata": {},
   "outputs": [
    {
     "data": {
      "text/plain": [
       "'5'"
      ]
     },
     "execution_count": 19,
     "metadata": {},
     "output_type": "execute_result"
    }
   ],
   "source": [
    "sample_list = input(\"Enter the list\")\n",
    "def find_second_smallest(lst):\n",
    "    unique_elements = list(set(lst))  \n",
    "    unique_elements.sort()  \n",
    "    return unique_elements[1] if len(unique_elements) > 1 else None \n",
    "second_smallest = find_second_smallest(sample_list)\n",
    "second_smallest"
   ]
  },
  {
   "cell_type": "markdown",
   "metadata": {},
   "source": [
    "22"
   ]
  },
  {
   "cell_type": "code",
   "execution_count": 3,
   "metadata": {},
   "outputs": [
    {
     "name": "stdout",
     "output_type": "stream",
     "text": [
      "[2, 4, 6]\n"
     ]
    }
   ],
   "source": [
    "sample_list = input(\"Enter the list elements separated by commas: \")\n",
    "sample_list = [int(x) for x in sample_list.split(',')]\n",
    "\n",
    "def filter_even_numbers(lst):\n",
    "    return [x for x in lst if x % 2 == 0]\n",
    "\n",
    "even_numbers_list = filter_even_numbers(sample_list)\n",
    "print(even_numbers_list)"
   ]
  },
  {
   "cell_type": "markdown",
   "metadata": {},
   "source": [
    "23"
   ]
  },
  {
   "cell_type": "code",
   "execution_count": 4,
   "metadata": {},
   "outputs": [
    {
     "name": "stdout",
     "output_type": "stream",
     "text": [
      "[1, 3, 5]\n"
     ]
    }
   ],
   "source": [
    "sample_list = input(\"Enter odd numbers separated by commas: \")\n",
    "sample_list = [int(x) for x in sample_list.split(',')]\n",
    "\n",
    "def filter_odd_numbers(lst):\n",
    "    return [x for x in lst if x % 2 != 0]\n",
    "\n",
    "odd_numbers_list = filter_odd_numbers(sample_list)\n",
    "print(odd_numbers_list)"
   ]
  },
  {
   "cell_type": "markdown",
   "metadata": {},
   "source": [
    "24"
   ]
  },
  {
   "cell_type": "code",
   "execution_count": 4,
   "metadata": {},
   "outputs": [
    {
     "data": {
      "text/plain": [
       "3"
      ]
     },
     "execution_count": 4,
     "metadata": {},
     "output_type": "execute_result"
    }
   ],
   "source": [
    "sample_list = input(\"Enter odd numbers\")\n",
    "#name=sample_list.split(',')\n",
    "list_length = len(sample_list)\n",
    "list_length"
   ]
  },
  {
   "cell_type": "markdown",
   "metadata": {},
   "source": [
    "25"
   ]
  },
  {
   "cell_type": "code",
   "execution_count": null,
   "metadata": {},
   "outputs": [],
   "source": [
    "sample_list = input(\"Enter the list elements separated by commas: \")\n",
    "sample_list = sample_list.split(',')\n",
    "\n",
    "copied_list = sample_list.copy()\n",
    "print(copied_list)"
   ]
  },
  {
   "cell_type": "markdown",
   "metadata": {},
   "source": [
    "26"
   ]
  },
  {
   "cell_type": "code",
   "execution_count": 20,
   "metadata": {},
   "outputs": [
    {
     "data": {
      "text/plain": [
       "'9'"
      ]
     },
     "execution_count": 20,
     "metadata": {},
     "output_type": "execute_result"
    }
   ],
   "source": [
    "sample_list = input(\"Enter the list\")\n",
    "\n",
    "def get_middle_element(lst):\n",
    "    n = len(lst)\n",
    "    if n == 0:\n",
    "        return None\n",
    "    elif n % 2 == 1:\n",
    "        return lst[n // 2]\n",
    "    else:\n",
    "        return lst[n // 2 - 1:n // 2 + 1]\n",
    "middle_element = get_middle_element(sample_list)\n",
    "\n",
    "middle_element"
   ]
  },
  {
   "cell_type": "markdown",
   "metadata": {},
   "source": [
    "27"
   ]
  },
  {
   "cell_type": "code",
   "execution_count": 23,
   "metadata": {},
   "outputs": [
    {
     "data": {
      "text/plain": [
       "'6'"
      ]
     },
     "execution_count": 23,
     "metadata": {},
     "output_type": "execute_result"
    }
   ],
   "source": [
    "sample_list = input(\"Enter the list elements separated by commas: \")\n",
    "sample_list = [int(x) for x in sample_list.split(',')]\n",
    "\n",
    "start_index = 1\n",
    "end_index = 6\n",
    "\n",
    "def find_max_of_sublist(lst, start, end):\n",
    "    if start < 0 or end > len(lst) or start > end:\n",
    "        return None \n",
    "    sublist = lst[start:end]\n",
    "    return max(sublist) if sublist else None\n",
    "\n",
    "max_of_sublist = find_max_of_sublist(sample_list, start_index, end_index)\n",
    "\n",
    "print(max_of_sublist)"
   ]
  },
  {
   "cell_type": "markdown",
   "metadata": {},
   "source": [
    "28"
   ]
  },
  {
   "cell_type": "code",
   "execution_count": 26,
   "metadata": {},
   "outputs": [
    {
     "data": {
      "text/plain": [
       "'3'"
      ]
     },
     "execution_count": 26,
     "metadata": {},
     "output_type": "execute_result"
    }
   ],
   "source": [
    "sample_list = input(\"Enter the list\")\n",
    "start_index = 2\n",
    "end_index = 6\n",
    "\n",
    "def find_min_of_sublist(lst, start, end):\n",
    "    if start < 0 or end > len(lst) or start > end:\n",
    "        return None  \n",
    "    sublist = lst[start:end]\n",
    "    return min(sublist) if sublist else None\n",
    "\n",
    "min_of_sublist = find_min_of_sublist(sample_list, start_index, end_index)\n",
    "\n",
    "min_of_sublist"
   ]
  },
  {
   "cell_type": "markdown",
   "metadata": {},
   "source": [
    "29"
   ]
  },
  {
   "cell_type": "code",
   "execution_count": null,
   "metadata": {},
   "outputs": [],
   "source": [
    "sample_list = input(\"Enter the list elements separated by commas: \")\n",
    "sample_list = [int(x) for x in sample_list.split(',')]\n",
    "\n",
    "index_to_remove = 4\n",
    "\n",
    "def remove_element_by_index(lst, index):\n",
    "    if 0 <= index < len(lst):\n",
    "        lst.pop(index)\n",
    "\n",
    "remove_element_by_index(sample_list, index_to_remove)\n",
    "\n",
    "print(sample_list)"
   ]
  },
  {
   "cell_type": "markdown",
   "metadata": {},
   "source": [
    "30"
   ]
  },
  {
   "cell_type": "code",
   "execution_count": 34,
   "metadata": {},
   "outputs": [
    {
     "data": {
      "text/plain": [
       "False"
      ]
     },
     "execution_count": 34,
     "metadata": {},
     "output_type": "execute_result"
    }
   ],
   "source": [
    "sample_list =input(\"Enter the list elements:\")\n",
    "\n",
    "def is_list_sorted(lst):\n",
    "    return all(lst[i] <= lst[i + 1] for i in range(len(lst) - 1))\n",
    "\n",
    "is_sorted = is_list_sorted(sample_list)\n",
    "\n",
    "is_sorted"
   ]
  },
  {
   "cell_type": "markdown",
   "metadata": {},
   "source": [
    "31"
   ]
  },
  {
   "cell_type": "code",
   "execution_count": 5,
   "metadata": {},
   "outputs": [
    {
     "data": {
      "text/plain": [
       "[1, 1, 1, 1, 1, 2, 2, 2, 2, 2, 3, 3, 3, 3, 3, 4, 4, 4, 4, 4, 5, 5, 5, 5, 5]"
      ]
     },
     "execution_count": 5,
     "metadata": {},
     "output_type": "execute_result"
    }
   ],
   "source": [
    "sample_list = input(\"Enter the list elements separated by commas: \")\n",
    "sample_list = [int(x) for x in sample_list.split(',')]\n",
    "repeat_count = input(\"Enter the replase elements:\")\n",
    "\n",
    "def repeat_elements(lst, count):\n",
    "    return [element for element in lst for _ in range(count)]\n",
    "repeat_count = int(repeat_count)\n",
    "repeated_list = repeat_elements(sample_list, repeat_count)\n",
    "\n",
    "repeated_list"
   ]
  },
  {
   "cell_type": "markdown",
   "metadata": {},
   "source": [
    "32"
   ]
  },
  {
   "cell_type": "code",
   "execution_count": 10,
   "metadata": {},
   "outputs": [
    {
     "data": {
      "text/plain": [
       "[1, 1, 2, 2, 3, 3, 4, 4, 5, 5]"
      ]
     },
     "execution_count": 10,
     "metadata": {},
     "output_type": "execute_result"
    }
   ],
   "source": [
    "sample_list1 = input(\"Enter the list elements separated by commas: \")\n",
    "sample_list1 = [int(x) for x in sample_list1.split(',')]\n",
    "sample_list2 = input(\"Enter the list elements separated by commas: \")\n",
    "sample_list2 = [int(x) for x in sample_list2.split(',')]\n",
    "\n",
    "def merge_and_sort(lst1, lst2):\n",
    "    merged_list = lst1 + lst2\n",
    "    merged_list.sort()\n",
    "    return merged_list\n",
    "\n",
    "merged_sorted_list = merge_and_sort(sample_list1, sample_list2)\n",
    "\n",
    "merged_sorted_list"
   ]
  },
  {
   "cell_type": "markdown",
   "metadata": {},
   "source": [
    "33"
   ]
  },
  {
   "cell_type": "code",
   "execution_count": 5,
   "metadata": {},
   "outputs": [
    {
     "data": {
      "text/plain": [
       "[2]"
      ]
     },
     "execution_count": 5,
     "metadata": {},
     "output_type": "execute_result"
    }
   ],
   "source": [
    "sample_list1 = input(\"Enter the list elements separated by commas: \")\n",
    "sample_list1 = [int(x) for x in sample_list1.split(',')]\n",
    "element_to_find_indices = int(input(\"Enter the element to find indices: \"))\n",
    "\n",
    "def find_all_indices(lst, element):\n",
    "    return [index for index, value in enumerate(lst) if value == element]\n",
    "\n",
    "indices = find_all_indices(sample_list1, element_to_find_indices)\n",
    "\n",
    "indices"
   ]
  },
  {
   "cell_type": "markdown",
   "metadata": {},
   "source": [
    "34"
   ]
  },
  {
   "cell_type": "code",
   "execution_count": 7,
   "metadata": {},
   "outputs": [
    {
     "data": {
      "text/plain": [
       "[2, 3, 4, 5, 1]"
      ]
     },
     "execution_count": 7,
     "metadata": {},
     "output_type": "execute_result"
    }
   ],
   "source": [
    "sample_list = input(\"Enter the list elements separated by commas: \")\n",
    "sample_list = [int(x) for x in sample_list.split(',')]\n",
    "rotation_count = int(input(\"Enter the rotation count:\"))\n",
    "\n",
    "def rotate_list(lst, count):\n",
    "    if not lst:\n",
    "        return lst\n",
    "    count = count % len(lst)  \n",
    "    return lst[-count:] + lst[:-count]\n",
    "\n",
    "rotated_list = rotate_list(sample_list, rotation_count)\n",
    "\n",
    "rotated_list"
   ]
  },
  {
   "cell_type": "markdown",
   "metadata": {},
   "source": [
    "35"
   ]
  },
  {
   "cell_type": "code",
   "execution_count": 14,
   "metadata": {},
   "outputs": [
    {
     "data": {
      "text/plain": [
       "[11, 12, 13, 14, 15]"
      ]
     },
     "execution_count": 14,
     "metadata": {},
     "output_type": "execute_result"
    }
   ],
   "source": [
    "def create_range_list(start, end):\n",
    "    return list(range(start, end + 1))\n",
    "\n",
    "start = int(input(\"Enter the start of the range: \"))\n",
    "end = int(input(\"Enter the end of the range: \"))\n",
    "\n",
    "range_list = create_range_list(start, end)\n",
    "\n",
    "range_list"
   ]
  },
  {
   "cell_type": "markdown",
   "metadata": {},
   "source": [
    "36"
   ]
  },
  {
   "cell_type": "code",
   "execution_count": 15,
   "metadata": {},
   "outputs": [
    {
     "data": {
      "text/plain": [
       "15"
      ]
     },
     "execution_count": 15,
     "metadata": {},
     "output_type": "execute_result"
    }
   ],
   "source": [
    "sample_list = input(\"Enter the list elements separated by commas: \")\n",
    "sample_list = [int(x) for x in sample_list.split(',')]\n",
    "def sum_of_positive_numbers(lst):\n",
    "    return sum(x for x in lst if x > 0)\n",
    "\n",
    "positive_sum = sum_of_positive_numbers(sample_list)\n",
    "\n",
    "positive_sum"
   ]
  },
  {
   "cell_type": "markdown",
   "metadata": {},
   "source": [
    "37"
   ]
  },
  {
   "cell_type": "code",
   "execution_count": null,
   "metadata": {},
   "outputs": [],
   "source": [
    "sample_list = input(\"Enter the list elements separated by commas: \")\n",
    "sample_list = [int(x) for x in sample_list.split(',')]\n",
    "\n",
    "def sum_of_negative_numbers(lst):\n",
    "    return sum(x for x in lst if x < 0)\n",
    "\n",
    "negative_sum = sum_of_negative_numbers(sample_list)\n",
    "\n",
    "negative_sum"
   ]
  },
  {
   "cell_type": "markdown",
   "metadata": {},
   "source": [
    "38"
   ]
  },
  {
   "cell_type": "code",
   "execution_count": null,
   "metadata": {},
   "outputs": [],
   "source": [
    "sample_list = input(\"Enter the list elements separated by commas: \")\n",
    "sample_list = [int(x) for x in sample_list.split(',')]\n",
    "\n",
    "def is_palindrome(lst):\n",
    "    return lst == lst[::-1]\n",
    "\n",
    "palindrome_check = is_palindrome(sample_list)\n",
    "\n",
    "palindrome_check"
   ]
  },
  {
   "cell_type": "markdown",
   "metadata": {},
   "source": [
    "39"
   ]
  },
  {
   "cell_type": "code",
   "execution_count": 16,
   "metadata": {},
   "outputs": [
    {
     "data": {
      "text/plain": [
       "[[1], [2], [3], [4], [5]]"
      ]
     },
     "execution_count": 16,
     "metadata": {},
     "output_type": "execute_result"
    }
   ],
   "source": [
    "sample_list = input(\"Enter the list elements separated by commas: \")\n",
    "sample_list = [int(x) for x in sample_list.split(',')]\n",
    "sublist_size = int(input(\"Enter the element size: \"))\n",
    "\n",
    "def create_nested_list(lst, size):\n",
    "    return [lst[i:i + size] for i in range(0, len(lst), size)]\n",
    "\n",
    "nested_list = create_nested_list(sample_list, sublist_size)\n",
    "\n",
    "nested_list"
   ]
  },
  {
   "cell_type": "markdown",
   "metadata": {},
   "source": [
    "40"
   ]
  },
  {
   "cell_type": "code",
   "execution_count": 3,
   "metadata": {},
   "outputs": [
    {
     "data": {
      "text/plain": [
       "[1, 2]"
      ]
     },
     "execution_count": 3,
     "metadata": {},
     "output_type": "execute_result"
    }
   ],
   "source": [
    "sample_list = input(\"Enter the list elements separated by commas: \")\n",
    "sample_list = [int(x) for x in sample_list.split(',')]\n",
    "\n",
    "def get_unique_elements_in_order(lst):\n",
    "    seen = set()\n",
    "    unique_list = []\n",
    "    for element in lst:\n",
    "        if element not in seen:\n",
    "            unique_list.append(element)\n",
    "            seen.add(element)\n",
    "    return unique_list\n",
    "\n",
    "unique_elements_in_order = get_unique_elements_in_order(sample_list)\n",
    "\n",
    "unique_elements_in_order"
   ]
  }
 ],
 "metadata": {
  "kernelspec": {
   "display_name": "Python 3",
   "language": "python",
   "name": "python3"
  },
  "language_info": {
   "codemirror_mode": {
    "name": "ipython",
    "version": 3
   },
   "file_extension": ".py",
   "mimetype": "text/x-python",
   "name": "python",
   "nbconvert_exporter": "python",
   "pygments_lexer": "ipython3",
   "version": "3.10.10"
  }
 },
 "nbformat": 4,
 "nbformat_minor": 2
}
