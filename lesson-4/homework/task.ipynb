{
 "cells": [
  {
   "cell_type": "markdown",
   "metadata": {},
   "source": [
    "task4"
   ]
  },
  {
   "cell_type": "code",
   "execution_count": 1,
   "metadata": {},
   "outputs": [
    {
     "name": "stdout",
     "output_type": "stream",
     "text": [
      "Too low!\n",
      "You have 9 attempts left.\n",
      "Too low!\n",
      "You have 8 attempts left.\n",
      "Too low!\n",
      "You have 7 attempts left.\n",
      "Too low!\n",
      "You have 6 attempts left.\n",
      "Too low!\n",
      "You have 5 attempts left.\n",
      "Too high!\n",
      "You have 4 attempts left.\n",
      "Too low!\n",
      "You have 3 attempts left.\n",
      "Too low!\n",
      "You have 2 attempts left.\n",
      "Too low!\n",
      "You have 1 attempts left.\n",
      "Too high!\n",
      "You have 0 attempts left.\n",
      "You lost. Want to play again?\n"
     ]
    }
   ],
   "source": [
    "import random\n",
    "\n",
    "def play_game():\n",
    "    number_to_guess = random.randint(1, 100)\n",
    "    attempts = 10\n",
    "\n",
    "    while attempts > 0:\n",
    "        guess = int(input(\"Enter your guess (between 1 and 100): \"))\n",
    "        \n",
    "        if guess > number_to_guess:\n",
    "            print(\"Too high!\")\n",
    "        elif guess < number_to_guess:\n",
    "            print(\"Too low!\")\n",
    "        else:\n",
    "            print(\"You guessed it right!\")\n",
    "            return\n",
    "        \n",
    "        attempts -= 1\n",
    "        print(f\"You have {attempts} attempts left.\")\n",
    "    \n",
    "    print(\"You lost. Want to play again?\")\n",
    "    play_again = input(\"Type 'Y', 'YES', 'y', 'yes', 'ok' to play again: \")\n",
    "    if play_again in ['Y', 'YES', 'y', 'yes', 'ok']:\n",
    "        play_game()\n",
    "\n",
    "if __name__ == \"__main__\":\n",
    "    play_game()"
   ]
  },
  {
   "cell_type": "markdown",
   "metadata": {},
   "source": [
    "1task"
   ]
  },
  {
   "cell_type": "code",
   "execution_count": null,
   "metadata": {},
   "outputs": [
    {
     "name": "stdout",
     "output_type": "stream",
     "text": [
      "[1, 1, 3, 4]\n",
      "[1, 2, 3, 4, 5, 6]\n",
      "[2, 2, 5]\n"
     ]
    }
   ],
   "source": [
    "from collections import Counter\n",
    "\n",
    "def uncommon_elements(list1, list2):\n",
    "    count1 = Counter(list1)\n",
    "    count2 = Counter(list2)\n",
    "    \n",
    "    result = []\n",
    "    for num in count1:\n",
    "        if num not in count2:\n",
    "            result.extend([num] * count1[num])\n",
    "    for num in count2:\n",
    "        if num not in count1:\n",
    "            result.extend([num] * count2[num])\n",
    "    \n",
    "    return result\n",
    "print(uncommon_elements([1, 1, 2], [2, 3, 4])) \n",
    "print(uncommon_elements([1, 2, 3], [4, 5, 6]))  \n",
    "print(uncommon_elements([1, 1, 2, 3, 4, 2], [1, 3, 4, 5]))  \n"
   ]
  },
  {
   "cell_type": "markdown",
   "metadata": {},
   "source": [
    "Task2 "
   ]
  },
  {
   "cell_type": "code",
   "execution_count": 4,
   "metadata": {},
   "outputs": [
    {
     "name": "stdout",
     "output_type": "stream",
     "text": [
      "1\n",
      "4\n",
      "9\n",
      "16\n"
     ]
    }
   ],
   "source": [
    "def print_squares(n):  \n",
    "    i = 1  \n",
    "    while i < n:  \n",
    "        print(i * i)  \n",
    "        i += 1  \n",
    "num=int(input(\"Enter the number: \"))\n",
    "print_squares(num)"
   ]
  },
  {
   "cell_type": "markdown",
   "metadata": {},
   "source": [
    "task3"
   ]
  },
  {
   "cell_type": "code",
   "execution_count": 2,
   "metadata": {},
   "outputs": [
    {
     "name": "stdout",
     "output_type": "stream",
     "text": [
      "qas_wed_rfg_hjh_gfer_rth_jmn_bvd\n"
     ]
    }
   ],
   "source": [
    "def modify_text(txt):\n",
    "    vowels = \"aeiou\"\n",
    "    result = []\n",
    "    count = 0  \n",
    "\n",
    "    for i, char in enumerate(txt):\n",
    "        result.append(char)\n",
    "        count += 1\n",
    "        \n",
    "        if count == 3 and i + 1 < len(txt):  \n",
    "            count = 0\n",
    "            if char in vowels:\n",
    "                result.append(txt[i + 1]) \n",
    "                result.append(\"_\")\n",
    "            else:\n",
    "                result.append(\"_\")\n",
    "\n",
    "    return \"\".join(result)\n",
    "\n",
    "print(modify_text(input('Enter your text here')))      \n"
   ]
  },
  {
   "cell_type": "markdown",
   "metadata": {},
   "source": [
    "task5"
   ]
  },
  {
   "cell_type": "code",
   "execution_count": 12,
   "metadata": {},
   "outputs": [
    {
     "name": "stdout",
     "output_type": "stream",
     "text": [
      "Password is strong.\n"
     ]
    }
   ],
   "source": [
    "password = input('Enter your password:')\n",
    "\n",
    "if len(password) < 8:\n",
    "    print('Password too short')\n",
    "elif not any(char.isupper() for char in password):\n",
    "    print(\"Password must contain an uppercase letter.\")\n",
    "else:\n",
    "    print(\"Password is strong.\")"
   ]
  },
  {
   "cell_type": "markdown",
   "metadata": {},
   "source": [
    "task6"
   ]
  },
  {
   "cell_type": "code",
   "execution_count": 13,
   "metadata": {},
   "outputs": [
    {
     "name": "stdout",
     "output_type": "stream",
     "text": [
      "2 3 5 7 11 13 17 19 23 29 31 37 41 43 47 53 59 61 67 71 73 79 83 89 97 "
     ]
    }
   ],
   "source": [
    "for num in range(2, 101):  \n",
    "    is_prime = True\n",
    "\n",
    "    for i in range(2, int(num ** 0.5) + 1):  \n",
    "        if num % i == 0:\n",
    "            is_prime = False\n",
    "            break\n",
    "\n",
    "    if is_prime:\n",
    "        print(num, end=\" \")  "
   ]
  },
  {
   "cell_type": "markdown",
   "metadata": {},
   "source": [
    "###\n",
    "Bonus chalenge\n",
    "###"
   ]
  },
  {
   "cell_type": "code",
   "execution_count": null,
   "metadata": {},
   "outputs": [],
   "source": [
    "import random\n",
    "\n",
    "choices = [\"rock\", \"paper\", \"scissors\"]\n",
    "player_score = 0\n",
    "computer_score = 0\n",
    "\n",
    "while player_score < 5 and computer_score < 5:\n",
    "    computer_choice = random.choice(choices)\n",
    "    player_choice = input(\"Enter rock, paper, or scissors: \").strip().lower()\n",
    "\n",
    "    if player_choice not in choices:\n",
    "        print(\"Invalid choice! Please enter rock, paper, or scissors.\")\n",
    "        continue\n",
    "\n",
    "    print(f\"Computer chose: {computer_choice}\")\n",
    "\n",
    "    if player_choice == computer_choice:\n",
    "        print(\"It's a tie!\")\n",
    "    elif (player_choice == \"rock\" and computer_choice == \"scissors\") or \\\n",
    "         (player_choice == \"paper\" and computer_choice == \"rock\") or \\\n",
    "         (player_choice == \"scissors\" and computer_choice == \"paper\"):\n",
    "        print(\"You win this round!\")\n",
    "        player_score += 1\n",
    "    else:\n",
    "        print(\"Computer wins this round!\")\n",
    "        computer_score += 1\n",
    "\n",
    "    print(f\"Score - You: {player_score}, Computer: {computer_score}\\n\")\n",
    "\n",
    "if player_score == 5:\n",
    "    print(\"Congratulations! You won the game! 🎉\")\n",
    "else:\n",
    "    print(\"Computer wins the game! Better luck next time! 🤖\")\n"
   ]
  }
 ],
 "metadata": {
  "kernelspec": {
   "display_name": "Python 3",
   "language": "python",
   "name": "python3"
  },
  "language_info": {
   "codemirror_mode": {
    "name": "ipython",
    "version": 3
   },
   "file_extension": ".py",
   "mimetype": "text/x-python",
   "name": "python",
   "nbconvert_exporter": "python",
   "pygments_lexer": "ipython3",
   "version": "3.10.10"
  }
 },
 "nbformat": 4,
 "nbformat_minor": 2
}
