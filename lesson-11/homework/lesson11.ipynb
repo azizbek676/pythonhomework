{
 "cells": [
  {
   "cell_type": "code",
   "execution_count": 1,
   "metadata": {},
   "outputs": [
    {
     "name": "stdout",
     "output_type": "stream",
     "text": [
      "Collecting requestsNote: you may need to restart the kernel to use updated packages.\n"
     ]
    },
    {
     "name": "stderr",
     "output_type": "stream",
     "text": [
      "\n",
      "[notice] A new release of pip available: 22.3.1 -> 24.3.1\n",
      "[notice] To update, run: python.exe -m pip install --upgrade pip\n"
     ]
    },
    {
     "name": "stdout",
     "output_type": "stream",
     "text": [
      "\n",
      "  Downloading requests-2.32.3-py3-none-any.whl (64 kB)\n",
      "     -------------------------------------- 64.9/64.9 kB 387.9 kB/s eta 0:00:00\n",
      "Collecting charset-normalizer<4,>=2\n",
      "  Downloading charset_normalizer-3.4.1-cp310-cp310-win32.whl (95 kB)\n",
      "     -------------------------------------- 95.5/95.5 kB 604.5 kB/s eta 0:00:00\n",
      "Collecting certifi>=2017.4.17\n",
      "  Downloading certifi-2024.12.14-py3-none-any.whl (164 kB)\n",
      "     ------------------------------------ 164.9/164.9 kB 827.2 kB/s eta 0:00:00\n",
      "Collecting idna<4,>=2.5\n",
      "  Downloading idna-3.10-py3-none-any.whl (70 kB)\n",
      "     -------------------------------------- 70.4/70.4 kB 955.6 kB/s eta 0:00:00\n",
      "Collecting urllib3<3,>=1.21.1\n",
      "  Downloading urllib3-2.3.0-py3-none-any.whl (128 kB)\n",
      "     -------------------------------------- 128.4/128.4 kB 1.3 MB/s eta 0:00:00\n",
      "Installing collected packages: urllib3, idna, charset-normalizer, certifi, requests\n",
      "Successfully installed certifi-2024.12.14 charset-normalizer-3.4.1 idna-3.10 requests-2.32.3 urllib3-2.3.0\n"
     ]
    }
   ],
   "source": [
    "pip install requests"
   ]
  },
  {
   "cell_type": "markdown",
   "metadata": {},
   "source": [
    "Weather"
   ]
  },
  {
   "cell_type": "code",
   "execution_count": 5,
   "metadata": {},
   "outputs": [
    {
     "name": "stdout",
     "output_type": "stream",
     "text": [
      "Error fetching data, please check the city name and API key.\n"
     ]
    }
   ],
   "source": [
    "import requests\n",
    "api_key = 'your_api_key_here'\n",
    "city = 'Tashkent'\n",
    "url = f'http://api.openweathermap.org/data/2.5/weather?q={city}&appid={api_key}&units=metric'\n",
    "response = requests.get(url)\n",
    "data = response.json()\n",
    "if response.status_code == 200:\n",
    "    temperature = data['main']['temp']\n",
    "    humidity = data['main']['humidity']\n",
    "    pressure = data['main']['pressure']\n",
    "    weather_description = data['weather'][0]['description']\n",
    "    wind_speed = data['wind']['speed']\n",
    "    print(f\"Weather in {city}:\")\n",
    "    print(f\"Temperature: {temperature}°C\")\n",
    "    print(f\"Humidity: {humidity}%\")\n",
    "    print(f\"Pressure: {pressure} hPa\")\n",
    "    print(f\"Weather: {weather_description}\")\n",
    "    print(f\"Wind Speed: {wind_speed} m/s\")\n",
    "else:\n",
    "    print(\"Error fetching data, please check the city name and API key.\")\n"
   ]
  },
  {
   "cell_type": "markdown",
   "metadata": {},
   "source": [
    "Movie Recommendation System"
   ]
  },
  {
   "cell_type": "code",
   "execution_count": null,
   "metadata": {},
   "outputs": [],
   "source": [
    "import requests\n",
    "import random\n",
    "API_KEY = 'YOUR_API_KEY'\n",
    "BASE_URL = \"https://api.themoviedb.org/3\"\n",
    "def get_genres():\n",
    "    url = f\"{BASE_URL}/genre/movie/list?api_key={API_KEY}&language=en-US\"\n",
    "    response = requests.get(url)\n",
    "    data = response.json()\n",
    "    genres = data['genres']\n",
    "    return {genre['name']: genre['id'] for genre in genres}\n",
    "def get_random_movie(genre_id):\n",
    "    url = f\"{BASE_URL}/discover/movie?api_key={API_KEY}&with_genres={genre_id}&language=en-US\"\n",
    "    response = requests.get(url)\n",
    "    data = response.json()\n",
    "    if data['results']:\n",
    "        movie = random.choice(data['results'])\n",
    "        return movie['title'], movie['overview'], movie['release_date']\n",
    "    else:\n",
    "        return None\n",
    "\n",
    "def main():\n",
    "    genres = get_genres()\n",
    "    print(\"Available movie genres:\")\n",
    "    for genre in genres:\n",
    "        print(f\"- {genre}\")\n",
    "    \n",
    "    user_genre = input(\"Please enter a genre from the above list: \").strip()\n",
    "    if user_genre in genres:\n",
    "        genre_id = genres[user_genre]\n",
    "        movie = get_random_movie(genre_id)\n",
    "        \n",
    "        if movie:\n",
    "            title, overview, release_date = movie\n",
    "            print(f\"\\nMovie Recommendation: {title}\")\n",
    "            print(f\"Release Date: {release_date}\")\n",
    "            print(f\"Overview: {overview}\")\n",
    "        else:\n",
    "            print(\"No movies found for this genre.\")\n",
    "    else:\n",
    "        print(\"Invalid genre. Please try again.\")\n",
    "\n",
    "if __name__ == \"__main__\":\n",
    "    main()\n"
   ]
  }
 ],
 "metadata": {
  "kernelspec": {
   "display_name": "Python 3",
   "language": "python",
   "name": "python3"
  },
  "language_info": {
   "codemirror_mode": {
    "name": "ipython",
    "version": 3
   },
   "file_extension": ".py",
   "mimetype": "text/x-python",
   "name": "python",
   "nbconvert_exporter": "python",
   "pygments_lexer": "ipython3",
   "version": "3.10.10"
  }
 },
 "nbformat": 4,
 "nbformat_minor": 2
}
