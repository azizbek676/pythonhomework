{
 "cells": [
  {
   "cell_type": "markdown",
   "metadata": {},
   "source": [
    "Farm model"
   ]
  },
  {
   "cell_type": "code",
   "execution_count": 1,
   "metadata": {},
   "outputs": [
    {
     "name": "stdout",
     "output_type": "stream",
     "text": [
      "Bessie says Moo!\n",
      "Bessie is producing milk.\n",
      "Clucky says Cluck!\n",
      "Clucky laid an egg.\n",
      "Dolly says Baa!\n",
      "Dolly is being sheared for wool.\n"
     ]
    }
   ],
   "source": [
    "class Animal:\n",
    "    def __init__(self, name, sound):\n",
    "        self.name = name\n",
    "        self.sound = sound\n",
    "    \n",
    "    def make_sound(self):\n",
    "        return f\"{self.name} says {self.sound}!\"\n",
    "\n",
    "class Cow(Animal):\n",
    "    def __init__(self, name):\n",
    "        super().__init__(name, \"Moo\")\n",
    "    \n",
    "    def produce_milk(self):\n",
    "        return f\"{self.name} is producing milk.\"\n",
    "\n",
    "class Chicken(Animal):\n",
    "    def __init__(self, name):\n",
    "        super().__init__(name, \"Cluck\")\n",
    "    \n",
    "    def lay_egg(self):\n",
    "        return f\"{self.name} laid an egg.\"\n",
    "\n",
    "class Sheep(Animal):\n",
    "    def __init__(self, name):\n",
    "        super().__init__(name, \"Baa\")\n",
    "    \n",
    "    def shear_wool(self):\n",
    "        return f\"{self.name} is being sheared for wool.\"\n",
    "if __name__ == \"__main__\":\n",
    "    cow = Cow(\"Bessie\")\n",
    "    chicken = Chicken(\"Clucky\")\n",
    "    sheep = Sheep(\"Dolly\")\n",
    "    \n",
    "    print(cow.make_sound())\n",
    "    print(cow.produce_milk())\n",
    "    print(chicken.make_sound())\n",
    "    print(chicken.lay_egg())\n",
    "    print(sheep.make_sound())\n",
    "    print(sheep.shear_wool())\n"
   ]
  },
  {
   "cell_type": "code",
   "execution_count": 2,
   "metadata": {},
   "outputs": [
    {
     "ename": "ValueError",
     "evalue": "could not convert string to float: ''",
     "output_type": "error",
     "traceback": [
      "\u001b[1;31m---------------------------------------------------------------------------\u001b[0m",
      "\u001b[1;31mValueError\u001b[0m                                Traceback (most recent call last)",
      "Cell \u001b[1;32mIn[2], line 45\u001b[0m\n\u001b[0;32m     42\u001b[0m             {\u001b[38;5;124m\"\u001b[39m\u001b[38;5;124m1\u001b[39m\u001b[38;5;124m\"\u001b[39m: \u001b[38;5;28mself\u001b[39m\u001b[38;5;241m.\u001b[39mcreate_account, \u001b[38;5;124m\"\u001b[39m\u001b[38;5;124m2\u001b[39m\u001b[38;5;124m\"\u001b[39m: \u001b[38;5;28mself\u001b[39m\u001b[38;5;241m.\u001b[39mview_account, \u001b[38;5;124m\"\u001b[39m\u001b[38;5;124m3\u001b[39m\u001b[38;5;124m\"\u001b[39m: \u001b[38;5;28;01mlambda\u001b[39;00m: \u001b[38;5;28mself\u001b[39m\u001b[38;5;241m.\u001b[39mupdate_balance(\u001b[38;5;28;01mTrue\u001b[39;00m), \u001b[38;5;124m\"\u001b[39m\u001b[38;5;124m4\u001b[39m\u001b[38;5;124m\"\u001b[39m: \u001b[38;5;28;01mlambda\u001b[39;00m: \u001b[38;5;28mself\u001b[39m\u001b[38;5;241m.\u001b[39mupdate_balance(\u001b[38;5;28;01mFalse\u001b[39;00m)}\u001b[38;5;241m.\u001b[39mget(c, \u001b[38;5;28;01mlambda\u001b[39;00m: \u001b[38;5;28mprint\u001b[39m(\u001b[38;5;124m\"\u001b[39m\u001b[38;5;124mInvalid choice!\u001b[39m\u001b[38;5;124m\"\u001b[39m))()\n\u001b[0;32m     44\u001b[0m \u001b[38;5;28;01mif\u001b[39;00m \u001b[38;5;18m__name__\u001b[39m \u001b[38;5;241m==\u001b[39m \u001b[38;5;124m\"\u001b[39m\u001b[38;5;124m__main__\u001b[39m\u001b[38;5;124m\"\u001b[39m:\n\u001b[1;32m---> 45\u001b[0m     \u001b[43mBank\u001b[49m\u001b[43m(\u001b[49m\u001b[43m)\u001b[49m\u001b[38;5;241;43m.\u001b[39;49m\u001b[43mmenu\u001b[49m\u001b[43m(\u001b[49m\u001b[43m)\u001b[49m\n",
      "Cell \u001b[1;32mIn[2], line 42\u001b[0m, in \u001b[0;36mBank.menu\u001b[1;34m(self)\u001b[0m\n\u001b[0;32m     40\u001b[0m \u001b[38;5;28;01mdef\u001b[39;00m \u001b[38;5;21mmenu\u001b[39m(\u001b[38;5;28mself\u001b[39m):\n\u001b[0;32m     41\u001b[0m     \u001b[38;5;28;01mwhile\u001b[39;00m (c \u001b[38;5;241m:=\u001b[39m \u001b[38;5;28minput\u001b[39m(\u001b[38;5;124m\"\u001b[39m\u001b[38;5;130;01m\\n\u001b[39;00m\u001b[38;5;124m1. Create Account\u001b[39m\u001b[38;5;130;01m\\n\u001b[39;00m\u001b[38;5;124m2. View Account\u001b[39m\u001b[38;5;130;01m\\n\u001b[39;00m\u001b[38;5;124m3. Deposit\u001b[39m\u001b[38;5;130;01m\\n\u001b[39;00m\u001b[38;5;124m4. Withdraw\u001b[39m\u001b[38;5;130;01m\\n\u001b[39;00m\u001b[38;5;124m5. Exit\u001b[39m\u001b[38;5;130;01m\\n\u001b[39;00m\u001b[38;5;124mChoose: \u001b[39m\u001b[38;5;124m\"\u001b[39m)) \u001b[38;5;241m!=\u001b[39m \u001b[38;5;124m\"\u001b[39m\u001b[38;5;124m5\u001b[39m\u001b[38;5;124m\"\u001b[39m:\n\u001b[1;32m---> 42\u001b[0m         \u001b[43m{\u001b[49m\u001b[38;5;124;43m\"\u001b[39;49m\u001b[38;5;124;43m1\u001b[39;49m\u001b[38;5;124;43m\"\u001b[39;49m\u001b[43m:\u001b[49m\u001b[43m \u001b[49m\u001b[38;5;28;43mself\u001b[39;49m\u001b[38;5;241;43m.\u001b[39;49m\u001b[43mcreate_account\u001b[49m\u001b[43m,\u001b[49m\u001b[43m \u001b[49m\u001b[38;5;124;43m\"\u001b[39;49m\u001b[38;5;124;43m2\u001b[39;49m\u001b[38;5;124;43m\"\u001b[39;49m\u001b[43m:\u001b[49m\u001b[43m \u001b[49m\u001b[38;5;28;43mself\u001b[39;49m\u001b[38;5;241;43m.\u001b[39;49m\u001b[43mview_account\u001b[49m\u001b[43m,\u001b[49m\u001b[43m \u001b[49m\u001b[38;5;124;43m\"\u001b[39;49m\u001b[38;5;124;43m3\u001b[39;49m\u001b[38;5;124;43m\"\u001b[39;49m\u001b[43m:\u001b[49m\u001b[43m \u001b[49m\u001b[38;5;28;43;01mlambda\u001b[39;49;00m\u001b[43m:\u001b[49m\u001b[43m \u001b[49m\u001b[38;5;28;43mself\u001b[39;49m\u001b[38;5;241;43m.\u001b[39;49m\u001b[43mupdate_balance\u001b[49m\u001b[43m(\u001b[49m\u001b[38;5;28;43;01mTrue\u001b[39;49;00m\u001b[43m)\u001b[49m\u001b[43m,\u001b[49m\u001b[43m \u001b[49m\u001b[38;5;124;43m\"\u001b[39;49m\u001b[38;5;124;43m4\u001b[39;49m\u001b[38;5;124;43m\"\u001b[39;49m\u001b[43m:\u001b[49m\u001b[43m \u001b[49m\u001b[38;5;28;43;01mlambda\u001b[39;49;00m\u001b[43m:\u001b[49m\u001b[43m \u001b[49m\u001b[38;5;28;43mself\u001b[39;49m\u001b[38;5;241;43m.\u001b[39;49m\u001b[43mupdate_balance\u001b[49m\u001b[43m(\u001b[49m\u001b[38;5;28;43;01mFalse\u001b[39;49;00m\u001b[43m)\u001b[49m\u001b[43m}\u001b[49m\u001b[38;5;241;43m.\u001b[39;49m\u001b[43mget\u001b[49m\u001b[43m(\u001b[49m\u001b[43mc\u001b[49m\u001b[43m,\u001b[49m\u001b[43m \u001b[49m\u001b[38;5;28;43;01mlambda\u001b[39;49;00m\u001b[43m:\u001b[49m\u001b[43m \u001b[49m\u001b[38;5;28;43mprint\u001b[39;49m\u001b[43m(\u001b[49m\u001b[38;5;124;43m\"\u001b[39;49m\u001b[38;5;124;43mInvalid choice!\u001b[39;49m\u001b[38;5;124;43m\"\u001b[39;49m\u001b[43m)\u001b[49m\u001b[43m)\u001b[49m\u001b[43m(\u001b[49m\u001b[43m)\u001b[49m\n",
      "Cell \u001b[1;32mIn[2], line 24\u001b[0m, in \u001b[0;36mBank.create_account\u001b[1;34m(self)\u001b[0m\n\u001b[0;32m     22\u001b[0m \u001b[38;5;28;01mdef\u001b[39;00m \u001b[38;5;21mcreate_account\u001b[39m(\u001b[38;5;28mself\u001b[39m):\n\u001b[0;32m     23\u001b[0m     acc_num \u001b[38;5;241m=\u001b[39m \u001b[38;5;28mstr\u001b[39m(\u001b[38;5;28mlen\u001b[39m(\u001b[38;5;28mself\u001b[39m\u001b[38;5;241m.\u001b[39maccounts) \u001b[38;5;241m+\u001b[39m \u001b[38;5;241m1\u001b[39m)\u001b[38;5;241m.\u001b[39mzfill(\u001b[38;5;241m5\u001b[39m)\n\u001b[1;32m---> 24\u001b[0m     \u001b[38;5;28mself\u001b[39m\u001b[38;5;241m.\u001b[39maccounts[acc_num] \u001b[38;5;241m=\u001b[39m {\u001b[38;5;124m\"\u001b[39m\u001b[38;5;124mname\u001b[39m\u001b[38;5;124m\"\u001b[39m: \u001b[38;5;28minput\u001b[39m(\u001b[38;5;124m\"\u001b[39m\u001b[38;5;124mName: \u001b[39m\u001b[38;5;124m\"\u001b[39m), \u001b[38;5;124m\"\u001b[39m\u001b[38;5;124mbalance\u001b[39m\u001b[38;5;124m\"\u001b[39m: \u001b[38;5;28;43mfloat\u001b[39;49m\u001b[43m(\u001b[49m\u001b[38;5;28;43minput\u001b[39;49m\u001b[43m(\u001b[49m\u001b[38;5;124;43m\"\u001b[39;49m\u001b[38;5;124;43mInitial Deposit: \u001b[39;49m\u001b[38;5;124;43m\"\u001b[39;49m\u001b[43m)\u001b[49m\u001b[43m)\u001b[49m}\n\u001b[0;32m     25\u001b[0m     \u001b[38;5;28mself\u001b[39m\u001b[38;5;241m.\u001b[39msave()\n\u001b[0;32m     26\u001b[0m     \u001b[38;5;28mprint\u001b[39m(\u001b[38;5;124mf\u001b[39m\u001b[38;5;124m\"\u001b[39m\u001b[38;5;124mAccount created! Account Number: \u001b[39m\u001b[38;5;132;01m{\u001b[39;00macc_num\u001b[38;5;132;01m}\u001b[39;00m\u001b[38;5;124m\"\u001b[39m)\n",
      "\u001b[1;31mValueError\u001b[0m: could not convert string to float: ''"
     ]
    }
   ],
   "source": [
    "import json, os\n",
    "\n",
    "class Bank:\n",
    "    FILE = \"accounts.json\"\n",
    "\n",
    "    def __init__(self):\n",
    "        self.accounts = self.load()\n",
    "\n",
    "    def load(self):\n",
    "        if os.path.exists(self.FILE):\n",
    "            try:\n",
    "                with open(self.FILE, \"r\") as f:\n",
    "                    return json.load(f)\n",
    "            except json.JSONDecodeError:\n",
    "                pass\n",
    "        return {}\n",
    "\n",
    "    def save(self):\n",
    "        with open(self.FILE, \"w\") as f:\n",
    "            json.dump(self.accounts, f, indent=4)\n",
    "\n",
    "    def create_account(self):\n",
    "        acc_num = str(len(self.accounts) + 1).zfill(5)\n",
    "        self.accounts[acc_num] = {\"name\": input(\"Name: \"), \"balance\": float(input(\"Initial Deposit: \"))}\n",
    "        self.save()\n",
    "        print(f\"Account created! Account Number: {acc_num}\")\n",
    "\n",
    "    def view_account(self):\n",
    "        print(self.accounts.get(input(\"Account Number: \"), \"Account not found!\"))\n",
    "\n",
    "    def update_balance(self, is_deposit=True):\n",
    "        acc_num, amount = input(\"Account Number: \"), float(input(\"Amount: \"))\n",
    "        if acc_num in self.accounts:\n",
    "            self.accounts[acc_num][\"balance\"] += amount if is_deposit else -amount if self.accounts[acc_num][\"balance\"] >= amount else 0\n",
    "            self.save()\n",
    "            print(f\"New balance: ${self.accounts[acc_num]['balance']}\")\n",
    "        else:\n",
    "            print(\"Account not found!\")\n",
    "\n",
    "    def menu(self):\n",
    "        while (c := input(\"\\n1. Create Account\\n2. View Account\\n3. Deposit\\n4. Withdraw\\n5. Exit\\nChoose: \")) != \"5\":\n",
    "            {\"1\": self.create_account, \"2\": self.view_account, \"3\": lambda: self.update_balance(True), \"4\": lambda: self.update_balance(False)}.get(c, lambda: print(\"Invalid choice!\"))()\n",
    "\n",
    "if __name__ == \"__main__\":\n",
    "    Bank().menu()\n"
   ]
  }
 ],
 "metadata": {
  "kernelspec": {
   "display_name": "Python 3",
   "language": "python",
   "name": "python3"
  },
  "language_info": {
   "codemirror_mode": {
    "name": "ipython",
    "version": 3
   },
   "file_extension": ".py",
   "mimetype": "text/x-python",
   "name": "python",
   "nbconvert_exporter": "python",
   "pygments_lexer": "ipython3",
   "version": "3.10.10"
  }
 },
 "nbformat": 4,
 "nbformat_minor": 2
}
