{
 "cells": [
  {
   "cell_type": "code",
   "execution_count": 4,
   "metadata": {},
   "outputs": [
    {
     "name": "stdout",
     "output_type": "stream",
     "text": [
      "Requirement already satisfied: requests in c:\\users\\user\\appdata\\local\\programs\\python\\python310-32\\lib\\site-packages (2.32.3)\n",
      "Requirement already satisfied: charset-normalizer<4,>=2 in c:\\users\\user\\appdata\\local\\programs\\python\\python310-32\\lib\\site-packages (from requests) (3.4.1)\n",
      "Requirement already satisfied: idna<4,>=2.5 in c:\\users\\user\\appdata\\local\\programs\\python\\python310-32\\lib\\site-packages (from requests) (3.10)\n",
      "Requirement already satisfied: urllib3<3,>=1.21.1 in c:\\users\\user\\appdata\\local\\programs\\python\\python310-32\\lib\\site-packages (from requests) (2.3.0)\n",
      "Requirement already satisfied: certifi>=2017.4.17 in c:\\users\\user\\appdata\\local\\programs\\python\\python310-32\\lib\\site-packages (from requests) (2024.12.14)\n",
      "Note: you may need to restart the kernel to use updated packages.\n"
     ]
    },
    {
     "name": "stderr",
     "output_type": "stream",
     "text": [
      "\n",
      "[notice] A new release of pip available: 22.3.1 -> 24.3.1\n",
      "[notice] To update, run: python.exe -m pip install --upgrade pip\n"
     ]
    }
   ],
   "source": [
    "%pip install requests"
   ]
  },
  {
   "cell_type": "code",
   "execution_count": 5,
   "metadata": {},
   "outputs": [],
   "source": [
    "import requests"
   ]
  },
  {
   "cell_type": "code",
   "execution_count": 4,
   "metadata": {},
   "outputs": [
    {
     "data": {
      "text/plain": [
       "<Response [200]>"
      ]
     },
     "execution_count": 4,
     "metadata": {},
     "output_type": "execute_result"
    }
   ],
   "source": [
    "requests.get(\"https://example.com\")"
   ]
  },
  {
   "cell_type": "code",
   "execution_count": 6,
   "metadata": {},
   "outputs": [
    {
     "data": {
      "text/plain": [
       "requests.models.Response"
      ]
     },
     "execution_count": 6,
     "metadata": {},
     "output_type": "execute_result"
    }
   ],
   "source": [
    "res=requests.get(\"https://example.com\")\n",
    "type(res)"
   ]
  },
  {
   "cell_type": "code",
   "execution_count": 7,
   "metadata": {},
   "outputs": [
    {
     "data": {
      "text/plain": [
       "<Response [200]>"
      ]
     },
     "execution_count": 7,
     "metadata": {},
     "output_type": "execute_result"
    }
   ],
   "source": [
    "res"
   ]
  },
  {
   "cell_type": "code",
   "execution_count": 8,
   "metadata": {},
   "outputs": [
    {
     "data": {
      "text/plain": [
       "200"
      ]
     },
     "execution_count": 8,
     "metadata": {},
     "output_type": "execute_result"
    }
   ],
   "source": [
    "res.status_code"
   ]
  },
  {
   "cell_type": "markdown",
   "metadata": {},
   "source": [
    "Weather"
   ]
  },
  {
   "cell_type": "code",
   "execution_count": 8,
   "metadata": {},
   "outputs": [
    {
     "name": "stdout",
     "output_type": "stream",
     "text": [
      "Error fetching data, please check the city name and API key.\n"
     ]
    }
   ],
   "source": [
    "import requests\n",
    "api_key = 'your_api_key_here'\n",
    "city = 'Tashkent'\n",
    "url = f'http://api.openweathermap.org/data/2.5/weather?q={city}&appid={api_key}&units=metric'\n",
    "response = requests.get(url)\n",
    "data = response.json()\n",
    "if response.status_code == 200:\n",
    "    temperature = data['main']['temp']\n",
    "    humidity = data['main']['humidity']\n",
    "    pressure = data['main']['pressure']\n",
    "    weather_description = data['weather'][0]['description']\n",
    "    wind_speed = data['wind']['speed']\n",
    "    print(f\"Weather in {city}:\")\n",
    "    print(f\"Temperature: {temperature}°C\")\n",
    "    print(f\"Humidity: {humidity}%\")\n",
    "    print(f\"Pressure: {pressure} hPa\")\n",
    "    print(f\"Weather: {weather_description}\")\n",
    "    print(f\"Wind Speed: {wind_speed} m/s\")\n",
    "else:\n",
    "    print(\"Error fetching data, please check the city name and API key.\")\n"
   ]
  },
  {
   "cell_type": "markdown",
   "metadata": {},
   "source": [
    "Movie"
   ]
  },
  {
   "cell_type": "code",
   "execution_count": null,
   "metadata": {},
   "outputs": [
    {
     "name": "stdout",
     "output_type": "stream",
     "text": [
      "Error fetching genres: 401 Client Error: Unauthorized for url: https://api.themoviedb.org/3/genre/movie/list?api_key=YOUR_API_KEY&language=en-US\n",
      "Could not fetch genres.\n"
     ]
    }
   ],
   "source": [
    "import requests\n",
    "import random\n",
    "\n",
    "API_KEY = 'YOUR_API_KEY'  \n",
    "BASE_URL = \"https://api.themoviedb.org/3\"\n",
    "\n",
    "def get_genres():\n",
    "    url = f\"{BASE_URL}/genre/movie/list?api_key={API_KEY}&language=en-US\"\n",
    "    try:\n",
    "        response = requests.get(url)\n",
    "        response.raise_for_status()  \n",
    "        data = response.json()\n",
    "        genres = data['genres']\n",
    "        return {genre['name']: genre['id'] for genre in genres}\n",
    "    except requests.exceptions.RequestException as e:\n",
    "        print(f\"Error fetching genres: {e}\")\n",
    "        return {}\n",
    "\n",
    "def get_random_movie(genre_id):\n",
    "    url = f\"{BASE_URL}/discover/movie?api_key={API_KEY}&with_genres={genre_id}&language=en-US\"\n",
    "    try:\n",
    "        response = requests.get(url)\n",
    "        response.raise_for_status()  \n",
    "        data = response.json()\n",
    "        if data['results']:\n",
    "            movie = random.choice(data['results'])\n",
    "            return movie['title'], movie['overview'], movie['release_date']\n",
    "        else:\n",
    "            return None\n",
    "    except requests.exceptions.RequestException as e:\n",
    "        print(f\"Error fetching movie: {e}\")\n",
    "        return None\n",
    "\n",
    "def main():\n",
    "    genres = get_genres()\n",
    "    if not genres:\n",
    "        print(\"Could not fetch genres.\")\n",
    "        return\n",
    "\n",
    "    print(\"Available genres:\")\n",
    "    for genre in genres:\n",
    "        print(genre)\n",
    "\n",
    "    selected_genre = input(\"Enter a genre: \")\n",
    "    genre_id = genres.get(selected_genre)\n",
    "\n",
    "    if not genre_id:\n",
    "        print(\"Invalid genre selected.\")\n",
    "        return\n",
    "\n",
    "    movie = get_random_movie(genre_id)\n",
    "    if movie:\n",
    "        title, overview, release_date = movie\n",
    "        print(f\"Movie Recommendation: {title}\")\n",
    "        print(f\"Overview: {overview}\")\n",
    "        print(f\"Release Date: {release_date}\")\n",
    "    else:\n",
    "        print(\"No movies found for the selected genre.\")\n",
    "\n",
    "if __name__ == \"__main__\":\n",
    "    main()"
   ]
  }
 ],
 "metadata": {
  "kernelspec": {
   "display_name": "Python 3",
   "language": "python",
   "name": "python3"
  },
  "language_info": {
   "codemirror_mode": {
    "name": "ipython",
    "version": 3
   },
   "file_extension": ".py",
   "mimetype": "text/x-python",
   "name": "python",
   "nbconvert_exporter": "python",
   "pygments_lexer": "ipython3",
   "version": "3.10.10"
  }
 },
 "nbformat": 4,
 "nbformat_minor": 2
}
