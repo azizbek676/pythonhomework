{
 "cells": [
  {
   "cell_type": "markdown",
   "metadata": {},
   "source": [
    "Task-1    "
   ]
  },
  {
   "cell_type": "code",
   "execution_count": 10,
   "metadata": {},
   "outputs": [
    {
     "name": "stdout",
     "output_type": "stream",
     "text": [
      "Note: you may need to restart the kernel to use updated packages.\n"
     ]
    },
    {
     "name": "stderr",
     "output_type": "stream",
     "text": [
      "ERROR: Could not find a version that satisfies the requirement sqlite3 (from versions: none)\n",
      "ERROR: No matching distribution found for sqlite3\n"
     ]
    }
   ],
   "source": [
    "%pip install sqlite3"
   ]
  },
  {
   "cell_type": "code",
   "execution_count": 11,
   "metadata": {},
   "outputs": [],
   "source": [
    "import sqlite3"
   ]
  },
  {
   "cell_type": "code",
   "execution_count": 1,
   "metadata": {},
   "outputs": [
    {
     "name": "stdout",
     "output_type": "stream",
     "text": [
      "[('Kira Nerys', 29)]\n",
      "[('Benjamin Sisko', 'Human', 40, 'Captain'), ('Kira Nerys', 'Bajoran', 29, 'Major')]\n"
     ]
    }
   ],
   "source": [
    "import sqlite3\n",
    "\n",
    "def execute(query, params=()):\n",
    "    with sqlite3.connect(\"roster.db\") as conn:\n",
    "        cur = conn.cursor()\n",
    "        cur.execute(query, params)\n",
    "        conn.commit()\n",
    "        return cur.fetchall()\n",
    "\n",
    "def setup_db():\n",
    "    execute(\"CREATE TABLE IF NOT EXISTS Roster (Name TEXT, Species TEXT, Age INTEGER)\")\n",
    "    execute(\"DELETE FROM Roster\")\n",
    "    execute(\"INSERT INTO Roster VALUES (?, ?, ?)\", (\"Benjamin Sisko\", \"Human\", 40))\n",
    "    execute(\"INSERT INTO Roster VALUES (?, ?, ?)\", (\"Jadzia Dax\", \"Trill\", 300))\n",
    "    execute(\"INSERT INTO Roster VALUES (?, ?, ?)\", (\"Kira Nerys\", \"Bajoran\", 29))\n",
    "\n",
    "def update_data():\n",
    "    execute(\"UPDATE Roster SET Name = ? WHERE Name = ?\", (\"Ezri Dax\", \"Jadzia Dax\"))\n",
    "\n",
    "def query_bajoran():\n",
    "    print(execute(\"SELECT Name, Age FROM Roster WHERE Species = ?\", (\"Bajoran\",)))\n",
    "\n",
    "def delete_old():\n",
    "    execute(\"DELETE FROM Roster WHERE Age > 100\")\n",
    "\n",
    "def add_rank():\n",
    "    execute(\"ALTER TABLE Roster ADD COLUMN Rank TEXT\")\n",
    "    for name, rank in {\"Benjamin Sisko\": \"Captain\", \"Ezri Dax\": \"Lieutenant\", \"Kira Nerys\": \"Major\"}.items():\n",
    "        execute(\"UPDATE Roster SET Rank = ? WHERE Name = ?\", (rank, name))\n",
    "\n",
    "def sort_by_age():\n",
    "    print(execute(\"SELECT * FROM Roster ORDER BY Age DESC\"))\n",
    "\n",
    "if __name__ == \"__main__\":\n",
    "    setup_db()\n",
    "    update_data()\n",
    "    query_bajoran()\n",
    "    delete_old()\n",
    "    add_rank()\n",
    "    sort_by_age()\n"
   ]
  },
  {
   "cell_type": "code",
   "execution_count": null,
   "metadata": {},
   "outputs": [],
   "source": [
    "import sqlite3\n",
    "\n",
    "def execute(query, params=()):\n",
    "    with sqlite3.connect(\"library.db\") as conn:\n",
    "        cur = conn.cursor()\n",
    "        cur.execute(query, params)\n",
    "        conn.commit()\n",
    "        return cur.fetchall()\n",
    "\n",
    "def setup_db():\n",
    "    execute(\"CREATE TABLE IF NOT EXISTS Books (Title TEXT, Author TEXT, Year_Published INTEGER, Genre TEXT)\")\n",
    "    execute(\"DELETE FROM Books\")\n",
    "    books = [\n",
    "        (\"To Kill a Mockingbird\", \"Harper Lee\", 1960, \"Fiction\"),\n",
    "        (\"1984\", \"George Orwell\", 1949, \"Dystopian\"),\n",
    "        (\"The Great Gatsby\", \"F. Scott Fitzgerald\", 1925, \"Classic\")\n",
    "    ]\n",
    "    execute(\"INSERT INTO Books VALUES (?, ?, ?, ?)\", books[0])\n",
    "    execute(\"INSERT INTO Books VALUES (?, ?, ?, ?)\", books[1])\n",
    "    execute(\"INSERT INTO Books VALUES (?, ?, ?, ?)\", books[2])\n",
    "\n",
    "def update_data():\n",
    "    execute(\"UPDATE Books SET Year_Published = ? WHERE Title = ?\", (1950, \"1984\"))\n",
    "\n",
    "def query_dystopian():\n",
    "    print(\"Dystopian books:\", execute(\"SELECT Title, Author FROM Books WHERE Genre = ?\", (\"Dystopian\",)))\n",
    "\n",
    "def delete_old():\n",
    "    execute(\"DELETE FROM Books WHERE Year_Published < 1950\")\n",
    "\n",
    "def add_rating():\n",
    "    execute(\"ALTER TABLE Books ADD COLUMN Rating REAL\")\n",
    "    ratings = {\"To Kill a Mockingbird\": 4.8, \"1984\": 4.7, \"The Great Gatsby\": 4.5}\n",
    "    for title, rating in ratings.items():\n",
    "        execute(\"UPDATE Books SET Rating = ? WHERE Title = ?\", (rating, title))\n",
    "\n",
    "def sort_by_year():\n",
    "    print(\"Books sorted by year:\", execute(\"SELECT * FROM Books ORDER BY Year_Published ASC\"))\n",
    "\n",
    "def main():\n",
    "    setup_db()\n",
    "    update_data()\n",
    "    query_dystopian()\n",
    "    delete_old()\n",
    "    add_rating()\n",
    "    sort_by_year()\n",
    "\n",
    "if __name__ == \"__main__\":\n",
    "    main()"
   ]
  }
 ],
 "metadata": {
  "kernelspec": {
   "display_name": "Python 3",
   "language": "python",
   "name": "python3"
  },
  "language_info": {
   "codemirror_mode": {
    "name": "ipython",
    "version": 3
   },
   "file_extension": ".py",
   "mimetype": "text/x-python",
   "name": "python",
   "nbconvert_exporter": "python",
   "pygments_lexer": "ipython3",
   "version": "3.10.10"
  }
 },
 "nbformat": 4,
 "nbformat_minor": 2
}
