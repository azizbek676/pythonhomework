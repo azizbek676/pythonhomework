{
 "cells": [
  {
   "cell_type": "markdown",
   "metadata": {},
   "source": [
    "Task-1    "
   ]
  },
  {
   "cell_type": "code",
   "execution_count": 10,
   "metadata": {},
   "outputs": [
    {
     "name": "stdout",
     "output_type": "stream",
     "text": [
      "Note: you may need to restart the kernel to use updated packages.\n"
     ]
    },
    {
     "name": "stderr",
     "output_type": "stream",
     "text": [
      "ERROR: Could not find a version that satisfies the requirement sqlite3 (from versions: none)\n",
      "ERROR: No matching distribution found for sqlite3\n"
     ]
    }
   ],
   "source": [
    "%pip install sqlite3"
   ]
  },
  {
   "cell_type": "code",
   "execution_count": 11,
   "metadata": {},
   "outputs": [],
   "source": [
    "import sqlite3"
   ]
  },
  {
   "cell_type": "code",
   "execution_count": 1,
   "metadata": {},
   "outputs": [
    {
     "name": "stdout",
     "output_type": "stream",
     "text": [
      "[('Kira Nerys', 29)]\n",
      "[('Benjamin Sisko', 'Human', 40, 'Captain'), ('Kira Nerys', 'Bajoran', 29, 'Major')]\n"
     ]
    }
   ],
   "source": [
    "import sqlite3\n",
    "\n",
    "def execute(query, params=()):\n",
    "    with sqlite3.connect(\"roster.db\") as conn:\n",
    "        cur = conn.cursor()\n",
    "        cur.execute(query, params)\n",
    "        conn.commit()\n",
    "        return cur.fetchall()\n",
    "\n",
    "def setup_db():\n",
    "    execute(\"CREATE TABLE IF NOT EXISTS Roster (Name TEXT, Species TEXT, Age INTEGER)\")\n",
    "    execute(\"DELETE FROM Roster\")\n",
    "    execute(\"INSERT INTO Roster VALUES (?, ?, ?)\", (\"Benjamin Sisko\", \"Human\", 40))\n",
    "    execute(\"INSERT INTO Roster VALUES (?, ?, ?)\", (\"Jadzia Dax\", \"Trill\", 300))\n",
    "    execute(\"INSERT INTO Roster VALUES (?, ?, ?)\", (\"Kira Nerys\", \"Bajoran\", 29))\n",
    "\n",
    "def update_data():\n",
    "    execute(\"UPDATE Roster SET Name = ? WHERE Name = ?\", (\"Ezri Dax\", \"Jadzia Dax\"))\n",
    "\n",
    "def query_bajoran():\n",
    "    print(execute(\"SELECT Name, Age FROM Roster WHERE Species = ?\", (\"Bajoran\",)))\n",
    "\n",
    "def delete_old():\n",
    "    execute(\"DELETE FROM Roster WHERE Age > 100\")\n",
    "\n",
    "def add_rank():\n",
    "    execute(\"ALTER TABLE Roster ADD COLUMN Rank TEXT\")\n",
    "    for name, rank in {\"Benjamin Sisko\": \"Captain\", \"Ezri Dax\": \"Lieutenant\", \"Kira Nerys\": \"Major\"}.items():\n",
    "        execute(\"UPDATE Roster SET Rank = ? WHERE Name = ?\", (rank, name))\n",
    "\n",
    "def sort_by_age():\n",
    "    print(execute(\"SELECT * FROM Roster ORDER BY Age DESC\"))\n",
    "\n",
    "if __name__ == \"__main__\":\n",
    "    setup_db()\n",
    "    update_data()\n",
    "    query_bajoran()\n",
    "    delete_old()\n",
    "    add_rank()\n",
    "    sort_by_age()\n"
   ]
  },
  {
   "cell_type": "code",
   "execution_count": 3,
   "metadata": {},
   "outputs": [
    {
     "name": "stdout",
     "output_type": "stream",
     "text": [
      "Dystopian books: [['1984' 'George Orwell']]\n",
      "Books sorted by year: [['1984' 'George Orwell' 1950 'Dystopian' 4.7]\n",
      " ['To Kill a Mockingbird' 'Harper Lee' 1960 'Fiction' 4.8]]\n"
     ]
    }
   ],
   "source": [
    "import numpy as np\n",
    "\n",
    "def setup_db():\n",
    "    global books\n",
    "    books = np.array([\n",
    "        [\"To Kill a Mockingbird\", \"Harper Lee\", 1960, \"Fiction\"],\n",
    "        [\"1984\", \"George Orwell\", 1949, \"Dystopian\"],\n",
    "        [\"The Great Gatsby\", \"F. Scott Fitzgerald\", 1925, \"Classic\"]\n",
    "    ], dtype=object)\n",
    "\n",
    "def update_data():\n",
    "    global books\n",
    "    books[books[:, 0] == \"1984\", 2] = 1950\n",
    "\n",
    "def query_dystopian():\n",
    "    print(\"Dystopian books:\", books[books[:, 3] == \"Dystopian\", :2])\n",
    "\n",
    "def delete_old():\n",
    "    global books\n",
    "    books = books[books[:, 2].astype(int) >= 1950]\n",
    "\n",
    "def add_rating():\n",
    "    global books\n",
    "    ratings = {\"To Kill a Mockingbird\": 4.8, \"1984\": 4.7, \"The Great Gatsby\": 4.5}\n",
    "    rating_column = np.array([ratings.get(title, None) for title in books[:, 0]], dtype=object)\n",
    "    books = np.column_stack((books, rating_column))\n",
    "\n",
    "def sort_by_year():\n",
    "    sorted_books = books[books[:, 2].astype(int).argsort()]\n",
    "    print(\"Books sorted by year:\", sorted_books)\n",
    "\n",
    "def main():\n",
    "    setup_db()\n",
    "    update_data()\n",
    "    query_dystopian()\n",
    "    delete_old()\n",
    "    add_rating()\n",
    "    sort_by_year()\n",
    "\n",
    "if __name__ == \"__main__\":\n",
    "    main()\n",
    "\n"
   ]
  }
 ],
 "metadata": {
  "kernelspec": {
   "display_name": "Python 3",
   "language": "python",
   "name": "python3"
  },
  "language_info": {
   "codemirror_mode": {
    "name": "ipython",
    "version": 3
   },
   "file_extension": ".py",
   "mimetype": "text/x-python",
   "name": "python",
   "nbconvert_exporter": "python",
   "pygments_lexer": "ipython3",
   "version": "3.10.10"
  }
 },
 "nbformat": 4,
 "nbformat_minor": 2
}
