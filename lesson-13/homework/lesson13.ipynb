{
 "cells": [
  {
   "cell_type": "markdown",
   "metadata": {},
   "source": [
    "Task-1    "
   ]
  },
  {
   "cell_type": "code",
   "execution_count": 4,
   "metadata": {},
   "outputs": [
    {
     "name": "stdout",
     "output_type": "stream",
     "text": [
      "Note: you may need to restart the kernel to use updated packages.\n"
     ]
    },
    {
     "name": "stderr",
     "output_type": "stream",
     "text": [
      "ERROR: Could not find a version that satisfies the requirement sqlite3 (from versions: none)\n",
      "\n",
      "[notice] A new release of pip is available: 25.0 -> 25.0.1\n",
      "[notice] To update, run: python.exe -m pip install --upgrade pip\n",
      "ERROR: No matching distribution found for sqlite3\n"
     ]
    }
   ],
   "source": [
    "%pip install sqlite3"
   ]
  },
  {
   "cell_type": "code",
   "execution_count": 7,
   "metadata": {},
   "outputs": [],
   "source": [
    "import sqlite3\n",
    "\n",
    "def manage_roster_db():\n",
    "    conn = sqlite3.connect(\"roster.db\")\n",
    "    cursor = conn.cursor()\n",
    "\n",
    "    cursor.execute(\"\"\"\n",
    "        CREATE TABLE IF NOT EXISTS Roster (\n",
    "            Name TEXT,\n",
    "            Species TEXT,\n",
    "            Age INTEGER\n",
    "        )\n",
    "    \"\"\")\n",
    "\n",
    "\n",
    "    cursor.executemany(\"\"\"\n",
    "        INSERT INTO Roster (Name, Species, Age) VALUES (?, ?, ?)\n",
    "    \"\"\", [\n",
    "        (\"Benjamin Sisko\", \"Human\", 40),\n",
    "        (\"Jadzia Dax\", \"Trill\", 300),\n",
    "        (\"Kira Nerys\", \"Bajoran\", 29)\n",
    "    ])\n",
    "    cursor.execute(\"\"\"\n",
    "        UPDATE Roster SET Name = 'Ezri Dax' WHERE Name = 'Jadzia Dax'\n",
    "    \"\"\")\n",
    "\n",
    "    cursor.execute(\"SELECT Name, Age FROM Roster WHERE Species = 'Bajoran'\")\n",
    "    print(\"Bajoran characters:\", cursor.fetchall())\n",
    "\n",
    "    cursor.execute(\"DELETE FROM Roster WHERE Age > 100\")\n",
    "\n",
    "    cursor.execute(\"ALTER TABLE Roster ADD COLUMN Rank TEXT\")\n",
    "    cursor.executemany(\"\"\"\n",
    "        UPDATE Roster SET Rank = ? WHERE Name = ?\n",
    "    \"\"\", [\n",
    "        (\"Captain\", \"Benjamin Sisko\"),\n",
    "        (\"Lieutenant\", \"Ezri Dax\"),\n",
    "        (\"Major\", \"Kira Nerys\")\n",
    "    ])\n",
    "\n",
    "    cursor.execute(\"SELECT * FROM Roster ORDER BY Age DESC\")\n",
    "    print(\"Sorted Roster:\", cursor.fetchall())\n",
    "    conn.commit()\n",
    "    conn.close()"
   ]
  },
  {
   "cell_type": "code",
   "execution_count": null,
   "metadata": {},
   "outputs": [
    {
     "ename": "IndentationError",
     "evalue": "unexpected indent (4095145134.py, line 13)",
     "output_type": "error",
     "traceback": [
      "\u001b[1;36m  Cell \u001b[1;32mIn[9], line 13\u001b[1;36m\u001b[0m\n\u001b[1;33m    cursor.executemany(\"\"\"\u001b[0m\n\u001b[1;37m    ^\u001b[0m\n\u001b[1;31mIndentationError\u001b[0m\u001b[1;31m:\u001b[0m unexpected indent\n"
     ]
    }
   ],
   "source": [
    "import sqlite3\n",
    "    conn = sqlite3.connect(\"library.db\")\n",
    "    cursor = conn.cursor()\n",
    "    cursor.execute(\"\"\"\n",
    "        CREATE TABLE IF NOT EXISTS Books (\n",
    "            Title TEXT,\n",
    "            Author TEXT,\n",
    "            Year_Published INTEGER,\n",
    "            Genre TEXT\n",
    "        )\n",
    "    \"\"\")\n",
    "\n",
    "    cursor.executemany(\"\"\"\n",
    "        INSERT INTO Books (Title, Author, Year_Published, Genre) VALUES (?, ?, ?, ?)\n",
    "    \"\"\", [\n",
    "        (\"To Kill a Mockingbird\", \"Harper Lee\", 1960, \"Fiction\"),\n",
    "        (\"1984\", \"George Orwell\", 1949, \"Dystopian\"),\n",
    "        (\"The Great Gatsby\", \"F. Scott Fitzgerald\", 1925, \"Classic\")\n",
    "    ])\n",
    "    cursor.execute(\"UPDATE Books SET Year_Published = 1950 WHERE Title = '1984'\")\n",
    "    cursor.execute(\"SELECT Title, Author FROM Books WHERE Genre = 'Dystopian'\")\n",
    "    print(\"Dystopian Books:\", cursor.fetchall())\n",
    "    cursor.execute(\"DELETE FROM Books WHERE Year_Published < 1950\")\n",
    "    cursor.execute(\"ALTER TABLE Books ADD COLUMN Rating REAL\")\n",
    "    cursor.executemany(\"\"\"\n",
    "        UPDATE Books SET Rating = ? WHERE Title = ?\n",
    "    \"\"\", [\n",
    "        (4.8, \"To Kill a Mockingbird\"),\n",
    "        (4.7, \"1984\"),\n",
    "        (4.5, \"The Great Gatsby\")\n",
    "    ])\n",
    "    cursor.execute(\"SELECT * FROM Books ORDER BY Year_Published ASC\")\n",
    "    print(\"Sorted Books:\", cursor.fetchall())\n",
    "    conn.commit()\n",
    "    conn.close()\n",
    "    if __name__ == \"__main__\":\n",
    "    manage_roster_db()\n",
    "    manage_library_db()"
   ]
  }
 ],
 "metadata": {
  "kernelspec": {
   "display_name": "Python 3",
   "language": "python",
   "name": "python3"
  },
  "language_info": {
   "codemirror_mode": {
    "name": "ipython",
    "version": 3
   },
   "file_extension": ".py",
   "mimetype": "text/x-python",
   "name": "python",
   "nbconvert_exporter": "python",
   "pygments_lexer": "ipython3",
   "version": "3.10.10"
  }
 },
 "nbformat": 4,
 "nbformat_minor": 2
}
