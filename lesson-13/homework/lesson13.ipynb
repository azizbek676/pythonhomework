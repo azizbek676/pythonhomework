{
 "cells": [
  {
   "cell_type": "markdown",
   "metadata": {},
   "source": [
    "Task-1    "
   ]
  },
  {
   "cell_type": "code",
   "execution_count": 4,
   "metadata": {},
   "outputs": [
    {
     "name": "stdout",
     "output_type": "stream",
     "text": [
      "Note: you may need to restart the kernel to use updated packages.\n"
     ]
    },
    {
     "name": "stderr",
     "output_type": "stream",
     "text": [
      "ERROR: Could not find a version that satisfies the requirement sqlite3 (from versions: none)\n",
      "\n",
      "[notice] A new release of pip is available: 25.0 -> 25.0.1\n",
      "[notice] To update, run: python.exe -m pip install --upgrade pip\n",
      "ERROR: No matching distribution found for sqlite3\n"
     ]
    }
   ],
   "source": [
    "%pip install sqlite3"
   ]
  },
  {
   "cell_type": "code",
   "execution_count": 5,
   "metadata": {},
   "outputs": [
    {
     "name": "stdout",
     "output_type": "stream",
     "text": [
      "Bajoran Characters: [('Kira Nerys', 29)]\n",
      "Roster Sorted by Age: [('Benjamin Sisko', 'Human', 40, 'Captain'), ('Kira Nerys', 'Bajoran', 29, 'Major')]\n"
     ]
    }
   ],
   "source": [
    "import sqlite3\n",
    "conn = sqlite3.connect(\"roster.db\")\n",
    "cursor = conn.cursor()\n",
    "cursor.execute(\"\"\"\n",
    "    CREATE TABLE IF NOT EXISTS Roster (\n",
    "        Name TEXT,\n",
    "        Species TEXT,\n",
    "        Age INTEGER\n",
    "    )\n",
    "\"\"\")\n",
    "cursor.executemany(\"\"\"\n",
    "    INSERT INTO Roster (Name, Species, Age) VALUES (?, ?, ?)\n",
    "\"\"\", [\n",
    "    (\"Benjamin Sisko\", \"Human\", 40),\n",
    "    (\"Jadzia Dax\", \"Trill\", 300),\n",
    "    (\"Kira Nerys\", \"Bajoran\", 29)\n",
    "])\n",
    "cursor.execute(\"\"\"\n",
    "    UPDATE Roster SET Name = 'Ezri Dax' WHERE Name = 'Jadzia Dax'\n",
    "\"\"\")\n",
    "cursor.execute(\"\"\"\n",
    "    SELECT Name, Age FROM Roster WHERE Species = 'Bajoran'\n",
    "\"\"\")\n",
    "print(\"Bajoran Characters:\", cursor.fetchall())\n",
    "cursor.execute(\"\"\"\n",
    "    DELETE FROM Roster WHERE Age > 100\n",
    "\"\"\")\n",
    "\n",
    "cursor.execute(\"\"\"\n",
    "    ALTER TABLE Roster ADD COLUMN Rank TEXT\n",
    "\"\"\")\n",
    "cursor.executemany(\"\"\"\n",
    "    UPDATE Roster SET Rank = ? WHERE Name = ?\n",
    "\"\"\", [\n",
    "    (\"Captain\", \"Benjamin Sisko\"),\n",
    "    (\"Lieutenant\", \"Ezri Dax\"),\n",
    "    (\"Major\", \"Kira Nerys\")\n",
    "])\n",
    "cursor.execute(\"\"\"\n",
    "    SELECT * FROM Roster ORDER BY Age DESC\n",
    "\"\"\")\n",
    "print(\"Roster Sorted by Age:\", cursor.fetchall())\n",
    "conn.commit()\n",
    "conn.close()\n"
   ]
  },
  {
   "cell_type": "code",
   "execution_count": 6,
   "metadata": {},
   "outputs": [
    {
     "name": "stdout",
     "output_type": "stream",
     "text": [
      "Dystopian Books: [('1984', 'George Orwell')]\n"
     ]
    },
    {
     "ename": "OperationalError",
     "evalue": "duplicate column name: Rating",
     "output_type": "error",
     "traceback": [
      "\u001b[1;31m---------------------------------------------------------------------------\u001b[0m",
      "\u001b[1;31mOperationalError\u001b[0m                          Traceback (most recent call last)",
      "Cell \u001b[1;32mIn[6], line 29\u001b[0m\n\u001b[0;32m     25\u001b[0m \u001b[38;5;28mprint\u001b[39m(\u001b[38;5;124m\"\u001b[39m\u001b[38;5;124mDystopian Books:\u001b[39m\u001b[38;5;124m\"\u001b[39m, cursor\u001b[38;5;241m.\u001b[39mfetchall())\n\u001b[0;32m     26\u001b[0m cursor\u001b[38;5;241m.\u001b[39mexecute(\u001b[38;5;124m\"\"\"\u001b[39m\n\u001b[0;32m     27\u001b[0m \u001b[38;5;124m    DELETE FROM Books WHERE Year_Published < 1950\u001b[39m\n\u001b[0;32m     28\u001b[0m \u001b[38;5;124m\"\"\"\u001b[39m)\n\u001b[1;32m---> 29\u001b[0m \u001b[43mcursor\u001b[49m\u001b[38;5;241;43m.\u001b[39;49m\u001b[43mexecute\u001b[49m\u001b[43m(\u001b[49m\u001b[38;5;124;43m\"\"\"\u001b[39;49m\n\u001b[0;32m     30\u001b[0m \u001b[38;5;124;43m    ALTER TABLE Books ADD COLUMN Rating REAL\u001b[39;49m\n\u001b[0;32m     31\u001b[0m \u001b[38;5;124;43m\"\"\"\u001b[39;49m\u001b[43m)\u001b[49m\n\u001b[0;32m     32\u001b[0m cursor\u001b[38;5;241m.\u001b[39mexecutemany(\u001b[38;5;124m\"\"\"\u001b[39m\n\u001b[0;32m     33\u001b[0m \u001b[38;5;124m    UPDATE Books SET Rating = ? WHERE Title = ?\u001b[39m\n\u001b[0;32m     34\u001b[0m \u001b[38;5;124m\"\"\"\u001b[39m, [\n\u001b[1;32m   (...)\u001b[0m\n\u001b[0;32m     37\u001b[0m     (\u001b[38;5;241m4.5\u001b[39m, \u001b[38;5;124m\"\u001b[39m\u001b[38;5;124mThe Great Gatsby\u001b[39m\u001b[38;5;124m\"\u001b[39m)\n\u001b[0;32m     38\u001b[0m ])\n\u001b[0;32m     39\u001b[0m cursor\u001b[38;5;241m.\u001b[39mexecute(\u001b[38;5;124m\"\"\"\u001b[39m\n\u001b[0;32m     40\u001b[0m \u001b[38;5;124m    SELECT * FROM Books ORDER BY Year_Published ASC\u001b[39m\n\u001b[0;32m     41\u001b[0m \u001b[38;5;124m\"\"\"\u001b[39m)\n",
      "\u001b[1;31mOperationalError\u001b[0m: duplicate column name: Rating"
     ]
    }
   ],
   "source": [
    "import sqlite3\n",
    "conn = sqlite3.connect(\"library.db\")\n",
    "cursor = conn.cursor()\n",
    "cursor.execute(\"\"\"\n",
    "    CREATE TABLE IF NOT EXISTS Books (\n",
    "        Title TEXT,\n",
    "        Author TEXT,\n",
    "        Year_Published INTEGER,\n",
    "        Genre TEXT\n",
    "    )\n",
    "\"\"\")\n",
    "cursor.executemany(\"\"\"\n",
    "    INSERT INTO Books (Title, Author, Year_Published, Genre) VALUES (?, ?, ?, ?)\n",
    "\"\"\", [\n",
    "    (\"To Kill a Mockingbird\", \"Harper Lee\", 1960, \"Fiction\"),\n",
    "    (\"1984\", \"George Orwell\", 1949, \"Dystopian\"),\n",
    "    (\"The Great Gatsby\", \"F. Scott Fitzgerald\", 1925, \"Classic\")\n",
    "])\n",
    "cursor.execute(\"\"\"\n",
    "    UPDATE Books SET Year_Published = 1950 WHERE Title = '1984'\n",
    "\"\"\")\n",
    "cursor.execute(\"\"\"\n",
    "    SELECT Title, Author FROM Books WHERE Genre = 'Dystopian'\n",
    "\"\"\")\n",
    "print(\"Dystopian Books:\", cursor.fetchall())\n",
    "cursor.execute(\"\"\"\n",
    "    DELETE FROM Books WHERE Year_Published < 1950\n",
    "\"\"\")\n",
    "cursor.execute(\"\"\"\n",
    "    ALTER TABLE Books ADD COLUMN Rating REAL\n",
    "\"\"\")\n",
    "cursor.executemany(\"\"\"\n",
    "    UPDATE Books SET Rating = ? WHERE Title = ?\n",
    "\"\"\", [\n",
    "    (4.8, \"To Kill a Mockingbird\"),\n",
    "    (4.7, \"1984\"),\n",
    "    (4.5, \"The Great Gatsby\")\n",
    "])\n",
    "cursor.execute(\"\"\"\n",
    "    SELECT * FROM Books ORDER BY Year_Published ASC\n",
    "\"\"\")\n",
    "print(\"Books Sorted by Year:\", cursor.fetchall())\n",
    "conn.commit()\n",
    "conn.close()\n"
   ]
  }
 ],
 "metadata": {
  "kernelspec": {
   "display_name": "Python 3",
   "language": "python",
   "name": "python3"
  },
  "language_info": {
   "codemirror_mode": {
    "name": "ipython",
    "version": 3
   },
   "file_extension": ".py",
   "mimetype": "text/x-python",
   "name": "python",
   "nbconvert_exporter": "python",
   "pygments_lexer": "ipython3",
   "version": "3.10.10"
  }
 },
 "nbformat": 4,
 "nbformat_minor": 2
}
